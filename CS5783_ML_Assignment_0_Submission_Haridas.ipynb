{
  "nbformat": 4,
  "nbformat_minor": 0,
  "metadata": {
    "colab": {
      "provenance": [],
      "collapsed_sections": []
    },
    "kernelspec": {
      "name": "python3",
      "display_name": "Python 3"
    },
    "language_info": {
      "name": "python"
    }
  },
  "cells": [
    {
      "cell_type": "markdown",
      "source": [
        "\n",
        "# <center> CS  4783/5783\n",
        "# <center> Fall 2022\n",
        "# <center> Assignment 0 – Python Fundamentals\n",
        "# <center> Due: 09/02/2022 11:59 pm\n",
        "# <center> Submitted By: Haridas Das"
      ],
      "metadata": {
        "id": "NSyIu3o7ao0Y"
      }
    },
    {
      "cell_type": "code",
      "source": [],
      "metadata": {
        "id": "hJVDYvbKdBDn"
      },
      "execution_count": null,
      "outputs": []
    },
    {
      "cell_type": "markdown",
      "source": [
        "# Problem 1\n",
        "In this part of the assignment, you will work with file I/O operations,\n",
        "dictionaries, Numpy arrays and visualization with Matplotlib. You will write a\n",
        "simple Python script that will read a file named test.txt. You can hard\n",
        "code this into your program for convenience. A sample file is given on\n",
        "Canvas for your reference. Your program should read a text file and print a\n",
        "histogram of the letters present in the document. The code must have the\n",
        "histogram as both a dictionary, where the keys are letters and the values are\n",
        "the corresponding frequencies, as well as a Numpy array, where each index\n",
        "corresponds to a letter in alphabetical order. For example, the letter ‘a’\n",
        "corresponds to index 0, ‘b’ to index 1, etc.\n",
        "\n",
        "An example of a histogram for a line is given below:\n",
        "\n",
        "Input: The quick brown fox jumps over the lazy dog\n",
        "Output: {'a': 1, 'b': 1, 'c': 1, 'd': 1, 'e': 3, 'f': 1,\n",
        "'g': 1, 'h': 2,\n",
        "'i': 1, 'j': 1, 'k': 1, 'l': 1, 'm': 1, 'n': 1, 'o': 4,\n",
        "'p': 1, 'q': 1, 'r':\n",
        "2, 's': 1, 't': 2, 'u': 2, 'v': 1, 'w': 1, 'x': 1, 'y':\n",
        "1, 'z': 1}\n",
        "\n",
        "Given the computed histogram, create two bar graphs. In the first, the\n",
        "frequencies should be normalized i.e., the frequencies will sum to 1. In the\n",
        "second, they should be unnormalized. Make sure to generate titles\n",
        "appropriately for the graph and the axes. Display the plots to the user along\n",
        "with printing the histogram(s)."
      ],
      "metadata": {
        "id": "_E-i5hSydK-u"
      }
    },
    {
      "cell_type": "markdown",
      "source": [
        "# Solution of Problem 1"
      ],
      "metadata": {
        "id": "KabzHyjAemsU"
      }
    },
    {
      "cell_type": "code",
      "source": [
        "# import libraries\n",
        "import numpy as np\n",
        "import matplotlib.pyplot as plt"
      ],
      "metadata": {
        "id": "Lm-hopMSerBz"
      },
      "execution_count": 1,
      "outputs": []
    },
    {
      "cell_type": "code",
      "source": [
        "# Load the drive helper and mount \n",
        "from google.colab import drive\n",
        "# This will prompt for authorization.\n",
        "drive.mount('/content/drive') # access to all files to Google MyDrive\n",
        "# that is it Mounted at /content/drive"
      ],
      "metadata": {
        "id": "YeCeAaOxfMUN",
        "colab": {
          "base_uri": "https://localhost:8080/"
        },
        "outputId": "835418c5-0b09-4ca8-a065-3a8d85ee4b39"
      },
      "execution_count": 2,
      "outputs": [
        {
          "output_type": "stream",
          "name": "stdout",
          "text": [
            "Mounted at /content/drive\n"
          ]
        }
      ]
    },
    {
      "cell_type": "code",
      "source": [
        "# provide the link where my txt file is\n",
        "path='/content/drive/MyDrive/Colab Notebooks/CS 5783 ML/Assignment0/test.txt'"
      ],
      "metadata": {
        "id": "x5xQqc9KnhIg"
      },
      "execution_count": 3,
      "outputs": []
    },
    {
      "cell_type": "code",
      "source": [
        "# read the file named test.txt\n",
        "with open(path,'r') as text:  #  open(path, 'r'), where the 'r' means reading\n",
        "  df=text.read()\n",
        "  print(df)\n",
        "  df=sorted(df)"
      ],
      "metadata": {
        "colab": {
          "base_uri": "https://localhost:8080/"
        },
        "id": "ajgl2RAxoW7C",
        "outputId": "a8800406-8cb7-4d51-9d9f-33ef0399f990"
      },
      "execution_count": 4,
      "outputs": [
        {
          "output_type": "stream",
          "name": "stdout",
          "text": [
            "The quick brown fox jumps over a lazy dog\n",
            "Waltz, bad nymph, for quick jigs vex\n",
            "Glib jocks quiz nymph to vex dwarf\n",
            "Sphinx of black quartz, judge my vow\n",
            "How vexingly quick daft zebras jump\n",
            "The five boxing wizards jump quickly\n",
            "Jackdaws love my big sphinx of quartz\n",
            "Pack my box with five dozen liquor jugs\n",
            "Waltz, bad nymph, for quick jigs vex\n",
            "Quick zephyrs blow, vexing daft Jim\n",
            "Sphinx of black quartz, judge my vow\n",
            "Two driven jocks help fax my big quiz\n",
            "Five quacking zephyrs jolt my wax bed\n",
            "The five boxing wizards jump quickly\n",
            "Pack my box with five dozen liquor jugs\n",
            "The quick brown fox jumps over the lazy dog\n",
            "Jinxed wizards pluck ivy from the big quilt\n",
            "Crazy Fredrick bought many very exquisite opal jewels\n",
            "We promptly judged antique ivory buckles for the next prize\n",
            "A mad boxer shot a quick, gloved jab to the jaw of his dizzy opponent\n",
            "Jaded zombies acted quaintly but kept driving their oxen forward\n",
            "The job requires extra pluck and zeal from every young wage earner\n"
          ]
        }
      ]
    },
    {
      "cell_type": "code",
      "source": [
        "# Define function to get dictionary for the any letters from the text file\n",
        "def histogram_text(s):\n",
        "  dict = {}\n",
        "  for c in s:\n",
        "    if c != '\\n' and  c != ' ' and c != ',':\n",
        "      keys = dict.keys() # The dict. keys() method returns a dictionary view object that contains the list of keys of the dictionary.\n",
        "      if c in keys:\n",
        "        dict[c] += 1\n",
        "      else:\n",
        "        dict[c] =1\n",
        "  return dict\n",
        "df_histogram = histogram_text(df)\n",
        "print(df_histogram)\n",
        "# {} are used to define a dictionary in a \"list\" called a literal"
      ],
      "metadata": {
        "colab": {
          "base_uri": "https://localhost:8080/"
        },
        "id": "zhU-79KwgLA7",
        "outputId": "ee2749f1-5bcc-4b7e-96fb-7e48e3d6c11a"
      },
      "execution_count": 6,
      "outputs": [
        {
          "output_type": "stream",
          "name": "stdout",
          "text": [
            "{'A': 1, 'C': 1, 'F': 2, 'G': 1, 'H': 1, 'J': 4, 'P': 2, 'Q': 1, 'S': 2, 'T': 6, 'W': 3, 'a': 43, 'b': 24, 'c': 22, 'd': 30, 'e': 63, 'f': 20, 'g': 22, 'h': 24, 'i': 56, 'j': 19, 'k': 22, 'l': 26, 'm': 22, 'n': 28, 'o': 50, 'p': 23, 'q': 21, 'r': 40, 's': 23, 't': 30, 'u': 38, 'v': 22, 'w': 19, 'x': 22, 'y': 27, 'z': 23}\n"
          ]
        }
      ]
    },
    {
      "cell_type": "code",
      "source": [
        "# This function creates the dictionary where we do consider only lower case letters. \n",
        "def histogram_text(s):\n",
        "  dict = {}\n",
        "  for c in s:\n",
        "    if c != '\\n' and  c != ' ' and c != ',':\n",
        "      c=c.lower() # convert each upper case letter to lower case letter \n",
        "      keys = dict.keys() # The dict. keys() method returns a dictionary view object that contains the list of keys of the dictionary.\n",
        "      if c in keys:\n",
        "        dict[c] += 1\n",
        "      else:\n",
        "        dict[c] =1\n",
        "  return dict\n",
        "df_histogram = histogram_text(df)\n",
        "print(df_histogram)\n",
        "# {} are used to define a dictionary in a \"list\" called a literal"
      ],
      "metadata": {
        "colab": {
          "base_uri": "https://localhost:8080/"
        },
        "id": "1E009O1wn0L2",
        "outputId": "a7d21c0b-f1b6-4b8a-8c99-b736fc777ead"
      },
      "execution_count": 9,
      "outputs": [
        {
          "output_type": "stream",
          "name": "stdout",
          "text": [
            "{'a': 44, 'c': 23, 'f': 22, 'g': 23, 'h': 25, 'j': 23, 'p': 25, 'q': 22, 's': 25, 't': 36, 'w': 22, 'b': 24, 'd': 30, 'e': 63, 'i': 56, 'k': 22, 'l': 26, 'm': 22, 'n': 28, 'o': 50, 'r': 40, 'u': 38, 'v': 22, 'x': 22, 'y': 27, 'z': 23}\n"
          ]
        }
      ]
    },
    {
      "cell_type": "markdown",
      "source": [
        "# Note on Second Part on the Difference between Histograms\n",
        "\n",
        "1.   Histograms visualize quantitative data or numerical data, whereas bar charts display categorical variables. \n",
        "2.  In most instances, the numerical data in a histogram will be continuous (having infinite values) \n",
        "3.   Unlike histograms, bar charts have a finite set of categories—like the ten boroughs displayed in the above bar graph.\n",
        "4. Histograms have no space in widths; bar charts have space between each catagories  \n",
        "\n",
        "*Reference:* https://www.storytellingwithdata.com/blog/2021/1/28/histograms-and-bar-charts\n",
        "\n",
        "\n",
        "\n",
        "# Therefore we will find bar graphs as it works for the charecter. "
      ],
      "metadata": {
        "id": "2QJVa2zJvryK"
      }
    },
    {
      "cell_type": "code",
      "source": [
        "# Bar graphs for the normalized frequencies\n",
        "df_histogram = histogram_text(df)\n",
        "values=df_histogram.values()\n",
        "keys=df_histogram.keys()\n",
        "print(values)\n",
        "sum(values)\n",
        "len(values)\n",
        "factor=1.0/sum(values)\n",
        "for c in df_histogram:\n",
        "  df_histogram[c] = round(df_histogram[c]*factor,15) # Round a number to the given number of decimal places\n",
        "print(df_histogram)\n",
        "normalized_values=df_histogram.values()\n",
        "keys=df_histogram.keys()\n",
        "print(keys)\n",
        "print(normalized_values)\n",
        "print('Sum of the normalized values',round(sum(normalized_values),15)) \n",
        "# Plot the figure\n",
        "plt.figure(figsize=(10, 7))\n",
        "plt.bar(keys,normalized_values)\n",
        "plt.title('Letters vs Frequency')\n",
        "plt.ylabel('Frequency')\n",
        "plt.xlabel('Letters')\n",
        "plt.show()"
      ],
      "metadata": {
        "colab": {
          "base_uri": "https://localhost:8080/",
          "height": 565
        },
        "id": "mRWmBf8enaTX",
        "outputId": "65242b2b-501e-4f4a-bb39-1950275e77f1"
      },
      "execution_count": 10,
      "outputs": [
        {
          "output_type": "stream",
          "name": "stdout",
          "text": [
            "dict_values([44, 23, 22, 23, 25, 23, 25, 22, 25, 36, 22, 24, 30, 63, 56, 22, 26, 22, 28, 50, 40, 38, 22, 22, 27, 23])\n",
            "{'a': 0.056194125159642, 'c': 0.029374201787995, 'f': 0.028097062579821, 'g': 0.029374201787995, 'h': 0.031928480204342, 'j': 0.029374201787995, 'p': 0.031928480204342, 'q': 0.028097062579821, 's': 0.031928480204342, 't': 0.045977011494253, 'w': 0.028097062579821, 'b': 0.030651340996169, 'd': 0.038314176245211, 'e': 0.080459770114943, 'i': 0.071519795657727, 'k': 0.028097062579821, 'l': 0.033205619412516, 'm': 0.028097062579821, 'n': 0.035759897828863, 'o': 0.063856960408685, 'r': 0.051085568326948, 'u': 0.0485312899106, 'v': 0.028097062579821, 'x': 0.028097062579821, 'y': 0.03448275862069, 'z': 0.029374201787995}\n",
            "dict_keys(['a', 'c', 'f', 'g', 'h', 'j', 'p', 'q', 's', 't', 'w', 'b', 'd', 'e', 'i', 'k', 'l', 'm', 'n', 'o', 'r', 'u', 'v', 'x', 'y', 'z'])\n",
            "dict_values([0.056194125159642, 0.029374201787995, 0.028097062579821, 0.029374201787995, 0.031928480204342, 0.029374201787995, 0.031928480204342, 0.028097062579821, 0.031928480204342, 0.045977011494253, 0.028097062579821, 0.030651340996169, 0.038314176245211, 0.080459770114943, 0.071519795657727, 0.028097062579821, 0.033205619412516, 0.028097062579821, 0.035759897828863, 0.063856960408685, 0.051085568326948, 0.0485312899106, 0.028097062579821, 0.028097062579821, 0.03448275862069, 0.029374201787995])\n",
            "Sum of the normalized values 1.0\n"
          ]
        },
        {
          "output_type": "display_data",
          "data": {
            "text/plain": [
              "<Figure size 720x504 with 1 Axes>"
            ],
            "image/png": "[encoded data removed]"
          },
          "metadata": {
            "needs_background": "light"
          }
        }
      ]
    },
    {
      "cell_type": "code",
      "source": [
        "# Bar graphs for the unnormalized frequencies\n",
        "df_histogram = histogram_text(df)\n",
        "values=df_histogram.values()\n",
        "keys=df_histogram.keys()\n",
        "print(keys)\n",
        "print(values)\n",
        "# Plot the figure\n",
        "plt.figure(figsize=(10, 7))\n",
        "plt.bar(keys,values)\n",
        "plt.title('Letters vs Normalized Frequency')\n",
        "plt.ylabel('Normalized Frequency')\n",
        "plt.xlabel('Letters')\n",
        "plt.show()"
      ],
      "metadata": {
        "colab": {
          "base_uri": "https://localhost:8080/",
          "height": 493
        },
        "id": "y2YgEht_p5zY",
        "outputId": "e3e01493-058e-45ba-c2a0-d2cb71185392"
      },
      "execution_count": 11,
      "outputs": [
        {
          "output_type": "stream",
          "name": "stdout",
          "text": [
            "dict_keys(['a', 'c', 'f', 'g', 'h', 'j', 'p', 'q', 's', 't', 'w', 'b', 'd', 'e', 'i', 'k', 'l', 'm', 'n', 'o', 'r', 'u', 'v', 'x', 'y', 'z'])\n",
            "dict_values([44, 23, 22, 23, 25, 23, 25, 22, 25, 36, 22, 24, 30, 63, 56, 22, 26, 22, 28, 50, 40, 38, 22, 22, 27, 23])\n"
          ]
        },
        {
          "output_type": "display_data",
          "data": {
            "text/plain": [
              "<Figure size 720x504 with 1 Axes>"
            ],
            "image/png": "[encoded data removed]"
          },
          "metadata": {
            "needs_background": "light"
          }
        }
      ]
    },
    {
      "cell_type": "markdown",
      "source": [
        "# Problem 2\n",
        "In this part of the assignment, you will be working with arrays using NumPy.\n",
        "You will be working with an image (test.png) that was provided on Canvas\n",
        "for convenience. You can read the image using OpenCV (installed by default\n",
        "on Colab) as follows.\n",
        "\n",
        "import cv2\n",
        "\n",
        "img = cv2.imread(‘input.png’)\n",
        "\n",
        "\n",
        "Perform the following operations:\n",
        "\n",
        "1. For each pixel in the image, i.e., every element in the array img,\n",
        "compute the Euclidean distance to the following points [255, 0, 0], [0,\n",
        "255, 0] and [0, 0, 255]. Once computed, set the value of the pixel to\n",
        "the point with the least distance. Save the image as output1.png\n",
        "2. Set the pixels that fall within a square (whose sides are of length 50)\n",
        "at the center of the image to be [0,0,0]. Save the image as\n",
        "output2.png."
      ],
      "metadata": {
        "id": "rxFkI6qE8YLQ"
      }
    },
    {
      "cell_type": "markdown",
      "source": [
        "# Solution of Problem 2: Part 1"
      ],
      "metadata": {
        "id": "x4mrBRtE9ybc"
      }
    },
    {
      "cell_type": "code",
      "source": [
        "# import libraries\n",
        "import numpy as np\n",
        "import pandas as pd\n",
        "import cv2\n",
        "from google.colab.patches import cv2_imshow\n",
        "# Load the image using the path and read the image as an array\n",
        "img=cv2.imread('/content/drive/MyDrive/Colab Notebooks/CS 5783 ML/Assignment0/test.png')\n",
        "import matplotlib.pyplot as plt"
      ],
      "metadata": {
        "id": "Aer7tJ8-9rsT"
      },
      "execution_count": 12,
      "outputs": []
    },
    {
      "cell_type": "code",
      "source": [
        "# Observe the Data for the image \n",
        "print(img)"
      ],
      "metadata": {
        "colab": {
          "base_uri": "https://localhost:8080/"
        },
        "id": "V93hQ7sZbyO8",
        "outputId": "f20a3f5d-b935-4d11-8dc5-425b577a9c05"
      },
      "execution_count": 13,
      "outputs": [
        {
          "output_type": "stream",
          "name": "stdout",
          "text": [
            "[[[103 180 219]\n",
            "  [116 185 230]\n",
            "  [110 186 226]\n",
            "  ...\n",
            "  [ 13  15  14]\n",
            "  [ 12  15  13]\n",
            "  [ 12  14  12]]\n",
            "\n",
            " [[119 193 230]\n",
            "  [120 192 224]\n",
            "  [124 192 226]\n",
            "  ...\n",
            "  [ 13  16  16]\n",
            "  [ 10  15  14]\n",
            "  [  9  14  11]]\n",
            "\n",
            " [[123 191 228]\n",
            "  [121 191 228]\n",
            "  [118 185 220]\n",
            "  ...\n",
            "  [ 13  16  14]\n",
            "  [ 11  13  13]\n",
            "  [ 10  15  11]]\n",
            "\n",
            " ...\n",
            "\n",
            " [[ 16  18  15]\n",
            "  [ 18  21  18]\n",
            "  [ 16  19  18]\n",
            "  ...\n",
            "  [ 45  45  81]\n",
            "  [ 35  43  70]\n",
            "  [ 43  51  72]]\n",
            "\n",
            " [[ 17  17  16]\n",
            "  [ 19  18  17]\n",
            "  [ 20  19  20]\n",
            "  ...\n",
            "  [ 40  38  80]\n",
            "  [ 40  39  68]\n",
            "  [ 42  43  59]]\n",
            "\n",
            " [[ 19  19  15]\n",
            "  [ 18  20  20]\n",
            "  [ 17  19  18]\n",
            "  ...\n",
            "  [ 39  43  65]\n",
            "  [ 38  37  58]\n",
            "  [ 34  39  52]]]\n"
          ]
        }
      ]
    },
    {
      "cell_type": "code",
      "source": [
        "# Define RGB data where (255,0,0) is Red, (0,255,0) is slime, and (0,0,255) is Blue. \n",
        "point=np.array([[255,0,0],[0,255,0],[0,0,255]]) "
      ],
      "metadata": {
        "id": "NNsY80EqRK_9"
      },
      "execution_count": 14,
      "outputs": []
    },
    {
      "cell_type": "code",
      "source": [
        "#Find the least euclidean distance and its position for a particular pixel\n",
        "dist={}\n",
        "for k in range(len(point)):\n",
        "  dist[k]=np.linalg.norm(img[0,0,:]-point[k])\n",
        "print(dist) \n",
        "# find the min of the euclidean distance and its corresponding index\n",
        "min=dist[0];\n",
        "for k in range(1,len(point)):\n",
        "  if dist[k]<min:\n",
        "    min=dist[k]\n",
        "    min_position=k\n",
        "print(min)\n",
        "print(min_position)\n",
        "point[min_position]"
      ],
      "metadata": {
        "colab": {
          "base_uri": "https://localhost:8080/"
        },
        "id": "Yo8dwVlDZ6kP",
        "outputId": "274874a8-9f44-4c3b-8b0f-5c70fab23f68"
      },
      "execution_count": 15,
      "outputs": [
        {
          "output_type": "stream",
          "name": "stdout",
          "text": [
            "{0: 321.65975812961125, 1: 253.36732228130762, 2: 210.48752932181043}\n",
            "210.48752932181043\n",
            "2\n"
          ]
        },
        {
          "output_type": "execute_result",
          "data": {
            "text/plain": [
              "array([  0,   0, 255])"
            ]
          },
          "metadata": {},
          "execution_count": 15
        }
      ]
    },
    {
      "cell_type": "code",
      "source": [
        "# Define function to construct the new image by replacing each pixel in the image with the RGB color using the least distance\n",
        "imga=np.copy(img)\n",
        "def least_distance_replaced_by_RGB_color(imga):\n",
        "  H, K = imga.shape[:2]\n",
        "  print(H,K)\n",
        "  for i in range(H):\n",
        "    for j in range(K):\n",
        "      dist={}\n",
        "      for k in range(len(point)):\n",
        "        dist[k]=np.linalg.norm(imga[i,j,:]-point[k])\n",
        "        #print(dist)\n",
        "        # find the min of the euclidean distance and its corresponding index \n",
        "      min=dist[0]\n",
        "      min_position=0\n",
        "      for k in range(1, len(point)):\n",
        "        if dist[k] < min:\n",
        "          min=dist[k]\n",
        "          min_position=k\n",
        "      imga[i,j,:]=point[min_position]\n",
        "  return imga"
      ],
      "metadata": {
        "id": "BX8sc-3wF6gA"
      },
      "execution_count": 16,
      "outputs": []
    },
    {
      "cell_type": "code",
      "source": [
        "least_distance_replaced_by_RGB_color(imga)\n",
        "print(imga)\n",
        "cv2_imshow(imga)\n",
        "cv2.imwrite('/content/drive/MyDrive/Colab Notebooks/CS 5783 ML/Assignment0/output1.png',imga)"
      ],
      "metadata": {
        "colab": {
          "base_uri": "https://localhost:8080/",
          "height": 1000
        },
        "id": "5SvZd3NgHmB-",
        "outputId": "5234422a-8e14-48e1-d3d2-56347c60f289"
      },
      "execution_count": 17,
      "outputs": [
        {
          "output_type": "stream",
          "name": "stdout",
          "text": [
            "128 128\n",
            "[[[  0   0 255]\n",
            "  [  0   0 255]\n",
            "  [  0   0 255]\n",
            "  ...\n",
            "  [  0 255   0]\n",
            "  [  0 255   0]\n",
            "  [  0 255   0]]\n",
            "\n",
            " [[  0   0 255]\n",
            "  [  0   0 255]\n",
            "  [  0   0 255]\n",
            "  ...\n",
            "  [  0 255   0]\n",
            "  [  0 255   0]\n",
            "  [  0 255   0]]\n",
            "\n",
            " [[  0   0 255]\n",
            "  [  0   0 255]\n",
            "  [  0   0 255]\n",
            "  ...\n",
            "  [  0 255   0]\n",
            "  [  0 255   0]\n",
            "  [  0 255   0]]\n",
            "\n",
            " ...\n",
            "\n",
            " [[  0 255   0]\n",
            "  [  0 255   0]\n",
            "  [  0 255   0]\n",
            "  ...\n",
            "  [  0   0 255]\n",
            "  [  0   0 255]\n",
            "  [  0   0 255]]\n",
            "\n",
            " [[255   0   0]\n",
            "  [255   0   0]\n",
            "  [255   0   0]\n",
            "  ...\n",
            "  [  0   0 255]\n",
            "  [  0   0 255]\n",
            "  [  0   0 255]]\n",
            "\n",
            " [[255   0   0]\n",
            "  [  0 255   0]\n",
            "  [  0 255   0]\n",
            "  ...\n",
            "  [  0   0 255]\n",
            "  [  0   0 255]\n",
            "  [  0   0 255]]]\n"
          ]
        },
        {
          "output_type": "display_data",
          "data": {
            "text/plain": [
              "<PIL.Image.Image image mode=RGB size=128x128 at 0x7F15DC8BABD0>"
            ],
            "image/png": "[encoded data removed]"
          },
          "metadata": {}
        },
        {
          "output_type": "execute_result",
          "data": {
            "text/plain": [
              "True"
            ]
          },
          "metadata": {},
          "execution_count": 17
        }
      ]
    },
    {
      "cell_type": "markdown",
      "source": [
        "# Solution of Problem 2 Part 2: "
      ],
      "metadata": {
        "id": "yRbAbiIzmuzK"
      }
    },
    {
      "cell_type": "code",
      "source": [
        "# Part 2(a): We set the pixels that fall within a square (whose sides are of length 50) at the center of the image to be [0,0,0] i. e. a black square. \n",
        "# read the data in new variable\n",
        "imgb = np.copy(img)\n",
        "h, w = img.shape[:2]\n",
        "# s and e stand for start and end, respectively.\n",
        "si = (h-50)/2\n",
        "ei=(si+50)\n",
        "sj=(w-50)/2\n",
        "ej=(sj+50)\n",
        "for i in range(h):\n",
        "  for j in range(w):\n",
        "    if (i >= si) and (i  <= ei) and (j>=sj) and (j<= ej):\n",
        "      imgb[i,j,:]=[0,0,0]\n",
        "cv2_imshow(imgb)\n",
        "# Part 2 (b): We save the image as output2.png\n",
        "cv2.imwrite('/content/drive/MyDrive/Colab Notebooks/CS 5783 ML/Assignment0/output2.png',imgb)"
      ],
      "metadata": {
        "id": "YyTyRdXzHrbD",
        "colab": {
          "base_uri": "https://localhost:8080/",
          "height": 162
        },
        "outputId": "861262b3-f5d6-4c3b-e6c7-7a0ca593b218"
      },
      "execution_count": 18,
      "outputs": [
        {
          "output_type": "display_data",
          "data": {
            "text/plain": [
              "<PIL.Image.Image image mode=RGB size=128x128 at 0x7F15DC826610>"
            ],
            "image/png": "[encoded data removed]"
          },
          "metadata": {}
        },
        {
          "output_type": "execute_result",
          "data": {
            "text/plain": [
              "True"
            ]
          },
          "metadata": {},
          "execution_count": 18
        }
      ]
    },
    {
      "cell_type": "markdown",
      "source": [
        "# Problem 3\n",
        "\n",
        "In this part of the assignment, you will be using NumPy to solve the following word problem. Specifically, you can use the LinAlg package from Numpy to solve the system of equations.\n",
        "\n",
        "Problem statement:\n",
        "\n",
        "You and a friend go to buy tacos. You get three soft tacos\n",
        "and three burritos and your total bill is $\\$11.25$. Your\n",
        "friend's bill is $\\$10.00$ for four soft tacos and two\n",
        "burritos. How much do soft tacos cost? How much do burritos\n",
        "cost?"
      ],
      "metadata": {
        "id": "ulTR5DFK9ubX"
      }
    },
    {
      "cell_type": "markdown",
      "source": [
        "# Solution of Problem 3\n",
        "\n",
        "Suppose soft tacos cost is t and the burritos cost is b. \n",
        "\n",
        "The cost of three soft tacos and three burritos= $3t +3b$, and thus the mathematical equation is $3t+3b=11.25$.\n",
        "\n",
        "Similarly, the cost of four soft tacos and two burritos= $4t +2b$, and thus the mathematical equation is $4t+2b=10$.\n",
        "\n",
        "Therefore the system of equation is following: \n",
        "\n",
        "$$3t+3b=11.25 \\\\ 4t+2b=10.00 $$\n",
        "\n",
        "We now solve the system using the linear algebra technique. "
      ],
      "metadata": {
        "id": "2-Xam2Ge-MgY"
      }
    },
    {
      "cell_type": "code",
      "source": [
        "#Read sytem of linear equation \n",
        "A=np.array([[3,3],[4,2]])\n",
        "# right hand side of the system as a column vector\n",
        "b=np.array([[11.25],[10.00]]) \n",
        "# Check to ensure that the matrix is nonsingular\n",
        "print('Determinant of the matrix is', np.linalg.det(A), 'which is not zero so the unique solution exist')\n",
        "# solve the linear system \n",
        "C=np.linalg.solve(A,b)\n",
        "print('Soft tacos cost is ', C[0])\n",
        "print('burritos cost is ', C[1])"
      ],
      "metadata": {
        "colab": {
          "base_uri": "https://localhost:8080/"
        },
        "id": "grz5agGG_gGi",
        "outputId": "12a73470-2f61-4ad6-da9a-b98ff6ba312c"
      },
      "execution_count": 19,
      "outputs": [
        {
          "output_type": "stream",
          "name": "stdout",
          "text": [
            "Determinant of the matrix is -6.0 which is not zero so the unique solution exist\n",
            "Soft tacos cost is  [1.25]\n",
            "burritos cost is  [2.5]\n"
          ]
        }
      ]
    },
    {
      "cell_type": "markdown",
      "source": [
        "# Conclusion\n",
        "Therefore each soft tacos cost is $\\$1.25$ and each burritos cost is $\\$2.5$."
      ],
      "metadata": {
        "id": "87dM3wRWGg1b"
      }
    }
  ]
}