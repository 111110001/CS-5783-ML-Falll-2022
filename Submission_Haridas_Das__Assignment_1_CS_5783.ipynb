{
  "nbformat": 4,
  "nbformat_minor": 0,
  "metadata": {
    "colab": {
      "provenance": [],
      "collapsed_sections": []
    },
    "kernelspec": {
      "name": "python3",
      "display_name": "Python 3"
    },
    "language_info": {
      "name": "python"
    }
  },
  "cells": [
    {
      "cell_type": "markdown",
      "source": [
        "\n",
        "# <center> CS  4783/5783\n",
        "# <center> Fall 2022\n",
        "# <center> Assignment 1 – Linear Regression \n",
        "# <center> Due: 09/16/2022 11:59 pm\n",
        "# <center> Submitted By: Haridas Das"
      ],
      "metadata": {
        "id": "NSyIu3o7ao0Y"
      }
    },
    {
      "cell_type": "markdown",
      "source": [
        "# Click Runtime --> Restart Runtime\n",
        "#This will clear out all variables from memory and let me start over."
      ],
      "metadata": {
        "id": "1Qjo9zl1cOSw"
      }
    },
    {
      "cell_type": "markdown",
      "source": [
        "# Problem 1\n",
        "Suppose that you are conducting a scientific experiment where you are observing the effects of one\n",
        "variable (x_train.npy and x_test.npy) on the output (y_train.npy and y_test.npy). On visualizing the\n",
        "relationship between the variables, you see the following plot:"
      ],
      "metadata": {
        "id": "_E-i5hSydK-u"
      }
    },
    {
      "cell_type": "markdown",
      "source": [
        "![image.png](data:image/png;base64,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)"
      ],
      "metadata": {
        "id": "g_2YrwUfDGs-"
      }
    },
    {
      "cell_type": "markdown",
      "source": [
        "Your goal is to come up with a linear regression model that can take the training data (x_train.npy and\n",
        "y_train.npy) and model the relationship between the variables x and y. You should implement your\n",
        "own version of linear regression either using gradient descent or normal equations. **You SHOULD\n",
        "NOT use any pre-packaged library such as Sci-Kit Learn.**\n",
        "\n",
        "Here are somethings to keep in mind for tackling this problem:\n",
        "\n",
        "1. Try to plot this relationship on your own using matplotlib. You can also visualize the test data\n",
        "to see if it gives you any clues about the underlying relationship between the variables.\n",
        "\n",
        "2. Use your knowledge gleaned from the previous step to answer the following questions:\n",
        "\n",
        "\n",
        "a. Is the relationship linear?\n",
        "\n",
        "b. Do you need feature engineering to add any non-linearity?\n",
        "\n",
        "i. If so, how can you engineer these features?\n",
        "\n",
        "ii. What are some functions that you can try?\n",
        "\n",
        "1. Plot each of them individually to verify!\n",
        "\n",
        "**You will need to write a short report detailing your thought process, the code you wrote in Python to\n",
        "implement the linear regression model and the equation that models the relationship between x and y\n",
        "that you found. You should provide evidence that corroborates your final statement such as plots,\n",
        "prediction errors, etc.**"
      ],
      "metadata": {
        "id": "2iZOwyhEDHx4"
      }
    },
    {
      "cell_type": "markdown",
      "source": [
        "# Slution of Problem 1"
      ],
      "metadata": {
        "id": "dPnh-5OREo6X"
      }
    },
    {
      "cell_type": "code",
      "source": [
        "# import libraries\n",
        "import numpy as np\n",
        "import matplotlib.pyplot as plt\n",
        "import pandas as pd"
      ],
      "metadata": {
        "id": "eKlEC40IEt_H"
      },
      "execution_count": 1,
      "outputs": []
    },
    {
      "cell_type": "code",
      "source": [
        "# load the drive helper and mount \n",
        "from google.colab import drive \n",
        "# load mounting drive to access the files on the google MyDrive. \n",
        "# Basically it is it Mounted at /content/drive that can be reached to see the path on the \"drive\"\n",
        "drive.mount('/content/drive')"
      ],
      "metadata": {
        "colab": {
          "base_uri": "https://localhost:8080/"
        },
        "id": "n8GjxJ3UAg3W",
        "outputId": "a03a2d04-e81e-4183-d3c6-d9fc94bd34df"
      },
      "execution_count": 2,
      "outputs": [
        {
          "output_type": "stream",
          "name": "stdout",
          "text": [
            "Mounted at /content/drive\n"
          ]
        }
      ]
    },
    {
      "cell_type": "code",
      "source": [
        "# provide the link where my data is located\n",
        "#path='/content/drive/MyDrive/Colab Notebooks/CS 5783 ML/Assignment1'"
      ],
      "metadata": {
        "id": "x5xQqc9KnhIg"
      },
      "execution_count": null,
      "outputs": []
    },
    {
      "cell_type": "code",
      "source": [
        "# load the train data\n",
        "X_train=np.load('/content/drive/MyDrive/Colab Notebooks/CS 5783 ML/Assignment1/x_train.npy')\n",
        "y_train=np.load('/content/drive/MyDrive/Colab Notebooks/CS 5783 ML/Assignment1/y_train.npy')\n",
        "#print(X_train)"
      ],
      "metadata": {
        "id": "HJECzqrGHKN5"
      },
      "execution_count": 3,
      "outputs": []
    },
    {
      "cell_type": "markdown",
      "source": [
        "# Information about the Data frame\n",
        "\n",
        "The data has 100 examples or observation for the training the model and to test the model we also have 100 examples in the data frame. Moreover, it has only one feature. \n"
      ],
      "metadata": {
        "id": "osfLnoXABjbK"
      }
    },
    {
      "cell_type": "markdown",
      "source": [
        "# 1.1 \n",
        "We build a linear regression model using normal equations using the x_train and y_rain data and find the model that shows the relationship between x and y. Here we plot the train and test data to find the relationship between x and y. "
      ],
      "metadata": {
        "id": "JhZ7jL1d6xf2"
      }
    },
    {
      "cell_type": "code",
      "source": [
        "# plot the relationship using the own using matplotlib.\n",
        "plt.plot(X_train,y_train,'.', markersize=10, label='GT')\n",
        "plt.xlabel(\"Train Input Data\")\n",
        "plt.ylabel(\"Train output Data\")\n",
        "plt.title(\"Train input vs. train input data\")\n",
        "plt.legend() # without the legend label='GT' wouln't work \n",
        "plt.show()"
      ],
      "metadata": {
        "colab": {
          "base_uri": "https://localhost:8080/",
          "height": 295
        },
        "id": "rG6ZHJF0Kvlx",
        "outputId": "e2cec6b6-feb8-49d6-f76d-8108ee893049"
      },
      "execution_count": null,
      "outputs": [
        {
          "output_type": "display_data",
          "data": {
            "text/plain": [
              "<Figure size 432x288 with 1 Axes>"
            ],
            "image/png": "[encoded data removed]"
          },
          "metadata": {
            "needs_background": "light"
          }
        }
      ]
    },
    {
      "cell_type": "code",
      "source": [
        "# look at the number of examples in the training data\n",
        "print(X_train.shape)\n",
        "print(y_train.shape)\n",
        "print(y_train.ndim)\n",
        "# Differences between dim, shape, rank, dimension and axis in numpy\n",
        "# https://stackoverflow.com/questions/22114921/explaining-the-differences-between-dim-shape-rank-dimension-and-axis-in-numpy"
      ],
      "metadata": {
        "colab": {
          "base_uri": "https://localhost:8080/"
        },
        "id": "o4_0pRuS6NG1",
        "outputId": "2e171aa8-9ad2-49fc-f6fe-44a40a8b46d4"
      },
      "execution_count": 4,
      "outputs": [
        {
          "output_type": "stream",
          "name": "stdout",
          "text": [
            "(100, 1)\n",
            "(100,)\n",
            "1\n"
          ]
        }
      ]
    },
    {
      "cell_type": "code",
      "source": [
        "# load the test data \n",
        "X_test=np.load('/content/drive/MyDrive/Colab Notebooks/CS 5783 ML/Assignment1/x_test.npy')\n",
        "y_test=np.load('/content/drive/MyDrive/Colab Notebooks/CS 5783 ML/Assignment1/y_test.npy')\n",
        "# look at the number of examples in the test data\n",
        "print(X_test.shape)\n",
        "print(y_test.shape)"
      ],
      "metadata": {
        "id": "ONN7b1oZW4EU",
        "colab": {
          "base_uri": "https://localhost:8080/"
        },
        "outputId": "f8f18894-c340-4842-c2be-39d816dd4547"
      },
      "execution_count": 5,
      "outputs": [
        {
          "output_type": "stream",
          "name": "stdout",
          "text": [
            "(100, 1)\n",
            "(100, 1)\n"
          ]
        }
      ]
    },
    {
      "cell_type": "markdown",
      "source": [
        "# Plotted the test data"
      ],
      "metadata": {
        "id": "qIrd0bJA7sdE"
      }
    },
    {
      "cell_type": "code",
      "source": [
        "plt.plot(X_test,y_test,'.',markersize='10', label='test data')\n",
        "plt.xlabel(\"Test Input Data\")\n",
        "plt.ylabel(\"Test output Data\")\n",
        "plt.title(\"Test inpt vs. test output data\")\n",
        "plt.legend() # without the legend label='GT' wouln't work \n",
        "plt.show()"
      ],
      "metadata": {
        "colab": {
          "base_uri": "https://localhost:8080/",
          "height": 295
        },
        "id": "aq0PAAPFXUZb",
        "outputId": "5a813300-a791-454f-ff1a-4aa423991b82"
      },
      "execution_count": null,
      "outputs": [
        {
          "output_type": "display_data",
          "data": {
            "text/plain": [
              "<Figure size 432x288 with 1 Axes>"
            ],
            "image/png": "[encoded data removed]"
          },
          "metadata": {
            "needs_background": "light"
          }
        }
      ]
    },
    {
      "cell_type": "markdown",
      "source": [
        "# 1.2 (a)\n",
        "The last two figures show that the relationship between variables is definitely nonlinear. If they were linear, there would be a straight line in the graphs. The training graph looks like a W shape, and the test data looks like an S shape. "
      ],
      "metadata": {
        "id": "K5g6D8EJ71d8"
      }
    },
    {
      "cell_type": "markdown",
      "source": [
        "# 1.2 (b)\n",
        "Yes, we need it. Since both figures show the nonlinear relationship; therefore,  we need to add nonlinearity to fit the data. "
      ],
      "metadata": {
        "id": "KuW12rq68rLU"
      }
    },
    {
      "cell_type": "markdown",
      "source": [
        "# 1.2.b (i)\n",
        "We can add some basis functions to engineer these features. \n",
        "Therefore using the original feature x, we might add some linear or nonlinear basis function on it. "
      ],
      "metadata": {
        "id": "QsmHcPNv9Zni"
      }
    },
    {
      "cell_type": "markdown",
      "source": [
        "# 1.2.b (ii)\n",
        "We can add some basis functions to engineer these features. \n",
        "Therefore using the original feature x, we might add nonlinaer feature $x^i, i =2,3,4,5,..$ as it showes the nonlinearity. "
      ],
      "metadata": {
        "id": "mZ44PJ1A93Ey"
      }
    },
    {
      "cell_type": "markdown",
      "source": [
        "Goal: Find the Linear Regression Model\n",
        "1. Linear Regression Model:\n",
        "<center>  $h(x)=\\sum_{i=0}^n \\theta^T x$\n",
        "\n",
        "\n",
        "2. Cost function or objective function\n",
        "\n",
        "<center> $J(\\theta)=\\frac{1}{2} \\sum_{i=1}^m (h_{\\theta}(x^{(i)})-y^{(i)})^2$\n",
        "\n",
        "3. Find the set of parameters $\\theta$ that will minimize the cost function $J(\\theta)$ using the normal equation \n",
        "\n",
        "<center> $\\theta = (X^TX)^{-1}X^Ty$, \n",
        "\n",
        "where $X$ is the input feature vector and $y$ is the expected target value.  \n",
        "\n",
        "# Remark \n",
        "1. For the SLR, we should consider the cost function as $J(\\theta)=\\frac{1}{2} \\sum_{i=1}^m (h_{\\theta}(x^{(i)})-y^{(i)})^2$ as you defined above. That means we need to consider \\frac{1}{2} as a convenient term . \n",
        "\n",
        "\n",
        "2. For the average least square error in SLR, I should consider $J(\\theta)/(no. of observations). "
      ],
      "metadata": {
        "id": "R9ymNj_7KuSt"
      }
    },
    {
      "cell_type": "markdown",
      "source": [
        "# 1.2.b(1)\n",
        "\n",
        "We now plot each of them by increasing polynomial functions.\n",
        "Since the constant represents a point, liner represents a line, quadratic parabola, cubic S shape, Quartic W shape, and Quintic W-like shape. So we will try the combination of them as a polynomial to best fit our training and test data. We elaborate on the process step by step in the following. "
      ],
      "metadata": {
        "id": "Z2kfpPQG-Zim"
      }
    },
    {
      "cell_type": "markdown",
      "source": [
        "# Step 1: Linear or 1st order basis\n",
        "\n",
        "Linear Regression with one feature vector X_train data"
      ],
      "metadata": {
        "id": "u5rUZUMZpxg5"
      }
    },
    {
      "cell_type": "code",
      "source": [
        "len(X_train)"
      ],
      "metadata": {
        "colab": {
          "base_uri": "https://localhost:8080/"
        },
        "id": "1torYiCPKjbt",
        "outputId": "bf06adb8-27ea-43d3-a63b-95da52840670"
      },
      "execution_count": null,
      "outputs": [
        {
          "output_type": "execute_result",
          "data": {
            "text/plain": [
              "100"
            ]
          },
          "metadata": {},
          "execution_count": 12
        }
      ]
    },
    {
      "cell_type": "code",
      "source": [
        "# we want to create a matrix whose first column represnts theta_0 and second column represnts theta_1 as we have single feature.\n",
        "# we will use a the reshape command:  numpy.reshape(a, newshape, order='C') to create a dummy column then append it to the X_train data.\n",
        "dummy_theta0_vec=np.ones((len(X_train),1)) # 100 values as vector \n",
        "#print(X_train)\n",
        "#x_train=np.reshape(X_train,(100,1))\n",
        "X_L1_system=np.append(dummy_theta0_vec,X_train,axis=1) # axis=1 is required otherwise the data frame doesn't look good\n",
        "#print(X_L1_system)\n",
        "# update the training data\n",
        "x_train=X_L1_system \n",
        "# Using the normal equation we find the set of parameters  θ  that will minimize the cost function  J(θ)\n",
        "theta_vec=np.linalg.inv(x_train.T.dot(x_train)).dot(x_train.T).dot(y_train) \n",
        "#print(theta_vec)\n",
        "# Using the matrix multiplication: np.matmul we will calculate the y_predict \n",
        "y_predict=np.matmul(x_train,theta_vec)\n",
        "plt.plot(X_train,y_predict,'mo') # plot X_train and y_predict using Magenta circle markers\n",
        "plt.plot(X_train,y_train, 'bo') # plot X_train and y_train using blue circle markers\n",
        "plt.xlabel('Input')\n",
        "plt.ylabel('Output')\n",
        "plt.title('Training data vs Simple Linear Regression')\n",
        "plt.show()\n",
        "obj_fun_error=np.sum(np.square(y_predict-y_train))/2\n",
        "print('Error in the cost function or objective function',obj_fun_error)\n",
        "mean_objfun_error=np.sum(np.square(y_predict-y_train))/(2*100)\n",
        "print('Mean Error in the cost function or objective function',mean_objfun_error)"
      ],
      "metadata": {
        "colab": {
          "base_uri": "https://localhost:8080/",
          "height": 330
        },
        "id": "mn5E0PJ2Km_W",
        "outputId": "b8ccb496-f48c-409e-a011-92b6e43921a0"
      },
      "execution_count": 6,
      "outputs": [
        {
          "output_type": "display_data",
          "data": {
            "text/plain": [
              "<Figure size 432x288 with 1 Axes>"
            ],
            "image/png": "[encoded data removed]"
          },
          "metadata": {
            "needs_background": "light"
          }
        },
        {
          "output_type": "stream",
          "name": "stdout",
          "text": [
            "Error in the cost function or objective function 8466.736319868796\n",
            "Mean Error in the cost function or objective function 84.66736319868797\n"
          ]
        }
      ]
    },
    {
      "cell_type": "markdown",
      "source": [
        "# Step 2: Combination of 1st and 2nd order basis\n",
        "\n",
        "Linear Regression with two feature vector X_train and X_train^2 *data*"
      ],
      "metadata": {
        "id": "yBwyU9aKqDTw"
      }
    },
    {
      "cell_type": "code",
      "source": [
        "# we want to create a matrix whose first column represnts theta_0 and second column represnts theta_1 as we have single feature.\n",
        "# we will use a the reshape command:  numpy.reshape(a, newshape, order='C') to create a dummy column then append it to the X_train data.\n",
        "dummy_theta0_vec=np.ones((100,1)) # 100 values as vector \n",
        "#print(X_train)\n",
        "X_train_sq=np.square(np.reshape(X_train,(100,1)))\n",
        "X_L2_system=np.append(X_L1_system,X_train_sq,axis=1) # axis=1 is required \n",
        "#print(X_L2_system)\n",
        "# update the training data\n",
        "x_train=X_L2_system \n",
        "# Using the normal equation we find the set of parameters  θ  that will minimize the cost function  J(θ)\n",
        "theta_vec=np.linalg.inv(x_train.T.dot(x_train)).dot(x_train.T).dot(y_train) \n",
        "#print(theta_vec)\n",
        "# Using the matrix multiplication: np.matmul we will calculate the y_predict \n",
        "y_predict=np.matmul(x_train,theta_vec)\n",
        "#print(y_predict)\n",
        "plt.plot(X_train,y_predict,'mo') # plot X_train and y_predict using Magenta circle markers\n",
        "plt.plot(X_train,y_train, 'bo') # plot X_train and y_train using blue circle markers\n",
        "plt.xlabel('Input')\n",
        "plt.ylabel('Output')\n",
        "plt.title('Training data vs Linear Regression using 2nd order polynomial')\n",
        "plt.show()\n",
        "obj_fun_error=np.sum(np.square(y_predict-y_train))/2\n",
        "print('Error in the cost function or objective function',obj_fun_error)\n",
        "mean_objfun_error=np.sum(np.square(y_predict-y_train))/(2*100)\n",
        "print('Mean Error in the cost function or objective function',mean_objfun_error)"
      ],
      "metadata": {
        "colab": {
          "base_uri": "https://localhost:8080/",
          "height": 330
        },
        "id": "aTIFpfiSQjmh",
        "outputId": "a013fdc2-6e51-466a-fed6-69929e4bb7b1"
      },
      "execution_count": 7,
      "outputs": [
        {
          "output_type": "display_data",
          "data": {
            "text/plain": [
              "<Figure size 432x288 with 1 Axes>"
            ],
            "image/png": "[encoded data removed]"
          },
          "metadata": {
            "needs_background": "light"
          }
        },
        {
          "output_type": "stream",
          "name": "stdout",
          "text": [
            "Error in the cost function or objective function 8466.565897192175\n",
            "Mean Error in the cost function or objective function 84.66565897192174\n"
          ]
        }
      ]
    },
    {
      "cell_type": "markdown",
      "source": [
        "# Step 3: Combination of 1st, 2nd, 3rd order basis\n",
        "\n",
        "Linear Regression with three feature vector X_train, X_train^2 and X_train^3 data"
      ],
      "metadata": {
        "id": "1CSZ-R3QsEk1"
      }
    },
    {
      "cell_type": "code",
      "source": [
        "# we want to create a matrix whose first column represnts theta_0 and second column represnts theta_1 as we have single feature.\n",
        "# we will use a the reshape command:  numpy.reshape(a, newshape, order='C') to create a dummy column then append it to the X_train data.\n",
        "#Gives a new shape to an array without changing its data.\n",
        "X_train_cube=(X_train**3).reshape(100,1)\n",
        "X_L3_system=np.append(X_L2_system,X_train_cube,axis=1) # axis=1 is required \n",
        "#print(X_L3_system)\n",
        "# update the training data\n",
        "x_train=X_L3_system \n",
        "# Using the normal equation we find the set of parameters  θ  that will minimize the cost function  J(θ)\n",
        "theta_vec=np.linalg.inv(x_train.T.dot(x_train)).dot(x_train.T).dot(y_train) \n",
        "#print(theta_vec)\n",
        "# Using the matrix multiplication: np.matmul we will calculate the y_predict \n",
        "y_predict=np.matmul(x_train,theta_vec)\n",
        "#print(y_predict)\n",
        "plt.plot(X_train,y_predict,'mo') # plot X_train and y_predict using Magenta circle markers\n",
        "plt.plot(X_train,y_train, 'bo') # plot X_train and y_train using blue circle markers\n",
        "plt.xlabel('Input')\n",
        "plt.ylabel('Output')\n",
        "plt.title('Training data vs Linear Regression using 3rd order polynomial')\n",
        "plt.show()\n",
        "obj_fun_error=np.sum(np.square(y_predict-y_train))/2\n",
        "print('Error in the cost function or objective function',obj_fun_error)\n",
        "mean_objfun_error=np.sum(np.square(y_predict-y_train))/(2*100)\n",
        "print('Mean Error in the cost function or objective function',mean_objfun_error)"
      ],
      "metadata": {
        "colab": {
          "base_uri": "https://localhost:8080/",
          "height": 330
        },
        "id": "kAy_kRWbsDUM",
        "outputId": "12d7782e-a4e4-441a-f54b-42a5e6845beb"
      },
      "execution_count": 8,
      "outputs": [
        {
          "output_type": "display_data",
          "data": {
            "text/plain": [
              "<Figure size 432x288 with 1 Axes>"
            ],
            "image/png": "[encoded data removed]"
          },
          "metadata": {
            "needs_background": "light"
          }
        },
        {
          "output_type": "stream",
          "name": "stdout",
          "text": [
            "Error in the cost function or objective function 4053.887072882679\n",
            "Mean Error in the cost function or objective function 40.538870728826794\n"
          ]
        }
      ]
    },
    {
      "cell_type": "markdown",
      "source": [
        "# Step 4: Combination of 1st, 2nd, 3rd and 4th order basis\n",
        "\n",
        "Linear Regression with three feature vector X_train, X_train^2, X_train^3, and X_train^4"
      ],
      "metadata": {
        "id": "iE5lPqQauWlQ"
      }
    },
    {
      "cell_type": "code",
      "source": [
        "# we want to create a matrix whose first column represnts theta_0 and second column represnts theta_1 as we have single feature.\n",
        "# we will use a the reshape command:  numpy.reshape(a, newshape, order='C') to create a dummy column then append it to the X_train data.\n",
        "X_train_forth=(X_train**4).reshape(100,1)\n",
        "X_L4_system=np.append(X_L3_system,X_train_forth,axis=1) # axis=1 is required \n",
        "#print(X_L4_system)\n",
        "# update the training data\n",
        "x_train=X_L4_system \n",
        "# Using the normal equation we find the set of parameters  θ  that will minimize the cost function  J(θ)\n",
        "theta_vec=np.linalg.inv(x_train.T.dot(x_train)).dot(x_train.T).dot(y_train) \n",
        "#print(theta_vec)\n",
        "# Using the matrix multiplication: np.matmul we will calculate the y_predict \n",
        "y_predict=np.matmul(x_train,theta_vec)\n",
        "#print(y_predict)\n",
        "plt.plot(X_train,y_predict,'mo') # plot X_train and y_predict using Magenta circle markers\n",
        "plt.plot(X_train,y_train, 'bo') # plot X_train and y_train using blue circle markers\n",
        "plt.xlabel('Input')\n",
        "plt.ylabel('Output')\n",
        "plt.title('Training data vs Linear Regression using 4th order polynomial')\n",
        "plt.show()\n",
        "obj_fun_error=np.sum(np.square(y_predict-y_train))/2\n",
        "print('Error in the cost function or objective function',obj_fun_error)\n",
        "mean_objfun_error=np.sum(np.square(y_predict-y_train))/(2*100)\n",
        "print('Mean Error in the cost function or objective function',mean_objfun_error)"
      ],
      "metadata": {
        "colab": {
          "base_uri": "https://localhost:8080/",
          "height": 330
        },
        "id": "2B1UWiGpuVWq",
        "outputId": "46b59a46-8626-4b93-a47a-92b19912dc96"
      },
      "execution_count": 9,
      "outputs": [
        {
          "output_type": "display_data",
          "data": {
            "text/plain": [
              "<Figure size 432x288 with 1 Axes>"
            ],
            "image/png": "[encoded data removed]"
          },
          "metadata": {
            "needs_background": "light"
          }
        },
        {
          "output_type": "stream",
          "name": "stdout",
          "text": [
            "Error in the cost function or objective function 4045.1772993562913\n",
            "Mean Error in the cost function or objective function 40.45177299356291\n"
          ]
        }
      ]
    },
    {
      "cell_type": "markdown",
      "source": [
        "# Step 5: Combination of 1st, 2nd, 3rd, 4th and 5th order basis\n",
        "\n",
        "Linear Regression with three feature vector X_train, X_train^2, X_train^3, X_train^4, and X_train^5"
      ],
      "metadata": {
        "id": "abacTOJuwEVX"
      }
    },
    {
      "cell_type": "code",
      "source": [
        "# we want to create a matrix whose first column represnts theta_0 and second column represnts theta_1 as we have single feature.\n",
        "# we will use a the reshape command:  numpy.reshape(a, newshape, order='C') to create a dummy column then append it to the X_train data.\n",
        "X_train_fifth=(X_train**5).reshape(100,1)\n",
        "X_L5_system=np.append(X_L4_system,X_train_fifth,axis=1) # axis=1 is required \n",
        "#print(X_L5_system)\n",
        "# update the training data\n",
        "x_train=X_L5_system \n",
        "# Using the normal equation we find the set of parameters  θ  that will minimize the cost function  J(θ)\n",
        "theta_vec=np.linalg.inv(x_train.T.dot(x_train)).dot(x_train.T).dot(y_train) \n",
        "print(theta_vec)\n",
        "# Using the matrix multiplication: np.matmul we will calculate the y_predict \n",
        "y_predict=np.matmul(x_train,theta_vec)\n",
        "#print(y_predict)\n",
        "plt.plot(X_train,y_predict,'m^',label='predicted',linewidth=10.0) # plot X_train and y_predict using Magenta circle markers\n",
        "plt.plot(X_train,y_train, 'b*',label='train') # plot X_train and y_train using blue circle markers\n",
        "plt.xlabel('Input')\n",
        "plt.ylabel('Output')\n",
        "plt.title('Training data vs Linear Regression using 4th order polynomial')\n",
        "plt.show()\n",
        "obj_fun_error=np.sum(np.square(y_predict-y_train))/2\n",
        "print('Error in the cost function or objective function',obj_fun_error)\n",
        "mean_objfun_error=np.sum(np.square(y_predict-y_train))/(2*100)\n",
        "print('Mean Error in the cost function or objective function',mean_objfun_error)"
      ],
      "metadata": {
        "colab": {
          "base_uri": "https://localhost:8080/",
          "height": 364
        },
        "id": "hXDpSXkhwKdZ",
        "outputId": "f3a5f97f-8ad6-4c6b-ec6c-5da64f9ebf1c"
      },
      "execution_count": 10,
      "outputs": [
        {
          "output_type": "stream",
          "name": "stdout",
          "text": [
            "[ 6.00000000e+00  1.00000000e+01 -7.77156117e-15 -8.00000000e+00\n",
            "  6.66133815e-16  1.00000000e+00]\n"
          ]
        },
        {
          "output_type": "display_data",
          "data": {
            "text/plain": [
              "<Figure size 432x288 with 1 Axes>"
            ],
            "image/png": "[encoded data removed]"
          },
          "metadata": {
            "needs_background": "light"
          }
        },
        {
          "output_type": "stream",
          "name": "stdout",
          "text": [
            "Error in the cost function or objective function 1.3738994303212855e-24\n",
            "Mean Error in the cost function or objective function 1.3738994303212854e-26\n"
          ]
        }
      ]
    },
    {
      "cell_type": "code",
      "source": [
        "# we want to create a matrix whose first column represnts theta_0 and second column represnts theta_1 as we have single feature.\n",
        "# we will use a the reshape command:  numpy.reshape(a, newshape, order='C') to create a dummy column then append it to the X_train data.\n",
        "X_test_fifth=(X_test**5).reshape(len(X_test),1)\n",
        "dummy_theta0_vec=np.ones((len(X_test),1)) # 100 values as vector \n",
        "#print(X_train)\n",
        "#x_train=np.reshape(X_train,(100,1))\n",
        "X_main0_system=np.c_[dummy_theta0_vec,X_test,X_test**2,X_test**3,X_test**4] # axis=1 is required \n",
        "\n",
        "X_main_system=np.append(X_main0_system,X_test_fifth,axis=1) # axis=1 is required \n",
        "x_test=X_main_system # Test Data is defined by the new variable named x_test into a matrix form A\n",
        "# Using the matrix multiplication: np.matmul we will calculate the y_predict by y=A*theta_vec\n",
        "y_predict=np.matmul(x_test,theta_vec).reshape(len(X_test),1)\n",
        "#print(y_predict)\n",
        "fig = plt.figure()\n",
        "\n",
        "plt.plot(X_test,y_predict,'m^',label='predicted',linewidth=10.0) # plot X_test and y_predict using Magenta ^ markers\n",
        "plt.plot(X_test,y_test, 'b*',label='test') # plot X_test and y_test using blue c* markers\n",
        "plt.xlabel('Input')\n",
        "plt.ylabel('Output')\n",
        "plt.title('Training data vs Linear Regression using 5th order polynomial')\n",
        "plt.legend\n",
        "plt.show()\n",
        "obj_fun_error=np.sum(np.square(y_predict-y_test))/2\n",
        "print('Error in the cost function or objective function',obj_fun_error)\n",
        "mean_objfun_error=np.sum(np.square(y_predict-y_test))/(2*100)\n",
        "print('Mean Error in the cost function or objective function',mean_objfun_error)\n",
        "\n",
        "# plot helps: https://stackoverflow.com/questions/42758897/change-line-width-of-lines-in-matplotlib-pyplot-legend"
      ],
      "metadata": {
        "colab": {
          "base_uri": "https://localhost:8080/",
          "height": 330
        },
        "id": "Zx_AuSQryQTp",
        "outputId": "f6b68a64-6243-45ec-cc5d-a754e5c305aa"
      },
      "execution_count": 11,
      "outputs": [
        {
          "output_type": "display_data",
          "data": {
            "text/plain": [
              "<Figure size 432x288 with 1 Axes>"
            ],
            "image/png": "[encoded data removed]"
          },
          "metadata": {
            "needs_background": "light"
          }
        },
        {
          "output_type": "stream",
          "name": "stdout",
          "text": [
            "Error in the cost function or objective function 1.6186133029326731e-24\n",
            "Mean Error in the cost function or objective function 1.6186133029326733e-26\n"
          ]
        }
      ]
    },
    {
      "cell_type": "markdown",
      "source": [
        "# Problem 1 Conclusion Analysis: \n",
        "\n",
        "We now use these theta values to see test input data. The plot shows that the fifth-order basis function perfectly fits the data. We can try some other $sin, cosine, e^x $ e.t.c. function as well if it doesn't fit well. Since the curve has a nice nonlinearity, the combination of the basis $x^i, i=1,2,3,4,5$ gives us the best fit.  "
      ],
      "metadata": {
        "id": "vKv3bZJv9ayr"
      }
    },
    {
      "cell_type": "markdown",
      "source": [
        "# Problem 2\n",
        "Imagine that you are a realtor in Stillwater. You have data points that correspond to the recent sales\n",
        "of different houses in and around Stillwater. Your goal is to help estimate the prices of houses that\n",
        "one can use to sell or buy listings. Can you use your knowledge of linear regression to find the best\n",
        "regression model? Use your implementation from Question 1 (without any basis functions) to answer\n",
        "the following questions.\n",
        "\n",
        "\n",
        "1. What is the average least squares error for the given data using your simple linear regression\n",
        "model?\n",
        "\n",
        "2. Which factor has the most effect on the final value? How do you know this? Can you use only this feature to predict the price?\n",
        "\n",
        "3. Which factor has the least effect on the final value? How do you know this? What effect does removing this feature have on the performance?"
      ],
      "metadata": {
        "id": "rxFkI6qE8YLQ"
      }
    },
    {
      "cell_type": "markdown",
      "source": [],
      "metadata": {
        "id": "x9edoBkO9Zwr"
      }
    },
    {
      "cell_type": "markdown",
      "source": [
        "# Solution of Problem 2:"
      ],
      "metadata": {
        "id": "x4mrBRtE9ybc"
      }
    },
    {
      "cell_type": "code",
      "source": [
        "# import libraries\n",
        "import numpy as np\n",
        "import matplotlib.pyplot as plt\n",
        "import pandas as pd"
      ],
      "metadata": {
        "id": "RzRgpAE5_BCf"
      },
      "execution_count": 147,
      "outputs": []
    },
    {
      "cell_type": "code",
      "source": [
        "# upload the data and read the Data \n",
        "df=pd.read_csv('/content/drive/MyDrive/Colab Notebooks/CS 5783 ML/Assignment1/Assignment1_Q2_Data.csv',)\n",
        "df.shape #  Data frame has 28 rows and 13 columns.\n",
        "print(df.shape)\n",
        "df.head(10)"
      ],
      "metadata": {
        "colab": {
          "base_uri": "https://localhost:8080/",
          "height": 442
        },
        "id": "800sEGea_I2P",
        "outputId": "d1ca69f9-a029-499c-92e1-f267dd7590e7"
      },
      "execution_count": 148,
      "outputs": [
        {
          "output_type": "stream",
          "name": "stdout",
          "text": [
            "(28, 13)\n"
          ]
        },
        {
          "output_type": "execute_result",
          "data": {
            "text/plain": [
              "   House ID  Local Price  Bathrooms  Land Area  Living area  # Garages  \\\n",
              "0         1       4.9176        1.0      3.472        0.998        1.0   \n",
              "1         2       5.0208        1.0      3.531        1.500        2.0   \n",
              "2         3       4.5429        1.0      2.275        1.175        1.0   \n",
              "3         4       4.5573        1.0      4.050        1.232        1.0   \n",
              "4         5       5.0597        1.0      4.455        1.121        1.0   \n",
              "5         6       3.8910        1.0      4.455        0.988        1.0   \n",
              "6         7       5.8980        1.0      5.850        1.240        1.0   \n",
              "7         8       5.6039        1.0      9.520        1.501        0.0   \n",
              "8         9      16.4202        2.5      9.800        3.420        2.0   \n",
              "9        10      14.4598        2.5     12.800        3.000        2.0   \n",
              "\n",
              "   # Rooms  # Bedrooms  Age of home  Construction type  Architecture type  \\\n",
              "0        7           4           42                  3                  1   \n",
              "1        7           4           62                  1                  1   \n",
              "2        6           3           40                  2                  1   \n",
              "3        6           3           54                  4                  1   \n",
              "4        6           3           42                  3                  1   \n",
              "5        6           3           56                  2                  1   \n",
              "6        7           3           51                  2                  1   \n",
              "7        6           3           32                  1                  1   \n",
              "8       10           5           42                  2                  1   \n",
              "9        9           5           14                  4                  1   \n",
              "\n",
              "   # Fire places  Price (1000$)  \n",
              "0              0           25.9  \n",
              "1              0           29.5  \n",
              "2              0           27.9  \n",
              "3              0           25.9  \n",
              "4              0           29.9  \n",
              "5              0           29.9  \n",
              "6              1           30.9  \n",
              "7              0           28.9  \n",
              "8              1           84.9  \n",
              "9              1           82.9  "
            ],
            "text/html": [
              "\n",
              "  <div id=\"df-0b2dcd0c-b8db-444a-9910-2e50df4e032b\">\n",
              "    <div class=\"colab-df-container\">\n",
              "      <div>\n",
              "<style scoped>\n",
              "    .dataframe tbody tr th:only-of-type {\n",
              "        vertical-align: middle;\n",
              "    }\n",
              "\n",
              "    .dataframe tbody tr th {\n",
              "        vertical-align: top;\n",
              "    }\n",
              "\n",
              "    .dataframe thead th {\n",
              "        text-align: right;\n",
              "    }\n",
              "</style>\n",
              "<table border=\"1\" class=\"dataframe\">\n",
              "  <thead>\n",
              "    <tr style=\"text-align: right;\">\n",
              "      <th></th>\n",
              "      <th>House ID</th>\n",
              "      <th>Local Price</th>\n",
              "      <th>Bathrooms</th>\n",
              "      <th>Land Area</th>\n",
              "      <th>Living area</th>\n",
              "      <th># Garages</th>\n",
              "      <th># Rooms</th>\n",
              "      <th># Bedrooms</th>\n",
              "      <th>Age of home</th>\n",
              "      <th>Construction type</th>\n",
              "      <th>Architecture type</th>\n",
              "      <th># Fire places</th>\n",
              "      <th>Price (1000$)</th>\n",
              "    </tr>\n",
              "  </thead>\n",
              "  <tbody>\n",
              "    <tr>\n",
              "      <th>0</th>\n",
              "      <td>1</td>\n",
              "      <td>4.9176</td>\n",
              "      <td>1.0</td>\n",
              "      <td>3.472</td>\n",
              "      <td>0.998</td>\n",
              "      <td>1.0</td>\n",
              "      <td>7</td>\n",
              "      <td>4</td>\n",
              "      <td>42</td>\n",
              "      <td>3</td>\n",
              "      <td>1</td>\n",
              "      <td>0</td>\n",
              "      <td>25.9</td>\n",
              "    </tr>\n",
              "    <tr>\n",
              "      <th>1</th>\n",
              "      <td>2</td>\n",
              "      <td>5.0208</td>\n",
              "      <td>1.0</td>\n",
              "      <td>3.531</td>\n",
              "      <td>1.500</td>\n",
              "      <td>2.0</td>\n",
              "      <td>7</td>\n",
              "      <td>4</td>\n",
              "      <td>62</td>\n",
              "      <td>1</td>\n",
              "      <td>1</td>\n",
              "      <td>0</td>\n",
              "      <td>29.5</td>\n",
              "    </tr>\n",
              "    <tr>\n",
              "      <th>2</th>\n",
              "      <td>3</td>\n",
              "      <td>4.5429</td>\n",
              "      <td>1.0</td>\n",
              "      <td>2.275</td>\n",
              "      <td>1.175</td>\n",
              "      <td>1.0</td>\n",
              "      <td>6</td>\n",
              "      <td>3</td>\n",
              "      <td>40</td>\n",
              "      <td>2</td>\n",
              "      <td>1</td>\n",
              "      <td>0</td>\n",
              "      <td>27.9</td>\n",
              "    </tr>\n",
              "    <tr>\n",
              "      <th>3</th>\n",
              "      <td>4</td>\n",
              "      <td>4.5573</td>\n",
              "      <td>1.0</td>\n",
              "      <td>4.050</td>\n",
              "      <td>1.232</td>\n",
              "      <td>1.0</td>\n",
              "      <td>6</td>\n",
              "      <td>3</td>\n",
              "      <td>54</td>\n",
              "      <td>4</td>\n",
              "      <td>1</td>\n",
              "      <td>0</td>\n",
              "      <td>25.9</td>\n",
              "    </tr>\n",
              "    <tr>\n",
              "      <th>4</th>\n",
              "      <td>5</td>\n",
              "      <td>5.0597</td>\n",
              "      <td>1.0</td>\n",
              "      <td>4.455</td>\n",
              "      <td>1.121</td>\n",
              "      <td>1.0</td>\n",
              "      <td>6</td>\n",
              "      <td>3</td>\n",
              "      <td>42</td>\n",
              "      <td>3</td>\n",
              "      <td>1</td>\n",
              "      <td>0</td>\n",
              "      <td>29.9</td>\n",
              "    </tr>\n",
              "    <tr>\n",
              "      <th>5</th>\n",
              "      <td>6</td>\n",
              "      <td>3.8910</td>\n",
              "      <td>1.0</td>\n",
              "      <td>4.455</td>\n",
              "      <td>0.988</td>\n",
              "      <td>1.0</td>\n",
              "      <td>6</td>\n",
              "      <td>3</td>\n",
              "      <td>56</td>\n",
              "      <td>2</td>\n",
              "      <td>1</td>\n",
              "      <td>0</td>\n",
              "      <td>29.9</td>\n",
              "    </tr>\n",
              "    <tr>\n",
              "      <th>6</th>\n",
              "      <td>7</td>\n",
              "      <td>5.8980</td>\n",
              "      <td>1.0</td>\n",
              "      <td>5.850</td>\n",
              "      <td>1.240</td>\n",
              "      <td>1.0</td>\n",
              "      <td>7</td>\n",
              "      <td>3</td>\n",
              "      <td>51</td>\n",
              "      <td>2</td>\n",
              "      <td>1</td>\n",
              "      <td>1</td>\n",
              "      <td>30.9</td>\n",
              "    </tr>\n",
              "    <tr>\n",
              "      <th>7</th>\n",
              "      <td>8</td>\n",
              "      <td>5.6039</td>\n",
              "      <td>1.0</td>\n",
              "      <td>9.520</td>\n",
              "      <td>1.501</td>\n",
              "      <td>0.0</td>\n",
              "      <td>6</td>\n",
              "      <td>3</td>\n",
              "      <td>32</td>\n",
              "      <td>1</td>\n",
              "      <td>1</td>\n",
              "      <td>0</td>\n",
              "      <td>28.9</td>\n",
              "    </tr>\n",
              "    <tr>\n",
              "      <th>8</th>\n",
              "      <td>9</td>\n",
              "      <td>16.4202</td>\n",
              "      <td>2.5</td>\n",
              "      <td>9.800</td>\n",
              "      <td>3.420</td>\n",
              "      <td>2.0</td>\n",
              "      <td>10</td>\n",
              "      <td>5</td>\n",
              "      <td>42</td>\n",
              "      <td>2</td>\n",
              "      <td>1</td>\n",
              "      <td>1</td>\n",
              "      <td>84.9</td>\n",
              "    </tr>\n",
              "    <tr>\n",
              "      <th>9</th>\n",
              "      <td>10</td>\n",
              "      <td>14.4598</td>\n",
              "      <td>2.5</td>\n",
              "      <td>12.800</td>\n",
              "      <td>3.000</td>\n",
              "      <td>2.0</td>\n",
              "      <td>9</td>\n",
              "      <td>5</td>\n",
              "      <td>14</td>\n",
              "      <td>4</td>\n",
              "      <td>1</td>\n",
              "      <td>1</td>\n",
              "      <td>82.9</td>\n",
              "    </tr>\n",
              "  </tbody>\n",
              "</table>\n",
              "</div>\n",
              "      <button class=\"colab-df-convert\" onclick=\"convertToInteractive('df-0b2dcd0c-b8db-444a-9910-2e50df4e032b')\"\n",
              "              title=\"Convert this dataframe to an interactive table.\"\n",
              "              style=\"display:none;\">\n",
              "        \n",
              "  <svg xmlns=\"http://www.w3.org/2000/svg\" height=\"24px\"viewBox=\"0 0 24 24\"\n",
              "       width=\"24px\">\n",
              "    <path d=\"M0 0h24v24H0V0z\" fill=\"none\"/>\n",
              "    <path d=\"M18.56 5.44l.94 2.06.94-2.06 2.06-.94-2.06-.94-.94-2.06-.94 2.06-2.06.94zm-11 1L8.5 8.5l.94-2.06 2.06-.94-2.06-.94L8.5 2.5l-.94 2.06-2.06.94zm10 10l.94 2.06.94-2.06 2.06-.94-2.06-.94-.94-2.06-.94 2.06-2.06.94z\"/><path d=\"M17.41 7.96l-1.37-1.37c-.4-.4-.92-.59-1.43-.59-.52 0-1.04.2-1.43.59L10.3 9.45l-7.72 7.72c-.78.78-.78 2.05 0 2.83L4 21.41c.39.39.9.59 1.41.59.51 0 1.02-.2 1.41-.59l7.78-7.78 2.81-2.81c.8-.78.8-2.07 0-2.86zM5.41 20L4 18.59l7.72-7.72 1.47 1.35L5.41 20z\"/>\n",
              "  </svg>\n",
              "      </button>\n",
              "      \n",
              "  <style>\n",
              "    .colab-df-container {\n",
              "      display:flex;\n",
              "      flex-wrap:wrap;\n",
              "      gap: 12px;\n",
              "    }\n",
              "\n",
              "    .colab-df-convert {\n",
              "      background-color: #E8F0FE;\n",
              "      border: none;\n",
              "      border-radius: 50%;\n",
              "      cursor: pointer;\n",
              "      display: none;\n",
              "      fill: #1967D2;\n",
              "      height: 32px;\n",
              "      padding: 0 0 0 0;\n",
              "      width: 32px;\n",
              "    }\n",
              "\n",
              "    .colab-df-convert:hover {\n",
              "      background-color: #E2EBFA;\n",
              "      box-shadow: 0px 1px 2px rgba(60, 64, 67, 0.3), 0px 1px 3px 1px rgba(60, 64, 67, 0.15);\n",
              "      fill: #174EA6;\n",
              "    }\n",
              "\n",
              "    [theme=dark] .colab-df-convert {\n",
              "      background-color: #3B4455;\n",
              "      fill: #D2E3FC;\n",
              "    }\n",
              "\n",
              "    [theme=dark] .colab-df-convert:hover {\n",
              "      background-color: #434B5C;\n",
              "      box-shadow: 0px 1px 3px 1px rgba(0, 0, 0, 0.15);\n",
              "      filter: drop-shadow(0px 1px 2px rgba(0, 0, 0, 0.3));\n",
              "      fill: #FFFFFF;\n",
              "    }\n",
              "  </style>\n",
              "\n",
              "      <script>\n",
              "        const buttonEl =\n",
              "          document.querySelector('#df-0b2dcd0c-b8db-444a-9910-2e50df4e032b button.colab-df-convert');\n",
              "        buttonEl.style.display =\n",
              "          google.colab.kernel.accessAllowed ? 'block' : 'none';\n",
              "\n",
              "        async function convertToInteractive(key) {\n",
              "          const element = document.querySelector('#df-0b2dcd0c-b8db-444a-9910-2e50df4e032b');\n",
              "          const dataTable =\n",
              "            await google.colab.kernel.invokeFunction('convertToInteractive',\n",
              "                                                     [key], {});\n",
              "          if (!dataTable) return;\n",
              "\n",
              "          const docLinkHtml = 'Like what you see? Visit the ' +\n",
              "            '<a target=\"_blank\" href=https://colab.research.google.com/notebooks/data_table.ipynb>data table notebook</a>'\n",
              "            + ' to learn more about interactive tables.';\n",
              "          element.innerHTML = '';\n",
              "          dataTable['output_type'] = 'display_data';\n",
              "          await google.colab.output.renderOutput(dataTable, element);\n",
              "          const docLink = document.createElement('div');\n",
              "          docLink.innerHTML = docLinkHtml;\n",
              "          element.appendChild(docLink);\n",
              "        }\n",
              "      </script>\n",
              "    </div>\n",
              "  </div>\n",
              "  "
            ]
          },
          "metadata": {},
          "execution_count": 148
        }
      ]
    },
    {
      "cell_type": "markdown",
      "source": [
        "# Data frame information\n",
        "The data has 28 examples or observation for the training the model and 13 features. To test the model or data validation we use the variable \"percentage\" variable that will choose the training and the test data automatically. Similar to above, we build a Simple linear regression model and use normal equation to find the parameters. "
      ],
      "metadata": {
        "id": "czM85Y2qCDow"
      }
    },
    {
      "cell_type": "markdown",
      "source": [
        "# Modeling\n",
        "We now have eleven important features to model, except the House Id as it is not considered an important feature. Therefore, we will model one by one using those features and find the most effective and less effective features from the data frame to see the recent sales of different houses in and around Stillwater. \n",
        "\n",
        "\n",
        "# Possible important models\n",
        "\n",
        "1.\tModel 0: Price ~ Local Price + Bathrooms + Land Area + Living area + # Garages + # Rooms + # Bedrooms + Age of Home + Construction type + Architecture type+ # Fire places\n",
        "\n",
        "2.\tModel 1: Price ~ Local Price\n",
        "3.\tModel 2: Price ~ Bathrooms \n",
        "4.\tModel 3: Price ~ Land Area \n",
        "5.\tModel 4: Price ~ Living area \n",
        "6.\tModel 5: Price ~ # Garages \n",
        "7.\tModel 6: Price ~ # Rooms \n",
        "8.\tModel 7: Price ~ # Bedrooms \n",
        "9.\tModel 8: Price ~ Age of Home \n",
        "10.\tModel 9: Price ~  Construction type \n",
        "11.\tModel 10: Price ~  Architecture type\n",
        "12\tModel 11: Price ~  # Fire places\n",
        "\n",
        "\n",
        "# Define the **Training data** and *Model validation* from Data frame using the variable I defined **'percentage'** for the coding. \n",
        "\n"
      ],
      "metadata": {
        "id": "IDDEpMGxdKzP"
      }
    },
    {
      "cell_type": "markdown",
      "source": [],
      "metadata": {
        "id": "lJhxu338HbU9"
      }
    },
    {
      "cell_type": "markdown",
      "source": [
        "# Model 0: \n",
        "\n",
        "Price ~ Local Price + Bathrooms + Land Area + Living area + # Garages + # Rooms + # Bedrooms + Age of Home + Construction type + Architecture type+ # Fire places+ noise term;\n",
        "\n",
        "where $̂\\hat{\\theta_i}, i=0,11$ are coefficients, noise term is iid. \n",
        "# Model 0:  \n",
        "Model 0: Price=(θ_0 ) ̂+ (θ_1 ) ̂Local Price +(θ_2 ) ̂  Bathrooms +(θ_3 ) ̂  Land Area + (θ_4 ) ̂Living area +(θ_5 ) ̂  # Garages +(θ_6 ) ̂  ( # Rooms) + (θ_7 ) ̂(# Bedrooms) + (θ_8 ) ̂Age of Home +(θ_9 ) ̂  Construction type +(θ_10 ) ̂  Architecture type+(θ_11 ) ̂ ( # Fire places)\n",
        "\n",
        "where $̂\\hat{\\theta_i}, i=0,11$ are coefficients from following.  \n",
        "\n",
        "\n",
        "# Predictive Model-0 Parameters when we consider **total data set as the trainingg set, i.e. percentage=1= 100%**\n",
        " \n",
        "Where , (θ_0 ) ̂=2.54245911; (θ_1 ) ̂=0.84203461; (θ_2 ) ̂=9.13727309 ;(θ_3 ) ̂=0.1805502; + (θ_4 ) ̂=13.31511517; (θ_5 ) ̂=1.93053047; (θ_6 ) ̂=-1.07030169 ; (θ_7 ) ̂=-0.30201195; (θ_8 ) ̂=-0.07198748; (θ_9 ) ̂=1.02264378; (θ_10 ) ̂=1.33991086,and (θ_11 ) ̂=2.78686263"
      ],
      "metadata": {
        "id": "JJoodoJyflgS"
      }
    },
    {
      "cell_type": "code",
      "source": [
        "from numpy.lib.function_base import disp\n",
        "percentage= .80 # this will be working in rest of this problem \n",
        "# define the training data \n",
        "# first define how many examples we want 65 % data in the training set  \n",
        "no_train=int(np.round(len(df)*percentage)) # round the number and then take into integer by the int command. np.int is the bad command\n",
        "print(no_train)\n",
        "\n",
        "# train the input data\n",
        "# DataFrame.iloc Purely integer-location based indexing for selection by position.\n",
        "X_train=df.iloc[0:no_train,1:df.shape[1]-1] # remove House ID from the df and target vealue \"price\" from the training data frame\n",
        "df_theta0_vec=np.ones((len(X_train),1))\n",
        "x_train=np.append(df_theta0_vec,X_train,axis=1)\n",
        "#print(x_train.shape)\n",
        "# train the output data\n",
        "y_train=df.iloc[0:no_train,df.shape[1]-1].values\n",
        "#print(y_train.shape)\n",
        "#print(x_train)\n",
        "#print(y_train)\n",
        "# theta parameters or weights of the linear regression model are computed using the normal form \n",
        "theta_vec=np.linalg.inv(x_train.T.dot(x_train)).dot(x_train.T).dot(y_train)\n",
        "print('Following are the theta parameters or weights of the linear regression model for the data frame of percentage',percentage*100)\n",
        "print(theta_vec)\n",
        "model_parameters=theta_vec\n",
        "y_predict=np.matmul(x_train,theta_vec)\n",
        "#print(y_predict)\n",
        "\n",
        "# plot the data \n",
        "df_serial=np.arange(0,len(X_train),1)\n",
        "\n",
        "plt.plot(df_serial,y_train,'b-',linewidth=1,label='training data')\n",
        "plt.plot(df_serial,y_predict,'r-',linewidth=1,label='prediction data')\n",
        "plt.xlabel('input')\n",
        "plt.ylabel('house price')\n",
        "plt.title('Model 0: Prices of houses')\n",
        "plt.legend()\n",
        "plt.show()\n",
        "# problem 2 (1)\n",
        "mse=np.sum(np.square(y_predict-y_train))/(2*len(X_train))\n",
        "print('Average least squares error for the simple linear regression on training data',mse, 'on the training data frame percentage', percentage*100)"
      ],
      "metadata": {
        "colab": {
          "base_uri": "https://localhost:8080/",
          "height": 382
        },
        "id": "vF5dAIOC_qvI",
        "outputId": "b645f7e0-4925-4a35-c881-8fee8f7e091c"
      },
      "execution_count": 17,
      "outputs": [
        {
          "output_type": "stream",
          "name": "stdout",
          "text": [
            "22\n",
            "Following are the theta parameters or weights of the linear regression model for the data frame of percentage 80.0\n",
            "[-0.35659236  2.26588613 14.54961061  0.67862191  2.14754904  2.33929783\n",
            " -4.98818968  5.63359913  0.07220799 -0.2766333   4.23587689  6.31420526]\n"
          ]
        },
        {
          "output_type": "display_data",
          "data": {
            "text/plain": [
              "<Figure size 432x288 with 1 Axes>"
            ],
            "image/png": "[encoded data removed]"
          },
          "metadata": {
            "needs_background": "light"
          }
        },
        {
          "output_type": "stream",
          "name": "stdout",
          "text": [
            "Average least squares error for the simple linear regression on training data 2.3530518421310846 on the training data frame percentage 80.0\n"
          ]
        }
      ]
    },
    {
      "cell_type": "markdown",
      "source": [
        "# Model 0: \n",
        "Price=(θ_0 ) ̂+ (θ_1 ) ̂Local Price +(θ_2 ) ̂  Bathrooms +(θ_3 ) ̂  Land Area + (θ_4 ) ̂Living area +(θ_5 ) ̂  # Garages +(θ_6 ) ̂  ( # Rooms) + (θ_7 ) ̂(# Bedrooms) + (θ_8 ) ̂Age of Home +(θ_9 ) ̂  Construction type +(θ_10 ) ̂  Architecture type+(θ_11 ) ̂ ( # Fire places) +noise, \n",
        "\n",
        "where $̂\\hat{\\theta_i}, i=0,11$ are coefficients, noise is iid. "
      ],
      "metadata": {
        "id": "uNAwuGRxEU35"
      }
    },
    {
      "cell_type": "markdown",
      "source": [
        "\n",
        "# Model 0:\n",
        "Price=(θ_0 ) ̂+ (θ_1 ) ̂Local Price +(θ_2 ) ̂  Bathrooms +(θ_3 ) ̂  Land Area + (θ_4 ) ̂Living area +(θ_5 ) ̂  # Garages +(θ_6 ) ̂  ( # Rooms) + (θ_7 ) ̂(# Bedrooms) + (θ_8 ) ̂Age of Home +(θ_9 ) ̂  Construction type +(θ_10 ) ̂  Architecture type+(θ_11 ) ̂ ( # Fire places)\n",
        "\n",
        "where $̂\\hat{\\theta_i}, i=0,11$ are coefficients from the above output.   "
      ],
      "metadata": {
        "id": "_sRMg5jRfBg5"
      }
    },
    {
      "cell_type": "code",
      "source": [],
      "metadata": {
        "id": "dXIuL9G05AuI"
      },
      "execution_count": null,
      "outputs": []
    },
    {
      "cell_type": "markdown",
      "source": [
        "# Define the Test Data and Run the Test Data using the parameters of the model above  "
      ],
      "metadata": {
        "id": "aNepbmCHHTmO"
      }
    },
    {
      "cell_type": "code",
      "source": [
        "# Define the test Data\n",
        "X_test=df.iloc[no_train:df.shape[0],1:df.shape[1]-1]\n",
        "y_test=df.iloc[no_train:df.shape[0],df.shape[1]-1].values  # .values only consider the values not the position and values both\n",
        "#print(X_train)\n",
        "#print(X_test)\n",
        "#print(y_train)\n",
        "#print(y_test)\n",
        "\n",
        "# construct system for the test data \n",
        "df_theta0_vec=np.ones((len(X_test),1))\n",
        "x_test=np.append(df_theta0_vec,X_test,axis=1)\n",
        "print(x_test.shape)\n",
        "# Prediction is computed in the below \n",
        "y_predict=np.matmul(x_test,theta_vec)\n",
        "#print(y_predict)\n",
        "# plot the data \n",
        "df_serial=np.arange(0,len(X_test),1)\n",
        "plt.plot(df_serial,y_test,'b-',linewidth=1,label='y_test data')\n",
        "plt.plot(df_serial,y_predict,'r-',linewidth=1,label='prediction data')\n",
        "plt.xlabel('input')\n",
        "plt.ylabel('house price')\n",
        "plt.title('Model 0: Data validation Prices of houses')\n",
        "plt.legend()\n",
        "plt.show()\n",
        "mse=np.sum(np.square(y_predict-y_test))/(2*len(X_test))\n",
        "print('Average least squares error for the simple linear regression on test data',mse, 'on the test data frame percentage', (1-percentage)*100)"
      ],
      "metadata": {
        "colab": {
          "base_uri": "https://localhost:8080/",
          "height": 330
        },
        "id": "uzfJUuYbFIrL",
        "outputId": "1f08e5cf-3987-4ad1-a473-d9b9104f05e2"
      },
      "execution_count": 18,
      "outputs": [
        {
          "output_type": "stream",
          "name": "stdout",
          "text": [
            "(6, 12)\n"
          ]
        },
        {
          "output_type": "display_data",
          "data": {
            "text/plain": [
              "<Figure size 432x288 with 1 Axes>"
            ],
            "image/png": "[encoded data removed]"
          },
          "metadata": {
            "needs_background": "light"
          }
        },
        {
          "output_type": "stream",
          "name": "stdout",
          "text": [
            "Average least squares error for the simple linear regression on test data 46.17503052581946 on the test data frame percentage 19.999999999999996\n"
          ]
        }
      ]
    },
    {
      "cell_type": "markdown",
      "source": [
        "# Guess\n",
        "\n",
        "We now find the most effective feature in the final value. As we are looking at the price of the houses, let's find the maximum value from the model parameters that came out from model 0 because it has a greater chance of impacting house sales. Perhaps, we will conclude it at the end by comparing all the models as the models are considered \"price VS. all individual predictors\" that could tell us the most compelling feature. "
      ],
      "metadata": {
        "id": "DKaB1Sj6bP50"
      }
    },
    {
      "cell_type": "code",
      "source": [
        "# problem 2 (2) First, we will see how find the maximum wight value from the model predictors\n",
        "disp('Following are the theta parameters or weights of the linear regression model')\n",
        "print(theta_vec)\n",
        "print(model_parameters)\n",
        "maximum = model_parameters[0]\n",
        "index = 0\n",
        "for i in range(len(model_parameters)):\n",
        "  if model_parameters[i] > maximum:\n",
        "    maximum = model_parameters[i]\n",
        "    index= i\n",
        "print('Maximum model_parameter is', maximum,'at index',index) "
      ],
      "metadata": {
        "colab": {
          "base_uri": "https://localhost:8080/"
        },
        "id": "ESvCY6rQIcM3",
        "outputId": "86c1f890-53d2-42b5-b782-9fa81b63950b"
      },
      "execution_count": 19,
      "outputs": [
        {
          "output_type": "stream",
          "name": "stdout",
          "text": [
            "Following are the theta parameters or weights of the linear regression model\n",
            "[-0.35659236  2.26588613 14.54961061  0.67862191  2.14754904  2.33929783\n",
            " -4.98818968  5.63359913  0.07220799 -0.2766333   4.23587689  6.31420526]\n",
            "[-0.35659236  2.26588613 14.54961061  0.67862191  2.14754904  2.33929783\n",
            " -4.98818968  5.63359913  0.07220799 -0.2766333   4.23587689  6.31420526]\n",
            "Maximum model_parameter is 14.549610614032488 at index 2\n"
          ]
        }
      ]
    },
    {
      "cell_type": "markdown",
      "source": [
        "# Model 2: Price ~ Bathrooms \n",
        "\n",
        "This implies that No. of Bathrooms gives us the Simple linear regression model with higher weights. Perhaps, we want to check independently how much it is related to the house price. \n",
        "\n",
        "# Define the train Data using the unique feature no. of Bathrooms"
      ],
      "metadata": {
        "id": "meyvESsQZ_3C"
      }
    },
    {
      "cell_type": "code",
      "source": [
        "# define the training data \n",
        "# first define how many examples we want 65 % data in the training set  \n",
        "no_train=int(np.round(len(df)*percentage)) # round the number and then take into integer by the int command. np.int is the bad command\n",
        "print(no_train)\n",
        "# train the input data\n",
        "# DataFrame.iloc Purely integer-location based indexing for selection by position.\n",
        "X_train=df.iloc[0:no_train,index].values # take only Bathrooms whose index=2\n",
        "x_train=np.c_[np.ones((no_train,1)),X_train]\n",
        "#print(x_train.shape)\n",
        "# train the output data\n",
        "y_train=df.iloc[0:no_train,df.shape[1]-1].values\n",
        "#print(y_train.shape)\n",
        "#print(x_train)\n",
        "#print(y_train)\n",
        "# theta parameters or weights of the linear regression model are computed using the normal form \n",
        "theta_vec=np.linalg.inv(x_train.T.dot(x_train)).dot(x_train.T).dot(y_train)\n",
        "disp('Following are the theta parameters or weights of the linear regression model')\n",
        "print(theta_vec)\n",
        "y_predict=np.matmul(x_train,theta_vec)\n",
        "#print(y_predict)\n",
        "\n",
        "# plot the data \n",
        "df_serial=np.arange(0,len(X_train),1)\n",
        "plt.plot(df_serial,y_train,'b-',linewidth=1,label='training data')\n",
        "plt.plot(df_serial,y_predict,'r-',linewidth=1,label='prediction data')\n",
        "plt.xlabel('input')\n",
        "plt.ylabel('house price')\n",
        "plt.title('Model 2: Prices of houses')\n",
        "plt.legend()\n",
        "plt.show()\n",
        "# problem 2 (1)\n",
        "mse=np.sum(np.square(y_predict-y_train))/(2*len(X_train))\n",
        "print('Average least squares error for the simple linear regression on training data',mse, 'on the training data frame percentage', percentage*100)"
      ],
      "metadata": {
        "colab": {
          "base_uri": "https://localhost:8080/",
          "height": 364
        },
        "id": "1-9CmPIykcs5",
        "outputId": "d47b3e52-0218-444d-b663-6cf2ea924b57"
      },
      "execution_count": 20,
      "outputs": [
        {
          "output_type": "stream",
          "name": "stdout",
          "text": [
            "22\n",
            "Following are the theta parameters or weights of the linear regression model\n",
            "[-2.8375     32.80833333]\n"
          ]
        },
        {
          "output_type": "display_data",
          "data": {
            "text/plain": [
              "<Figure size 432x288 with 1 Axes>"
            ],
            "image/png": "[encoded data removed]"
          },
          "metadata": {
            "needs_background": "light"
          }
        },
        {
          "output_type": "stream",
          "name": "stdout",
          "text": [
            "Average least squares error for the simple linear regression on training data 13.490530303030305 on the training data frame percentage 80.0\n"
          ]
        }
      ]
    },
    {
      "cell_type": "markdown",
      "source": [
        "# Define the test Data using the unique feature no. of Bathrooms"
      ],
      "metadata": {
        "id": "lxF55atwkf4Q"
      }
    },
    {
      "cell_type": "markdown",
      "source": [
        "# Model 2:\n",
        "Price=(θ_0 ) ̂+ (θ_1 ) ̂Local Price +(θ_2 ) ̂  Bathrooms +(θ_3 ) ̂  Land Area + (θ_4 ) ̂Living area +(θ_5 ) ̂  # Garages +(θ_6 ) ̂  ( # Rooms) + (θ_7 ) ̂(# Bedrooms) + (θ_8 ) ̂Age of Home +(θ_9 ) ̂  Construction type +(θ_10 ) ̂  Architecture type+(θ_11 ) ̂ ( # Fire places)\n",
        "\n",
        "where all $̂\\hat{\\theta_i}, i=0,11$ are zero except $i=0,2$ that come from the above table.   "
      ],
      "metadata": {
        "id": "oTAD7AO0GcGZ"
      }
    },
    {
      "cell_type": "code",
      "source": [
        "# Define the test Data\n",
        "X_test=df.iloc[no_train:df.shape[0],index]\n",
        "y_test=df.iloc[no_train:df.shape[0],df.shape[1]-1].values  # .values only consider the values not the position and values both\n",
        "#print(X_train)\n",
        "#print(X_test)\n",
        "#print(y_train)\n",
        "#print(y_test)\n",
        "\n",
        "# construct system for the test data \n",
        "x_test=np.c_[np.ones((df.shape[0]-no_train,1)),X_test]\n",
        "print(x_test.shape)\n",
        "# Prediction is computed in the below \n",
        "y_predict=np.matmul(x_test,theta_vec)\n",
        "#print(y_predict)\n",
        "\n",
        "# plot the data \n",
        "df_serial=np.arange(0,len(X_test),1)\n",
        "plt.plot(df_serial,y_test,'b-',linewidth=1,label='Y_test data')\n",
        "plt.plot(df_serial,y_predict,'r-',linewidth=1,label='prediction data')\n",
        "plt.xlabel('input')\n",
        "plt.ylabel('house price')\n",
        "plt.title('Model 2: Data validation Prices of houses')\n",
        "plt.legend()\n",
        "plt.show()\n",
        "# problem 2 (1)\n",
        "mse=np.sum(np.square(y_predict-y_test))/(2*len(X_test))\n",
        "print('Average least squares error for the simple linear regression on test data',mse,'on the test data frame percentage', (1-percentage)*100)"
      ],
      "metadata": {
        "colab": {
          "base_uri": "https://localhost:8080/",
          "height": 330
        },
        "id": "vfNoRMd5kBzo",
        "outputId": "3727311b-9b48-4919-abf3-e59e4f2a9468"
      },
      "execution_count": 22,
      "outputs": [
        {
          "output_type": "stream",
          "name": "stdout",
          "text": [
            "(6, 2)\n"
          ]
        },
        {
          "output_type": "display_data",
          "data": {
            "text/plain": [
              "<Figure size 432x288 with 1 Axes>"
            ],
            "image/png": "[encoded data removed]"
          },
          "metadata": {
            "needs_background": "light"
          }
        },
        {
          "output_type": "stream",
          "name": "stdout",
          "text": [
            "Average least squares error for the simple linear regression on test data 17.370956307870426 on the test data frame percentage 19.999999999999996\n"
          ]
        }
      ]
    },
    {
      "cell_type": "code",
      "source": [],
      "metadata": {
        "id": "dpoHd7hLqPlI"
      },
      "execution_count": null,
      "outputs": []
    },
    {
      "cell_type": "markdown",
      "source": [
        "# Guess \n",
        "\n",
        "We now find the least effective feature in the final value. As we are looking at the price of the houses, let's find the minimum value from the model parameters that came out from model 6 because it has a lower chance of impacting house sales. Then, perhaps, we will conclude it at the end by comparing all the models as the models are considered \"price VS. all individual predictors\" that could tell us the most compelling feature."
      ],
      "metadata": {
        "id": "mLfsBoWJbaEa"
      }
    },
    {
      "cell_type": "code",
      "source": [
        "# problem 2 (3) First, we will see how find the maximum wight value from the model predictors\n",
        "disp('Following are the theta parameters or weights of the linear regression model')\n",
        "print(theta_vec)\n",
        "print(model_parameters)\n",
        "minimum = model_parameters[0]\n",
        "index = 0\n",
        "for i in range(len(model_parameters)):\n",
        "  if model_parameters[i] < minimum:\n",
        "    minimum = model_parameters[i]\n",
        "    index= i\n",
        "print('Minimum model_parameter is', minimum,'at index',index) "
      ],
      "metadata": {
        "colab": {
          "base_uri": "https://localhost:8080/"
        },
        "id": "74JExwXYQsld",
        "outputId": "47501d42-aee8-4e3f-c3d1-2d3874cb6fc3"
      },
      "execution_count": 23,
      "outputs": [
        {
          "output_type": "stream",
          "name": "stdout",
          "text": [
            "Following are the theta parameters or weights of the linear regression model\n",
            "[-2.8375     32.80833333]\n",
            "[-0.35659236  2.26588613 14.54961061  0.67862191  2.14754904  2.33929783\n",
            " -4.98818968  5.63359913  0.07220799 -0.2766333   4.23587689  6.31420526]\n",
            "Minimum model_parameter is -4.9881896826431955 at index 6\n"
          ]
        }
      ]
    },
    {
      "cell_type": "markdown",
      "source": [],
      "metadata": {
        "id": "rxl-NQJuG-Ah"
      }
    },
    {
      "cell_type": "markdown",
      "source": [
        "# This implies that number of rooms gives us the linear model's lower weights. Perhaps, we want to check independently how much it is related to the house price. But may be No. "
      ],
      "metadata": {
        "id": "ub4qh3sMmNmm"
      }
    },
    {
      "cell_type": "markdown",
      "source": [
        "# Model 6: Price ~ # Rooms \n",
        "\n",
        "\n",
        "\n",
        " "
      ],
      "metadata": {
        "id": "TJPDqxw9gChH"
      }
    },
    {
      "cell_type": "code",
      "source": [
        "# define the training data \n",
        "# first define how many examples we want 65 % data in the training set  \n",
        "no_train=int(np.round(len(df)*percentage)) # round the number and then take into integer by the int command. np.int is the bad command\n",
        "print(no_train)\n",
        "\n",
        "# train the input data\n",
        "# DataFrame.iloc Purely integer-location based indexing for selection by position.\n",
        "X_train=df.iloc[0:no_train,index].values # take only Bathrooms\n",
        "x_train=np.c_[np.ones((no_train,1)),X_train]\n",
        "#print(x_train.shape)\n",
        "# train the output data\n",
        "y_train=df.iloc[0:no_train,df.shape[1]-1].values\n",
        "#print(y_train.shape)\n",
        "#print(x_train)\n",
        "#print(y_train)\n",
        "# theta parameters or weights of the linear regression model are computed using the normal form \n",
        "theta_vec=np.linalg.inv(x_train.T.dot(x_train)).dot(x_train.T).dot(y_train)\n",
        "disp('Following are the theta parameters or weights of the linear regression model')\n",
        "print(theta_vec)\n",
        "y_predict=np.matmul(x_train,theta_vec)\n",
        "#print(y_predict)\n",
        "# plot the data \n",
        "df_serial=np.arange(0,len(X_train),1)\n",
        "plt.plot(df_serial,y_train,'b-',linewidth=1,label='training data')\n",
        "plt.plot(df_serial,y_predict,'r-',linewidth=1,label='prediction data')\n",
        "plt.xlabel('input')\n",
        "plt.ylabel('house price')\n",
        "plt.title('Model 6: Prices of houses')\n",
        "plt.legend()\n",
        "plt.show()\n",
        "# problem 2 (1)\n",
        "mse=np.sum(np.square(y_predict-y_train))/(2*len(X_train))\n",
        "print('Average least squares error for the simple linear regression on training data',mse, 'on the training data frame percentage', percentage*100)"
      ],
      "metadata": {
        "colab": {
          "base_uri": "https://localhost:8080/",
          "height": 364
        },
        "id": "RmUpwRMnQIxf",
        "outputId": "4b665080-00c9-4555-ee76-b45e051eb756"
      },
      "execution_count": 25,
      "outputs": [
        {
          "output_type": "stream",
          "name": "stdout",
          "text": [
            "22\n",
            "Following are the theta parameters or weights of the linear regression model\n",
            "[-34.58888889  11.00246914]\n"
          ]
        },
        {
          "output_type": "display_data",
          "data": {
            "text/plain": [
              "<Figure size 432x288 with 1 Axes>"
            ],
            "image/png": "[encoded data removed]"
          },
          "metadata": {
            "needs_background": "light"
          }
        },
        {
          "output_type": "stream",
          "name": "stdout",
          "text": [
            "Average least squares error for the simple linear regression on training data 39.203260381593736 on the training data frame percentage 80.0\n"
          ]
        }
      ]
    },
    {
      "cell_type": "markdown",
      "source": [
        "# Model 6:\n",
        "Price=(θ_0 ) ̂+ (θ_1 ) ̂Local Price +(θ_2 ) ̂  Bathrooms +(θ_3 ) ̂  Land Area + (θ_4 ) ̂Living area +(θ_5 ) ̂  # Garages +(θ_6 ) ̂  ( # Rooms) + (θ_7 ) ̂(# Bedrooms) + (θ_8 ) ̂Age of Home +(θ_9 ) ̂  Construction type +(θ_10 ) ̂  Architecture type+(θ_11 ) ̂ ( # Fire places)\n",
        "\n",
        "where all $̂\\hat{\\theta_i}, i=0,11$ are zero except $i=0,6$ that come from the above table.   "
      ],
      "metadata": {
        "id": "ibtawflLHJO5"
      }
    },
    {
      "cell_type": "code",
      "source": [
        "# Define the test Data\n",
        "X_test=df.iloc[no_train:df.shape[0],index]\n",
        "y_test=df.iloc[no_train:df.shape[0],df.shape[1]-1].values  # .values only consider the values not the position and values both\n",
        "#print(X_train)\n",
        "#print(X_test)\n",
        "#print(y_train)\n",
        "#print(y_test)\n",
        "\n",
        "# construct system for the test data \n",
        "x_test=np.c_[np.ones((df.shape[0]-no_train,1)),X_test]\n",
        "print(x_test.shape)\n",
        "# Prediction is computed in the below \n",
        "y_predict=np.matmul(x_test,theta_vec)\n",
        "#print(y_predict)\n",
        "\n",
        "# plot the data \n",
        "df_serial=np.arange(0,len(X_test),1)\n",
        "plt.plot(df_serial,y_test,'b-',linewidth=1,label='Y_test data')\n",
        "plt.plot(df_serial,y_predict,'r-',linewidth=1,label='prediction data')\n",
        "plt.xlabel('input')\n",
        "plt.ylabel('house price')\n",
        "plt.title('Model 6: Data validation Prices of houses')\n",
        "plt.legend()\n",
        "plt.show()\n",
        "# problem 2 (1)\n",
        "mse=np.sum(np.square(y_predict-y_test))/(2*len(X_test))\n",
        "print('Average least squares error for the simple linear regression on test data',mse,'on the test data frame percentage', (1-percentage)*100)"
      ],
      "metadata": {
        "colab": {
          "base_uri": "https://localhost:8080/",
          "height": 330
        },
        "id": "L681eBKIuYNe",
        "outputId": "e7728ab8-7104-4d54-87f0-b06f8756408a"
      },
      "execution_count": 26,
      "outputs": [
        {
          "output_type": "stream",
          "name": "stdout",
          "text": [
            "(6, 2)\n"
          ]
        },
        {
          "output_type": "display_data",
          "data": {
            "text/plain": [
              "<Figure size 432x288 with 1 Axes>"
            ],
            "image/png": "[encoded data removed]"
          },
          "metadata": {
            "needs_background": "light"
          }
        },
        {
          "output_type": "stream",
          "name": "stdout",
          "text": [
            "Average least squares error for the simple linear regression on test data 42.773009957831846 on the test data frame percentage 19.999999999999996\n"
          ]
        }
      ]
    },
    {
      "cell_type": "markdown",
      "source": [
        "# Model 1: Price ~ Local Price"
      ],
      "metadata": {
        "id": "yRbAbiIzmuzK"
      }
    },
    {
      "cell_type": "code",
      "source": [
        "# define the training data \n",
        "index=1 # as predictor variable is Local Price\n",
        "\n",
        "no_train=int(np.round(len(df)*percentage)) # round the number and then take into integer by the int command. np.int is the bad command\n",
        "print(no_train)\n",
        "# train the input data\n",
        "# DataFrame.iloc Purely integer-location based indexing for selection by position.\n",
        "X_train=df.iloc[0:no_train,index].values # take only Bathrooms\n",
        "x_train=np.c_[np.ones((no_train,1)),X_train]\n",
        "#print(x_train.shape)\n",
        "# train the output data\n",
        "y_train=df.iloc[0:no_train,df.shape[1]-1].values\n",
        "#print(y_train.shape)\n",
        "#print(x_train)\n",
        "#print(y_train)\n",
        "# theta parameters or weights of the linear regression model are computed using the normal form \n",
        "theta_vec=np.linalg.inv(x_train.T.dot(x_train)).dot(x_train.T).dot(y_train)\n",
        "disp('Following are the theta parameters or weights of the linear regression model')\n",
        "print(theta_vec)\n",
        "y_predict=np.matmul(x_train,theta_vec)\n",
        "#print(y_predict)\n",
        "# plot the data \n",
        "df_serial=np.arange(0,len(X_train),1)\n",
        "plt.plot(df_serial,y_train,'b-',linewidth=1,label='training data')\n",
        "plt.plot(df_serial,y_predict,'r-',linewidth=1,label='prediction data')\n",
        "plt.xlabel('input')\n",
        "plt.ylabel('house price')\n",
        "plt.title('Model 1: Prices of houses')\n",
        "plt.legend()\n",
        "plt.show()\n",
        "# problem 2 (1)\n",
        "mse=np.sum(np.square(y_predict-y_train))/(2*len(X_train))\n",
        "print('Average least squares error for the simple linear regression on training data',mse, 'on the training data frame percentage', percentage*100)"
      ],
      "metadata": {
        "colab": {
          "base_uri": "https://localhost:8080/",
          "height": 364
        },
        "id": "tKVnP_NYqKLG",
        "outputId": "2e350460-d3e5-4991-99e7-e4fb3f4892c9"
      },
      "execution_count": 28,
      "outputs": [
        {
          "output_type": "stream",
          "name": "stdout",
          "text": [
            "22\n",
            "Following are the theta parameters or weights of the linear regression model\n",
            "[3.42471132 4.99765736]\n"
          ]
        },
        {
          "output_type": "display_data",
          "data": {
            "text/plain": [
              "<Figure size 432x288 with 1 Axes>"
            ],
            "image/png": "[encoded data removed]"
          },
          "metadata": {
            "needs_background": "light"
          }
        },
        {
          "output_type": "stream",
          "name": "stdout",
          "text": [
            "Average least squares error for the simple linear regression on training data 6.850726514502525 on the training data frame percentage 80.0\n"
          ]
        }
      ]
    },
    {
      "cell_type": "markdown",
      "source": [
        "# Model 1:\n",
        "Price=(θ_0 ) ̂+ (θ_1 ) ̂Local Price +(θ_2 ) ̂  Bathrooms +(θ_3 ) ̂  Land Area + (θ_4 ) ̂Living area +(θ_5 ) ̂  # Garages +(θ_6 ) ̂  ( # Rooms) + (θ_7 ) ̂(# Bedrooms) + (θ_8 ) ̂Age of Home +(θ_9 ) ̂  Construction type +(θ_10 ) ̂  Architecture type+(θ_11 ) ̂ ( # Fire places)\n",
        "\n",
        "where all $̂\\hat{\\theta_i}, i=0,11$ are zero except $i=0,1$ that come from the above table.   "
      ],
      "metadata": {
        "id": "rpwW1l0FHWo6"
      }
    },
    {
      "cell_type": "markdown",
      "source": [],
      "metadata": {
        "id": "scJ3AMFQHRt5"
      }
    },
    {
      "cell_type": "code",
      "source": [
        "# Define the test Data\n",
        "X_test=df.iloc[no_train:df.shape[0],index]\n",
        "y_test=df.iloc[no_train:df.shape[0],df.shape[1]-1].values  # .values only consider the values not the position and values both\n",
        "#print(X_train)\n",
        "#print(X_test)\n",
        "#print(y_train)\n",
        "#print(y_test)\n",
        "\n",
        "# construct system for the test data \n",
        "x_test=np.c_[np.ones((df.shape[0]-no_train,1)),X_test]\n",
        "print(x_test.shape)\n",
        "# Prediction is computed in the below \n",
        "y_predict=np.matmul(x_test,theta_vec)\n",
        "#print(y_predict)\n",
        "\n",
        "# plot the data \n",
        "df_serial=np.arange(0,len(X_test),1)\n",
        "plt.plot(df_serial,y_test,'b-',linewidth=1,label='Y_test data')\n",
        "plt.plot(df_serial,y_predict,'r-',linewidth=1,label='prediction data')\n",
        "plt.xlabel('input')\n",
        "plt.ylabel('house price')\n",
        "plt.title('Model 1: Data validation Prices of houses')\n",
        "plt.legend()\n",
        "plt.show()\n",
        "# problem 2 (1)\n",
        "mse=np.sum(np.square(y_predict-y_test))/(2*len(X_test))\n",
        "print('Average least squares error for the simple linear regression on test data',mse,'on the test data frame percentage', (1-percentage)*100)"
      ],
      "metadata": {
        "colab": {
          "base_uri": "https://localhost:8080/",
          "height": 330
        },
        "id": "bW6GrTKwq5TK",
        "outputId": "9dba86fe-db90-4675-8590-5860c80a0e64"
      },
      "execution_count": 29,
      "outputs": [
        {
          "output_type": "stream",
          "name": "stdout",
          "text": [
            "(6, 2)\n"
          ]
        },
        {
          "output_type": "display_data",
          "data": {
            "text/plain": [
              "<Figure size 432x288 with 1 Axes>"
            ],
            "image/png": "[encoded data removed]"
          },
          "metadata": {
            "needs_background": "light"
          }
        },
        {
          "output_type": "stream",
          "name": "stdout",
          "text": [
            "Average least squares error for the simple linear regression on test data 52.39813421249863 on the test data frame percentage 19.999999999999996\n"
          ]
        }
      ]
    },
    {
      "cell_type": "markdown",
      "source": [
        "# Model 3: Price ~ Land Area "
      ],
      "metadata": {
        "id": "C8xkyP5BqLKW"
      }
    },
    {
      "cell_type": "code",
      "source": [
        "# define the training data and code \n",
        "index=3 # as predictor variable changed\n",
        "no_train=int(np.round(len(df)*percentage)) # round the number and then take into integer by the int command. np.int is the bad command\n",
        "print(no_train)\n",
        "# train the input data\n",
        "# DataFrame.iloc Purely integer-location based indexing for selection by position.\n",
        "X_train=df.iloc[0:no_train,index].values # take only Bathrooms\n",
        "x_train=np.c_[np.ones((no_train,1)),X_train]\n",
        "#print(x_train.shape)\n",
        "# train the output data\n",
        "y_train=df.iloc[0:no_train,df.shape[1]-1].values\n",
        "#print(y_train.shape)\n",
        "#print(x_train)\n",
        "#print(y_train)\n",
        "# theta parameters or weights of the linear regression model are computed using the normal form \n",
        "theta_vec=np.linalg.inv(x_train.T.dot(x_train)).dot(x_train.T).dot(y_train)\n",
        "disp('Following are the theta parameters or weights of the linear regression model')\n",
        "print(theta_vec)\n",
        "y_predict=np.matmul(x_train,theta_vec)\n",
        "#print(y_predict)\n",
        "# plot the data \n",
        "df_serial=np.arange(0,len(X_train),1)\n",
        "plt.plot(df_serial,y_train,'b-',linewidth=1,label='training data')\n",
        "plt.plot(df_serial,y_predict,'r-',linewidth=1,label='prediction data')\n",
        "plt.xlabel('input')\n",
        "plt.ylabel('house price')\n",
        "plt.title('Model 3: Prices of houses')\n",
        "plt.legend()\n",
        "plt.show()\n",
        "# problem 2 (1)\n",
        "mse=np.sum(np.square(y_predict-y_train))/(2*len(X_train))\n",
        "print('Average least squares error for the simple linear regression on training data',mse, 'on the training data frame percentage', percentage*100)"
      ],
      "metadata": {
        "colab": {
          "base_uri": "https://localhost:8080/",
          "height": 364
        },
        "id": "2EyJ7p-mtLdZ",
        "outputId": "a51fe142-5059-4e28-fb23-03ba240d02e3"
      },
      "execution_count": 30,
      "outputs": [
        {
          "output_type": "stream",
          "name": "stdout",
          "text": [
            "22\n",
            "Following are the theta parameters or weights of the linear regression model\n",
            "[10.25408117  4.43442215]\n"
          ]
        },
        {
          "output_type": "display_data",
          "data": {
            "text/plain": [
              "<Figure size 432x288 with 1 Axes>"
            ],
            "image/png": "[encoded data removed]"
          },
          "metadata": {
            "needs_background": "light"
          }
        },
        {
          "output_type": "stream",
          "name": "stdout",
          "text": [
            "Average least squares error for the simple linear regression on training data 60.724174324953175 on the training data frame percentage 80.0\n"
          ]
        }
      ]
    },
    {
      "cell_type": "markdown",
      "source": [
        "# Model 3:\n",
        "Price=(θ_0 ) ̂+ (θ_1 ) ̂Local Price +(θ_2 ) ̂  Bathrooms +(θ_3 ) ̂  Land Area + (θ_4 ) ̂Living area +(θ_5 ) ̂  # Garages +(θ_6 ) ̂  ( # Rooms) + (θ_7 ) ̂(# Bedrooms) + (θ_8 ) ̂Age of Home +(θ_9 ) ̂  Construction type +(θ_10 ) ̂  Architecture type+(θ_11 ) ̂ ( # Fire places)\n",
        "\n",
        "where all $̂\\hat{\\theta_i}, i=0,11$ are zero except $i=0,3$ that come from the above table.   "
      ],
      "metadata": {
        "id": "zVwFZL0RHkJa"
      }
    },
    {
      "cell_type": "code",
      "source": [
        "# Define the test Data Validation \n",
        "X_test=df.iloc[no_train:df.shape[0],index]\n",
        "y_test=df.iloc[no_train:df.shape[0],df.shape[1]-1].values  # .values only consider the values not the position and values both\n",
        "#print(X_train)\n",
        "#print(X_test)\n",
        "#print(y_train)\n",
        "#print(y_test)\n",
        "\n",
        "# construct system for the test data \n",
        "x_test=np.c_[np.ones((df.shape[0]-no_train,1)),X_test]\n",
        "print(x_test.shape)\n",
        "# Prediction is computed in the below \n",
        "y_predict=np.matmul(x_test,theta_vec)\n",
        "#print(y_predict)\n",
        "\n",
        "# plot the data \n",
        "df_serial=np.arange(0,len(X_test),1)\n",
        "plt.plot(df_serial,y_test,'b-',linewidth=1,label='Y_test data')\n",
        "plt.plot(df_serial,y_predict,'r-',linewidth=1,label='prediction data')\n",
        "plt.xlabel('input')\n",
        "plt.ylabel('house price')\n",
        "plt.title('Model 3: Data validation Prices of houses')\n",
        "plt.legend()\n",
        "plt.show()\n",
        "# problem 2 (1)\n",
        "mse=np.sum(np.square(y_predict-y_test))/(2*len(X_test))\n",
        "print('Average least squares error for the simple linear regression on test data',mse,'on the test data frame percentage', (1-percentage)*100)"
      ],
      "metadata": {
        "colab": {
          "base_uri": "https://localhost:8080/",
          "height": 330
        },
        "id": "7weZi2kntWPB",
        "outputId": "12f3c2d3-89eb-421a-ef5b-6d80ebe4eaeb"
      },
      "execution_count": 31,
      "outputs": [
        {
          "output_type": "stream",
          "name": "stdout",
          "text": [
            "(6, 2)\n"
          ]
        },
        {
          "output_type": "display_data",
          "data": {
            "text/plain": [
              "<Figure size 432x288 with 1 Axes>"
            ],
            "image/png": "[encoded data removed]"
          },
          "metadata": {
            "needs_background": "light"
          }
        },
        {
          "output_type": "stream",
          "name": "stdout",
          "text": [
            "Average least squares error for the simple linear regression on test data 33.35415566906369 on the test data frame percentage 19.999999999999996\n"
          ]
        }
      ]
    },
    {
      "cell_type": "markdown",
      "source": [],
      "metadata": {
        "id": "5ZWLYwq6ttWi"
      }
    },
    {
      "cell_type": "markdown",
      "source": [
        "# Model 4: Price ~ Living area "
      ],
      "metadata": {
        "id": "1Hn_fesPtrw8"
      }
    },
    {
      "cell_type": "code",
      "source": [
        "# define the training data and code \n",
        "index=4 # as predictor variable changed\n",
        "no_train=int(np.round(len(df)*percentage)) # round the number and then take into integer by the int command. np.int is the bad command\n",
        "print(no_train)\n",
        "# train the input data\n",
        "# DataFrame.iloc Purely integer-location based indexing for selection by position.\n",
        "X_train=df.iloc[0:no_train,index].values # take only Bathrooms\n",
        "x_train=np.c_[np.ones((no_train,1)),X_train]\n",
        "#print(x_train.shape)\n",
        "# train the output data\n",
        "y_train=df.iloc[0:no_train,df.shape[1]-1].values\n",
        "#print(y_train.shape)\n",
        "#print(x_train)\n",
        "#print(y_train)\n",
        "# theta parameters or weights of the linear regression model are computed using the normal form \n",
        "theta_vec=np.linalg.inv(x_train.T.dot(x_train)).dot(x_train.T).dot(y_train)\n",
        "disp('Following are the theta parameters or weights of the linear regression model')\n",
        "print(theta_vec)\n",
        "y_predict=np.matmul(x_train,theta_vec)\n",
        "#print(y_predict)\n",
        "# plot the data \n",
        "df_serial=np.arange(0,len(X_train),1)\n",
        "plt.plot(df_serial,y_train,'b-',linewidth=1,label='training data')\n",
        "plt.plot(df_serial,y_predict,'r-',linewidth=1,label='prediction data')\n",
        "plt.xlabel('input')\n",
        "plt.ylabel('house price')\n",
        "plt.title('Model 4: Prices of houses')\n",
        "plt.legend()\n",
        "plt.show()\n",
        "# problem 2 (1)\n",
        "mse=np.sum(np.square(y_predict-y_train))/(2*len(X_train))\n",
        "print('Average least squares error for the simple linear regression on training data',mse, 'on the training data frame percentage', percentage*100)"
      ],
      "metadata": {
        "colab": {
          "base_uri": "https://localhost:8080/",
          "height": 364
        },
        "id": "Chal_P6UuNii",
        "outputId": "d86a1fc1-86ca-48ab-8929-e9c38e3d8fee"
      },
      "execution_count": 32,
      "outputs": [
        {
          "output_type": "stream",
          "name": "stdout",
          "text": [
            "22\n",
            "Following are the theta parameters or weights of the linear regression model\n",
            "[ 1.13912903 24.53182439]\n"
          ]
        },
        {
          "output_type": "display_data",
          "data": {
            "text/plain": [
              "<Figure size 432x288 with 1 Axes>"
            ],
            "image/png": "[encoded data removed]"
          },
          "metadata": {
            "needs_background": "light"
          }
        },
        {
          "output_type": "stream",
          "name": "stdout",
          "text": [
            "Average least squares error for the simple linear regression on training data 14.980336149786313 on the training data frame percentage 80.0\n"
          ]
        }
      ]
    },
    {
      "cell_type": "markdown",
      "source": [
        "# Model 4:\n",
        "Price=(θ_0 ) ̂+ (θ_1 ) ̂Local Price +(θ_2 ) ̂  Bathrooms +(θ_3 ) ̂  Land Area + (θ_4 ) ̂Living area +(θ_5 ) ̂  # Garages +(θ_6 ) ̂  ( # Rooms) + (θ_7 ) ̂(# Bedrooms) + (θ_8 ) ̂Age of Home +(θ_9 ) ̂  Construction type +(θ_10 ) ̂  Architecture type+(θ_11 ) ̂ ( # Fire places)\n",
        "\n",
        "where all $̂\\hat{\\theta_i}, i=0,11$ are zero except $i=0,4$ that come from the above table.   "
      ],
      "metadata": {
        "id": "1mBvHhD2H0Zs"
      }
    },
    {
      "cell_type": "code",
      "source": [
        "# Define the test Data Validation \n",
        "X_test=df.iloc[no_train:df.shape[0],index]\n",
        "y_test=df.iloc[no_train:df.shape[0],df.shape[1]-1].values  # .values only consider the values not the position and values both\n",
        "#print(X_train)\n",
        "#print(X_test)\n",
        "#print(y_train)\n",
        "#print(y_test)\n",
        "\n",
        "# construct system for the test data \n",
        "x_test=np.c_[np.ones((df.shape[0]-no_train,1)),X_test]\n",
        "print(x_test.shape)\n",
        "# Prediction is computed in the below \n",
        "y_predict=np.matmul(x_test,theta_vec)\n",
        "#print(y_predict)\n",
        "\n",
        "# plot the data \n",
        "df_serial=np.arange(0,len(X_test),1)\n",
        "plt.plot(df_serial,y_test,'b-',linewidth=1,label='Y_test data')\n",
        "plt.plot(df_serial,y_predict,'r-',linewidth=1,label='prediction data')\n",
        "plt.xlabel('input')\n",
        "plt.ylabel('house price')\n",
        "plt.title('Model 4: Data validation Prices of houses')\n",
        "plt.legend()\n",
        "plt.show()\n",
        "# problem 2 (1)\n",
        "mse=np.sum(np.square(y_predict-y_test))/(2*len(X_test))\n",
        "print('Average least squares error for the simple linear regression on test data',mse,'on the test data frame percentage', (1-percentage)*100)"
      ],
      "metadata": {
        "colab": {
          "base_uri": "https://localhost:8080/",
          "height": 330
        },
        "id": "KQ2coA9iuzYr",
        "outputId": "98cff23d-b65d-4c8a-f456-faf1e28e378f"
      },
      "execution_count": 33,
      "outputs": [
        {
          "output_type": "stream",
          "name": "stdout",
          "text": [
            "(6, 2)\n"
          ]
        },
        {
          "output_type": "display_data",
          "data": {
            "text/plain": [
              "<Figure size 432x288 with 1 Axes>"
            ],
            "image/png": "[encoded data removed]"
          },
          "metadata": {
            "needs_background": "light"
          }
        },
        {
          "output_type": "stream",
          "name": "stdout",
          "text": [
            "Average least squares error for the simple linear regression on test data 13.319820815966587 on the test data frame percentage 19.999999999999996\n"
          ]
        }
      ]
    },
    {
      "cell_type": "markdown",
      "source": [
        "# Model 5: Price ~ # Garages "
      ],
      "metadata": {
        "id": "bM7acj1btuLq"
      }
    },
    {
      "cell_type": "code",
      "source": [
        "# define the training data and code \n",
        "index=5 # as predictor variable changed\n",
        "no_train=int(np.round(len(df)*percentage)) # round the number and then take into integer by the int command. np.int is the bad command\n",
        "print(no_train)\n",
        "# train the input data\n",
        "# DataFrame.iloc Purely integer-location based indexing for selection by position.\n",
        "X_train=df.iloc[0:no_train,index].values # take only Bathrooms\n",
        "x_train=np.c_[np.ones((no_train,1)),X_train]\n",
        "#print(x_train.shape)\n",
        "# train the output data\n",
        "y_train=df.iloc[0:no_train,df.shape[1]-1].values\n",
        "#print(y_train.shape)\n",
        "#print(x_train)\n",
        "#print(y_train)\n",
        "# theta parameters or weights of the linear regression model are computed using the normal form \n",
        "theta_vec=np.linalg.inv(x_train.T.dot(x_train)).dot(x_train.T).dot(y_train)\n",
        "disp('Following are the theta parameters or weights of the linear regression model')\n",
        "print(theta_vec)\n",
        "y_predict=np.matmul(x_train,theta_vec)\n",
        "#print(y_predict)\n",
        "# plot the data \n",
        "df_serial=np.arange(0,len(X_train),1)\n",
        "plt.plot(df_serial,y_train,'b-',linewidth=1,label='training data')\n",
        "plt.plot(df_serial,y_predict,'r-',linewidth=1,label='prediction data')\n",
        "plt.xlabel('input')\n",
        "plt.ylabel('house price')\n",
        "plt.title('Model 5: Prices of houses')\n",
        "plt.legend()\n",
        "plt.show()\n",
        "# problem 2 (1)\n",
        "mse=np.sum(np.square(y_predict-y_train))/(2*len(X_train))\n",
        "print('Average least squares error for the simple linear regression on training data',mse, 'on the training data frame percentage', percentage*100)"
      ],
      "metadata": {
        "colab": {
          "base_uri": "https://localhost:8080/",
          "height": 364
        },
        "id": "V4Jy71bmuRqC",
        "outputId": "0214df04-1746-4ae5-d8dd-fea57bd6ce4a"
      },
      "execution_count": 34,
      "outputs": [
        {
          "output_type": "stream",
          "name": "stdout",
          "text": [
            "22\n",
            "Following are the theta parameters or weights of the linear regression model\n",
            "[23.47330097 11.36990291]\n"
          ]
        },
        {
          "output_type": "display_data",
          "data": {
            "text/plain": [
              "<Figure size 432x288 with 1 Axes>"
            ],
            "image/png": "[encoded data removed]"
          },
          "metadata": {
            "needs_background": "light"
          }
        },
        {
          "output_type": "stream",
          "name": "stdout",
          "text": [
            "Average least squares error for the simple linear regression on training data 92.7286915269197 on the training data frame percentage 80.0\n"
          ]
        }
      ]
    },
    {
      "cell_type": "markdown",
      "source": [
        "# Model 5:\n",
        "Price=(θ_0 ) ̂+ (θ_1 ) ̂Local Price +(θ_2 ) ̂  Bathrooms +(θ_3 ) ̂  Land Area + (θ_4 ) ̂Living area +(θ_5 ) ̂  # Garages +(θ_6 ) ̂  ( # Rooms) + (θ_7 ) ̂(# Bedrooms) + (θ_8 ) ̂Age of Home +(θ_9 ) ̂  Construction type +(θ_10 ) ̂  Architecture type+(θ_11 ) ̂ ( # Fire places)\n",
        "\n",
        "where all $̂\\hat{\\theta_i}, i=0,11$ are zero except $i=0,5$ that come from the above table.   "
      ],
      "metadata": {
        "id": "tSH1-SvSH85s"
      }
    },
    {
      "cell_type": "code",
      "source": [
        "# Define the test Data Validation \n",
        "X_test=df.iloc[no_train:df.shape[0],index]\n",
        "y_test=df.iloc[no_train:df.shape[0],df.shape[1]-1].values  # .values only consider the values not the position and values both\n",
        "#print(X_train)\n",
        "#print(X_test)\n",
        "#print(y_train)\n",
        "#print(y_test)\n",
        "\n",
        "# construct system for the test data \n",
        "x_test=np.c_[np.ones((df.shape[0]-no_train,1)),X_test]\n",
        "print(x_test.shape)\n",
        "# Prediction is computed in the below \n",
        "y_predict=np.matmul(x_test,theta_vec)\n",
        "#print(y_predict)\n",
        "\n",
        "# plot the data \n",
        "df_serial=np.arange(0,len(X_test),1)\n",
        "plt.plot(df_serial,y_test,'b-',linewidth=1,label='Y_test data')\n",
        "plt.plot(df_serial,y_predict,'r-',linewidth=1,label='prediction data')\n",
        "plt.xlabel('input')\n",
        "plt.ylabel('house price')\n",
        "plt.title('Model 5: Data validation Prices of houses')\n",
        "plt.legend()\n",
        "plt.show()\n",
        "# problem 2 (1)\n",
        "mse=np.sum(np.square(y_predict-y_test))/(2*len(X_test))\n",
        "print('Average least squares error for the simple linear regression on test data',mse,'on the test data frame percentage', (1-percentage)*100)"
      ],
      "metadata": {
        "colab": {
          "base_uri": "https://localhost:8080/",
          "height": 330
        },
        "id": "1lw1cfsSvAxl",
        "outputId": "5de3e1f6-af3a-4c88-e2bf-4db031fa304d"
      },
      "execution_count": 35,
      "outputs": [
        {
          "output_type": "stream",
          "name": "stdout",
          "text": [
            "(6, 2)\n"
          ]
        },
        {
          "output_type": "display_data",
          "data": {
            "text/plain": [
              "<Figure size 432x288 with 1 Axes>"
            ],
            "image/png": "[encoded data removed]"
          },
          "metadata": {
            "needs_background": "light"
          }
        },
        {
          "output_type": "stream",
          "name": "stdout",
          "text": [
            "Average least squares error for the simple linear regression on test data 17.288587932415854 on the test data frame percentage 19.999999999999996\n"
          ]
        }
      ]
    },
    {
      "cell_type": "markdown",
      "source": [
        "# Model 7: Price ~ # Bedrooms "
      ],
      "metadata": {
        "id": "4pXt9D6xtxQi"
      }
    },
    {
      "cell_type": "code",
      "source": [
        "# define the training data and code \n",
        "index=7 # as predictor variable changed\n",
        "no_train=int(np.round(len(df)*percentage)) # round the number and then take into integer by the int command. np.int is the bad command\n",
        "print(no_train)\n",
        "# train the input data\n",
        "# DataFrame.iloc Purely integer-location based indexing for selection by position.\n",
        "X_train=df.iloc[0:no_train,index].values # take only Bathrooms\n",
        "x_train=np.c_[np.ones((no_train,1)),X_train]\n",
        "#print(x_train.shape)\n",
        "# train the output data\n",
        "y_train=df.iloc[0:no_train,df.shape[1]-1].values\n",
        "#print(y_train.shape)\n",
        "#print(x_train)\n",
        "#print(y_train)\n",
        "# theta parameters or weights of the linear regression model are computed using the normal form \n",
        "theta_vec=np.linalg.inv(x_train.T.dot(x_train)).dot(x_train.T).dot(y_train)\n",
        "disp('Following are the theta parameters or weights of the linear regression model')\n",
        "print(theta_vec)\n",
        "y_predict=np.matmul(x_train,theta_vec)\n",
        "#print(y_predict)\n",
        "# plot the data \n",
        "df_serial=np.arange(0,len(X_train),1)\n",
        "plt.plot(df_serial,y_train,'b-',linewidth=1,label='training data')\n",
        "plt.plot(df_serial,y_predict,'r-',linewidth=1,label='prediction data')\n",
        "plt.xlabel('input')\n",
        "plt.ylabel('house price')\n",
        "plt.title('Model 7: Prices of houses')\n",
        "plt.legend()\n",
        "plt.show()\n",
        "# problem 2 (1)\n",
        "mse=np.sum(np.square(y_predict-y_train))/(2*len(X_train))\n",
        "print('Average least squares error for the simple linear regression on training data',mse, 'on the training data frame percentage', percentage*100)"
      ],
      "metadata": {
        "colab": {
          "base_uri": "https://localhost:8080/",
          "height": 364
        },
        "id": "kv6khBwsuUYr",
        "outputId": "c1c50054-9d56-47f4-c493-d335e21fb2f7"
      },
      "execution_count": 36,
      "outputs": [
        {
          "output_type": "stream",
          "name": "stdout",
          "text": [
            "22\n",
            "Following are the theta parameters or weights of the linear regression model\n",
            "[-11.47394636  15.15249042]\n"
          ]
        },
        {
          "output_type": "display_data",
          "data": {
            "text/plain": [
              "<Figure size 432x288 with 1 Axes>"
            ],
            "image/png": "[encoded data removed]"
          },
          "metadata": {
            "needs_background": "light"
          }
        },
        {
          "output_type": "stream",
          "name": "stdout",
          "text": [
            "Average least squares error for the simple linear regression on training data 58.33356495994428 on the training data frame percentage 80.0\n"
          ]
        }
      ]
    },
    {
      "cell_type": "markdown",
      "source": [
        "# Model 7:\n",
        "Price=(θ_0 ) ̂+ (θ_1 ) ̂Local Price +(θ_2 ) ̂  Bathrooms +(θ_3 ) ̂  Land Area + (θ_4 ) ̂Living area +(θ_5 ) ̂  # Garages +(θ_6 ) ̂  ( # Rooms) + (θ_7 ) ̂(# Bedrooms) + (θ_8 ) ̂Age of Home +(θ_9 ) ̂  Construction type +(θ_10 ) ̂  Architecture type+(θ_11 ) ̂ ( # Fire places)\n",
        "\n",
        "where all $̂\\hat{\\theta_i}, i=0,11$ are zero except $i=0,7$ that come from the above table.   "
      ],
      "metadata": {
        "id": "YWJ0LaTXIJSU"
      }
    },
    {
      "cell_type": "code",
      "source": [
        "# Define the test Data Validation \n",
        "X_test=df.iloc[no_train:df.shape[0],index]\n",
        "y_test=df.iloc[no_train:df.shape[0],df.shape[1]-1].values  # .values only consider the values not the position and values both\n",
        "#print(X_train)\n",
        "#print(X_test)\n",
        "#print(y_train)\n",
        "#print(y_test)\n",
        "\n",
        "# construct system for the test data \n",
        "x_test=np.c_[np.ones((df.shape[0]-no_train,1)),X_test]\n",
        "print(x_test.shape)\n",
        "# Prediction is computed in the below \n",
        "y_predict=np.matmul(x_test,theta_vec)\n",
        "#print(y_predict)\n",
        "\n",
        "# plot the data \n",
        "df_serial=np.arange(0,len(X_test),1)\n",
        "plt.plot(df_serial,y_test,'b-',linewidth=1,label='Y_test data')\n",
        "plt.plot(df_serial,y_predict,'r-',linewidth=1,label='prediction data')\n",
        "plt.xlabel('input')\n",
        "plt.ylabel('house price')\n",
        "plt.title('Model 7: Data validation Prices of houses')\n",
        "plt.legend()\n",
        "plt.show()\n",
        "# problem 2 (1)\n",
        "mse=np.sum(np.square(y_predict-y_test))/(2*len(X_test))\n",
        "print('Average least squares error for the simple linear regression on test data',mse,'on the test data frame percentage', (1-percentage)*100)"
      ],
      "metadata": {
        "colab": {
          "base_uri": "https://localhost:8080/",
          "height": 330
        },
        "id": "dtvVS2ITvJXE",
        "outputId": "c488bf6f-bea8-4595-8196-5abe0330fd13"
      },
      "execution_count": null,
      "outputs": [
        {
          "output_type": "stream",
          "name": "stdout",
          "text": [
            "(6, 2)\n"
          ]
        },
        {
          "output_type": "display_data",
          "data": {
            "text/plain": [
              "<Figure size 432x288 with 1 Axes>"
            ],
            "image/png": "[encoded data removed]"
          },
          "metadata": {
            "needs_background": "light"
          }
        },
        {
          "output_type": "stream",
          "name": "stdout",
          "text": [
            "Average least squares error for the simple linear regression on test data 17.53943108586182 on the test data frame percentage 19.999999999999996\n"
          ]
        }
      ]
    },
    {
      "cell_type": "markdown",
      "source": [
        "# Model 8: Price ~ Age of Home "
      ],
      "metadata": {
        "id": "pDZcxB7dt0yK"
      }
    },
    {
      "cell_type": "code",
      "source": [
        "# define the training data and code \n",
        "index=8 # as predictor variable changed\n",
        "no_train=int(np.round(len(df)*percentage)) # round the number and then take into integer by the int command. np.int is the bad command\n",
        "print(no_train)\n",
        "# train the input data\n",
        "# DataFrame.iloc Purely integer-location based indexing for selection by position.\n",
        "X_train=df.iloc[0:no_train,index].values # take only Bathrooms\n",
        "x_train=np.c_[np.ones((no_train,1)),X_train]\n",
        "#print(x_train.shape)\n",
        "# train the output data\n",
        "y_train=df.iloc[0:no_train,df.shape[1]-1].values\n",
        "#print(y_train.shape)\n",
        "#print(x_train)\n",
        "#print(y_train)\n",
        "# theta parameters or weights of the linear regression model are computed using the normal form \n",
        "theta_vec=np.linalg.inv(x_train.T.dot(x_train)).dot(x_train.T).dot(y_train)\n",
        "disp('Following are the theta parameters or weights of the linear regression model')\n",
        "print(theta_vec)\n",
        "y_predict=np.matmul(x_train,theta_vec)\n",
        "#print(y_predict)\n",
        "# plot the data \n",
        "df_serial=np.arange(0,len(X_train),1)\n",
        "plt.plot(df_serial,y_train,'b-',linewidth=1,label='training data')\n",
        "plt.plot(df_serial,y_predict,'r-',linewidth=1,label='prediction data')\n",
        "plt.xlabel('input')\n",
        "plt.ylabel('house price')\n",
        "plt.title('Model 8: Prices of houses')\n",
        "plt.legend()\n",
        "plt.show()\n",
        "# problem 2 (1)\n",
        "mse=np.sum(np.square(y_predict-y_train))/(2*len(X_train))\n",
        "print('Average least squares error for the simple linear regression on training data',mse, 'on the training data frame percentage', percentage*100)"
      ],
      "metadata": {
        "colab": {
          "base_uri": "https://localhost:8080/",
          "height": 364
        },
        "id": "vYg9qmVwuXTj",
        "outputId": "9f76e235-408e-4db6-8f60-9582b4ede562"
      },
      "execution_count": 37,
      "outputs": [
        {
          "output_type": "stream",
          "name": "stdout",
          "text": [
            "22\n",
            "Following are the theta parameters or weights of the linear regression model\n",
            "[54.37207148 -0.45966162]\n"
          ]
        },
        {
          "output_type": "display_data",
          "data": {
            "text/plain": [
              "<Figure size 432x288 with 1 Axes>"
            ],
            "image/png": "[encoded data removed]"
          },
          "metadata": {
            "needs_background": "light"
          }
        },
        {
          "output_type": "stream",
          "name": "stdout",
          "text": [
            "Average least squares error for the simple linear regression on training data 103.01675306323486 on the training data frame percentage 80.0\n"
          ]
        }
      ]
    },
    {
      "cell_type": "markdown",
      "source": [
        "# Model 8:\n",
        "Price=(θ_0 ) ̂+ (θ_1 ) ̂Local Price +(θ_2 ) ̂  Bathrooms +(θ_3 ) ̂  Land Area + (θ_4 ) ̂Living area +(θ_5 ) ̂  # Garages +(θ_6 ) ̂  ( # Rooms) + (θ_7 ) ̂(# Bedrooms) + (θ_8 ) ̂Age of Home +(θ_9 ) ̂  Construction type +(θ_10 ) ̂  Architecture type+(θ_11 ) ̂ ( # Fire places)\n",
        "\n",
        "where all $̂\\hat{\\theta_i}, i=0,11$ are zero except $i=0,8$ that come from the above table.   "
      ],
      "metadata": {
        "id": "eS3AqTl6ITes"
      }
    },
    {
      "cell_type": "code",
      "source": [
        "# Define the test Data Validation \n",
        "X_test=df.iloc[no_train:df.shape[0],index]\n",
        "y_test=df.iloc[no_train:df.shape[0],df.shape[1]-1].values  # .values only consider the values not the position and values both\n",
        "#print(X_train)\n",
        "#print(X_test)\n",
        "#print(y_train)\n",
        "#print(y_test)\n",
        "\n",
        "# construct system for the test data \n",
        "x_test=np.c_[np.ones((df.shape[0]-no_train,1)),X_test]\n",
        "print(x_test.shape)\n",
        "# Prediction is computed in the below \n",
        "y_predict=np.matmul(x_test,theta_vec)\n",
        "#print(y_predict)\n",
        "\n",
        "# plot the data \n",
        "df_serial=np.arange(0,len(X_test),1)\n",
        "plt.plot(df_serial,y_test,'b-',linewidth=1,label='Y_test data')\n",
        "plt.plot(df_serial,y_predict,'r-',linewidth=1,label='prediction data')\n",
        "plt.xlabel('input')\n",
        "plt.ylabel('house price')\n",
        "plt.title('Model 8: Data validation Prices of houses')\n",
        "plt.legend()\n",
        "plt.show()\n",
        "# problem 2 (1)\n",
        "mse=np.sum(np.square(y_predict-y_test))/(2*len(X_test))\n",
        "print('Average least squares error for the simple linear regression on test data',mse,'on the test data frame percentage', (1-percentage)*100)"
      ],
      "metadata": {
        "colab": {
          "base_uri": "https://localhost:8080/",
          "height": 330
        },
        "id": "tCPCAdm9vXWW",
        "outputId": "3b14e859-ef3f-43d9-86b3-91b94daca571"
      },
      "execution_count": 38,
      "outputs": [
        {
          "output_type": "stream",
          "name": "stdout",
          "text": [
            "(6, 2)\n"
          ]
        },
        {
          "output_type": "display_data",
          "data": {
            "text/plain": [
              "<Figure size 432x288 with 1 Axes>"
            ],
            "image/png": "[encoded data removed]"
          },
          "metadata": {
            "needs_background": "light"
          }
        },
        {
          "output_type": "stream",
          "name": "stdout",
          "text": [
            "Average least squares error for the simple linear regression on test data 43.40245730638077 on the test data frame percentage 19.999999999999996\n"
          ]
        }
      ]
    },
    {
      "cell_type": "markdown",
      "source": [
        "# Model 9: Price ~  Construction type "
      ],
      "metadata": {
        "id": "cJqXApT2t3Uy"
      }
    },
    {
      "cell_type": "code",
      "source": [
        "# define the training data and code \n",
        "index=9 # as predictor variable changed\n",
        "no_train=int(np.round(len(df)*percentage)) # round the number and then take into integer by the int command. np.int is the bad command\n",
        "print(no_train)\n",
        "# train the input data\n",
        "# DataFrame.iloc Purely integer-location based indexing for selection by position.\n",
        "X_train=df.iloc[0:no_train,index].values # take only Bathrooms\n",
        "x_train=np.c_[np.ones((no_train,1)),X_train]\n",
        "#print(x_train.shape)\n",
        "# train the output data\n",
        "y_train=df.iloc[0:no_train,df.shape[1]-1].values\n",
        "#print(y_train.shape)\n",
        "#print(x_train)\n",
        "#print(y_train)\n",
        "# theta parameters or weights of the linear regression model are computed using the normal form \n",
        "theta_vec=np.linalg.inv(x_train.T.dot(x_train)).dot(x_train.T).dot(y_train)\n",
        "disp('Following are the theta parameters or weights of the linear regression model')\n",
        "print(theta_vec)\n",
        "y_predict=np.matmul(x_train,theta_vec)\n",
        "#print(y_predict)\n",
        "# plot the data \n",
        "df_serial=np.arange(0,len(X_train),1)\n",
        "plt.plot(df_serial,y_train,'b-',linewidth=1,label='training data')\n",
        "plt.plot(df_serial,y_predict,'r-',linewidth=1,label='prediction data')\n",
        "plt.xlabel('input')\n",
        "plt.ylabel('house price')\n",
        "plt.title('Model 9: Prices of houses')\n",
        "plt.legend()\n",
        "plt.show()\n",
        "# problem 2 (1)\n",
        "mse=np.sum(np.square(y_predict-y_train))/(2*len(X_train))\n",
        "print('Average least squares error for the simple linear regression on training data',mse, 'on the training data frame percentage', percentage*100)"
      ],
      "metadata": {
        "colab": {
          "base_uri": "https://localhost:8080/",
          "height": 364
        },
        "id": "w-bQrW9Xue7s",
        "outputId": "f162c44a-58ec-460a-ff69-46c58dab64f1"
      },
      "execution_count": 39,
      "outputs": [
        {
          "output_type": "stream",
          "name": "stdout",
          "text": [
            "22\n",
            "Following are the theta parameters or weights of the linear regression model\n",
            "[31.94824962  2.45996956]\n"
          ]
        },
        {
          "output_type": "display_data",
          "data": {
            "text/plain": [
              "<Figure size 432x288 with 1 Axes>"
            ],
            "image/png": "[encoded data removed]"
          },
          "metadata": {
            "needs_background": "light"
          }
        },
        {
          "output_type": "stream",
          "name": "stdout",
          "text": [
            "Average least squares error for the simple linear regression on training data 116.132393801024 on the training data frame percentage 80.0\n"
          ]
        }
      ]
    },
    {
      "cell_type": "markdown",
      "source": [
        "# Model 9:\n",
        "Price=(θ_0 ) ̂+ (θ_1 ) ̂Local Price +(θ_2 ) ̂  Bathrooms +(θ_3 ) ̂  Land Area + (θ_4 ) ̂Living area +(θ_5 ) ̂  # Garages +(θ_6 ) ̂  ( # Rooms) + (θ_7 ) ̂(# Bedrooms) + (θ_8 ) ̂Age of Home +(θ_9 ) ̂  Construction type +(θ_10 ) ̂  Architecture type+(θ_11 ) ̂ ( # Fire places)\n",
        "\n",
        "where all $̂\\hat{\\theta_i}, i=0,11$ are zero except $i=0,9$ that come from the above table.   "
      ],
      "metadata": {
        "id": "hxjfAUY5Ibrk"
      }
    },
    {
      "cell_type": "code",
      "source": [
        "# Define the test Data Validation \n",
        "X_test=df.iloc[no_train:df.shape[0],index]\n",
        "y_test=df.iloc[no_train:df.shape[0],df.shape[1]-1].values  # .values only consider the values not the position and values both\n",
        "#print(X_train)\n",
        "#print(X_test)\n",
        "#print(y_train)\n",
        "#print(y_test)\n",
        "\n",
        "# construct system for the test data \n",
        "x_test=np.c_[np.ones((df.shape[0]-no_train,1)),X_test]\n",
        "print(x_test.shape)\n",
        "# Prediction is computed in the below \n",
        "y_predict=np.matmul(x_test,theta_vec)\n",
        "#print(y_predict)\n",
        "\n",
        "# plot the data \n",
        "df_serial=np.arange(0,len(X_test),1)\n",
        "plt.plot(df_serial,y_test,'b-',linewidth=1,label='Y_test data')\n",
        "plt.plot(df_serial,y_predict,'r-',linewidth=1,label='prediction data')\n",
        "plt.xlabel('input')\n",
        "plt.ylabel('house price')\n",
        "plt.title('Model 9: Data validation Prices of houses')\n",
        "plt.legend()\n",
        "plt.show()\n",
        "# problem 2 (1)\n",
        "mse=np.sum(np.square(y_predict-y_test))/(2*len(X_test))\n",
        "print('Average least squares error for the simple linear regression on test data',mse,'on the test data frame percentage', (1-percentage)*100)"
      ],
      "metadata": {
        "colab": {
          "base_uri": "https://localhost:8080/",
          "height": 330
        },
        "id": "3EJvfhiRvjC-",
        "outputId": "39cfd9ce-091e-4d91-c76f-49d3cfccb542"
      },
      "execution_count": 40,
      "outputs": [
        {
          "output_type": "stream",
          "name": "stdout",
          "text": [
            "(6, 2)\n"
          ]
        },
        {
          "output_type": "display_data",
          "data": {
            "text/plain": [
              "<Figure size 432x288 with 1 Axes>"
            ],
            "image/png": "[encoded data removed]"
          },
          "metadata": {
            "needs_background": "light"
          }
        },
        {
          "output_type": "stream",
          "name": "stdout",
          "text": [
            "Average least squares error for the simple linear regression on test data 13.519734815401625 on the test data frame percentage 19.999999999999996\n"
          ]
        }
      ]
    },
    {
      "cell_type": "markdown",
      "source": [
        "# Model 10: Price ~  Architecture type"
      ],
      "metadata": {
        "id": "CSExZk5Gt5py"
      }
    },
    {
      "cell_type": "code",
      "source": [
        "# define the training data and code \n",
        "index=10 # as predictor variable changed\n",
        "no_train=int(np.round(len(df)*percentage)) # round the number and then take into integer by the int command. np.int is the bad command\n",
        "print(no_train)\n",
        "# train the input data\n",
        "# DataFrame.iloc Purely integer-location based indexing for selection by position.\n",
        "X_train=df.iloc[0:no_train,index].values # take only Bathrooms\n",
        "x_train=np.c_[np.ones((no_train,1)),X_train]\n",
        "#print(x_train.shape)\n",
        "# train the output data\n",
        "y_train=df.iloc[0:no_train,df.shape[1]-1].values\n",
        "#print(y_train.shape)\n",
        "#print(x_train)\n",
        "#print(y_train)\n",
        "# theta parameters or weights of the linear regression model are computed using the normal form \n",
        "theta_vec=np.linalg.inv(x_train.T.dot(x_train)).dot(x_train.T).dot(y_train)\n",
        "disp('Following are the theta parameters or weights of the linear regression model')\n",
        "print(theta_vec)\n",
        "y_predict=np.matmul(x_train,theta_vec)\n",
        "#print(y_predict)\n",
        "# plot the data \n",
        "df_serial=np.arange(0,len(X_train),1)\n",
        "plt.plot(df_serial,y_train,'b-',linewidth=1,label='training data')\n",
        "plt.plot(df_serial,y_predict,'r-',linewidth=1,label='prediction data')\n",
        "plt.xlabel('input')\n",
        "plt.ylabel('house price')\n",
        "plt.title('Model 10: Prices of houses')\n",
        "plt.legend()\n",
        "plt.show()\n",
        "# problem 2 (1)\n",
        "mse=np.sum(np.square(y_predict-y_train))/(2*len(X_train))\n",
        "print('Average least squares error for the simple linear regression on training data',mse, 'on the training data frame percentage', percentage*100)"
      ],
      "metadata": {
        "colab": {
          "base_uri": "https://localhost:8080/",
          "height": 364
        },
        "id": "7ITI7gHbuiiC",
        "outputId": "3197dda3-f351-4457-b39c-fdf923668dbc"
      },
      "execution_count": 41,
      "outputs": [
        {
          "output_type": "stream",
          "name": "stdout",
          "text": [
            "22\n",
            "Following are the theta parameters or weights of the linear regression model\n",
            "[37.29482759  0.11206897]\n"
          ]
        },
        {
          "output_type": "display_data",
          "data": {
            "text/plain": [
              "<Figure size 432x288 with 1 Axes>"
            ],
            "image/png": "[encoded data removed]"
          },
          "metadata": {
            "needs_background": "light"
          }
        },
        {
          "output_type": "stream",
          "name": "stdout",
          "text": [
            "Average least squares error for the simple linear regression on training data 120.2381230407524 on the training data frame percentage 80.0\n"
          ]
        }
      ]
    },
    {
      "cell_type": "markdown",
      "source": [
        "# Model 10:\n",
        "Price=(θ_0 ) ̂+ (θ_1 ) ̂Local Price +(θ_2 ) ̂  Bathrooms +(θ_3 ) ̂  Land Area + (θ_4 ) ̂Living area +(θ_5 ) ̂  # Garages +(θ_6 ) ̂  ( # Rooms) + (θ_7 ) ̂(# Bedrooms) + (θ_8 ) ̂Age of Home +(θ_9 ) ̂  Construction type +(θ_10 ) ̂  Architecture type+(θ_11 ) ̂ ( # Fire places)\n",
        "\n",
        "where all $̂\\hat{\\theta_i}, i=0,11$ are zero except $i=0,10$ that come from the above table.   "
      ],
      "metadata": {
        "id": "c2XUo67_IlXt"
      }
    },
    {
      "cell_type": "code",
      "source": [
        "# Define the test Data Validation \n",
        "X_test=df.iloc[no_train:df.shape[0],index]\n",
        "y_test=df.iloc[no_train:df.shape[0],df.shape[1]-1].values  # .values only consider the values not the position and values both\n",
        "#print(X_train)\n",
        "#print(X_test)\n",
        "#print(y_train)\n",
        "#print(y_test)\n",
        "\n",
        "# construct system for the test data \n",
        "x_test=np.c_[np.ones((df.shape[0]-no_train,1)),X_test]\n",
        "print(x_test.shape)\n",
        "# Prediction is computed in the below \n",
        "y_predict=np.matmul(x_test,theta_vec)\n",
        "#print(y_predict)\n",
        "\n",
        "# plot the data \n",
        "df_serial=np.arange(0,len(X_test),1)\n",
        "plt.plot(df_serial,y_test,'b-',linewidth=1,label='Y_test data')\n",
        "plt.plot(df_serial,y_predict,'r-',linewidth=1,label='prediction data')\n",
        "plt.xlabel('input')\n",
        "plt.ylabel('house price')\n",
        "plt.title('Model 10: Data validation Prices of houses')\n",
        "plt.legend()\n",
        "plt.show()\n",
        "# problem 2 (1)\n",
        "mse=np.sum(np.square(y_predict-y_test))/(2*len(X_test))\n",
        "print('Average least squares error for the simple linear regression on test data',mse,'on the test data frame percentage', (1-percentage)*100)"
      ],
      "metadata": {
        "colab": {
          "base_uri": "https://localhost:8080/",
          "height": 330
        },
        "id": "_7ik_8VGv1gF",
        "outputId": "d28d0773-556f-4c05-a4ac-c96311b136d1"
      },
      "execution_count": 42,
      "outputs": [
        {
          "output_type": "stream",
          "name": "stdout",
          "text": [
            "(6, 2)\n"
          ]
        },
        {
          "output_type": "display_data",
          "data": {
            "text/plain": [
              "<Figure size 432x288 with 1 Axes>"
            ],
            "image/png": "[encoded data removed]"
          },
          "metadata": {
            "needs_background": "light"
          }
        },
        {
          "output_type": "stream",
          "name": "stdout",
          "text": [
            "Average least squares error for the simple linear regression on test data 11.389467895362593 on the test data frame percentage 19.999999999999996\n"
          ]
        }
      ]
    },
    {
      "cell_type": "markdown",
      "source": [
        "# Model 11: Price ~  # Fire places"
      ],
      "metadata": {
        "id": "fOKvF0eVt8bS"
      }
    },
    {
      "cell_type": "code",
      "source": [
        "# define the training data and code \n",
        "index=11 # as predictor variable changed\n",
        "no_train=int(np.round(len(df)*percentage)) # round the number and then take into integer by the int command. np.int is the bad command\n",
        "print(no_train)\n",
        "# train the input data\n",
        "# DataFrame.iloc Purely integer-location based indexing for selection by position.\n",
        "X_train=df.iloc[0:no_train,index].values # take only Bathrooms\n",
        "x_train=np.c_[np.ones((no_train,1)),X_train]\n",
        "#print(x_train.shape)\n",
        "# train the output data\n",
        "y_train=df.iloc[0:no_train,df.shape[1]-1].values\n",
        "#print(y_train.shape)\n",
        "#print(x_train)\n",
        "#print(y_train)\n",
        "# theta parameters or weights of the linear regression model are computed using the normal form \n",
        "theta_vec=np.linalg.inv(x_train.T.dot(x_train)).dot(x_train.T).dot(y_train)\n",
        "disp('Following are the theta parameters or weights of the linear regression model')\n",
        "print(theta_vec)\n",
        "y_predict=np.matmul(x_train,theta_vec)\n",
        "#print(y_predict)\n",
        "# plot the data \n",
        "df_serial=np.arange(0,len(X_train),1)\n",
        "plt.plot(df_serial,y_train,'b-',linewidth=1,label='training data')\n",
        "plt.plot(df_serial,y_predict,'r-',linewidth=1,label='prediction data')\n",
        "plt.xlabel('input')\n",
        "plt.ylabel('house price')\n",
        "plt.title('Model 11: Prices of houses')\n",
        "plt.legend()\n",
        "plt.show()\n",
        "# problem 2 (1)\n",
        "mse=np.sum(np.square(y_predict-y_train))/(2*len(X_train))\n",
        "print('Average least squares error for the simple linear regression on training data',mse, 'on the training data frame percentage', percentage*100)"
      ],
      "metadata": {
        "colab": {
          "base_uri": "https://localhost:8080/",
          "height": 364
        },
        "id": "FunL2gVMumDT",
        "outputId": "83b40f29-70c3-406c-af5b-9367d5a6b569"
      },
      "execution_count": 44,
      "outputs": [
        {
          "output_type": "stream",
          "name": "stdout",
          "text": [
            "22\n",
            "Following are the theta parameters or weights of the linear regression model\n",
            "[32.20625 19.14375]\n"
          ]
        },
        {
          "output_type": "display_data",
          "data": {
            "text/plain": [
              "<Figure size 432x288 with 1 Axes>"
            ],
            "image/png": "[encoded data removed]"
          },
          "metadata": {
            "needs_background": "light"
          }
        },
        {
          "output_type": "stream",
          "name": "stdout",
          "text": [
            "Average least squares error for the simple linear regression on training data 83.89419034090912 on the training data frame percentage 80.0\n"
          ]
        }
      ]
    },
    {
      "cell_type": "markdown",
      "source": [
        "# Model 11:\n",
        "Price=(θ_0 ) ̂+ (θ_1 ) ̂Local Price +(θ_2 ) ̂  Bathrooms +(θ_3 ) ̂  Land Area + (θ_4 ) ̂Living area +(θ_5 ) ̂  # Garages +(θ_6 ) ̂  ( # Rooms) + (θ_7 ) ̂(# Bedrooms) + (θ_8 ) ̂Age of Home +(θ_9 ) ̂  Construction type +(θ_10 ) ̂  Architecture type+(θ_11 ) ̂ ( # Fire places)\n",
        "\n",
        "where all $̂\\hat{\\theta_i}, i=0,11$ are zero except $i=0,11$ that come from the above table.   "
      ],
      "metadata": {
        "id": "o5uiEfRNIwR9"
      }
    },
    {
      "cell_type": "code",
      "source": [
        "# Define the test Data Validation \n",
        "X_test=df.iloc[no_train:df.shape[0],index]\n",
        "y_test=df.iloc[no_train:df.shape[0],df.shape[1]-1].values  # .values only consider the values not the position and values both\n",
        "#print(X_train)\n",
        "#print(X_test)\n",
        "#print(y_train)\n",
        "#print(y_test)\n",
        "\n",
        "# construct system for the test data \n",
        "x_test=np.c_[np.ones((df.shape[0]-no_train,1)),X_test]\n",
        "print(x_test.shape)\n",
        "# Prediction is computed in the below \n",
        "y_predict=np.matmul(x_test,theta_vec)\n",
        "#print(y_predict)\n",
        "\n",
        "# plot the data \n",
        "df_serial=np.arange(0,len(X_test),1)\n",
        "plt.plot(df_serial,y_test,'b-',linewidth=1,label='Y_test data')\n",
        "plt.plot(df_serial,y_predict,'r-',linewidth=1,label='prediction data')\n",
        "plt.xlabel('input')\n",
        "plt.ylabel('house price')\n",
        "plt.title('Model 11: Data validation Prices of houses')\n",
        "plt.legend()\n",
        "plt.show()\n",
        "# problem 2 (1)\n",
        "mse=np.sum(np.square(y_predict-y_test))/(2*len(X_test))\n",
        "print('Average least squares error for the simple linear regression on test data',mse,'on the test data frame percentage', (1-percentage)*100)"
      ],
      "metadata": {
        "colab": {
          "base_uri": "https://localhost:8080/",
          "height": 330
        },
        "id": "qLtbaqtAv-Yl",
        "outputId": "03ef62c3-69f3-44a9-c7c2-03f70fbb70b4"
      },
      "execution_count": 45,
      "outputs": [
        {
          "output_type": "stream",
          "name": "stdout",
          "text": [
            "(6, 2)\n"
          ]
        },
        {
          "output_type": "display_data",
          "data": {
            "text/plain": [
              "<Figure size 432x288 with 1 Axes>"
            ],
            "image/png": "[encoded data removed]"
          },
          "metadata": {
            "needs_background": "light"
          }
        },
        {
          "output_type": "stream",
          "name": "stdout",
          "text": [
            "Average least squares error for the simple linear regression on test data 45.69063476562505 on the test data frame percentage 19.999999999999996\n"
          ]
        }
      ]
    },
    {
      "cell_type": "markdown",
      "source": [
        "# Without Local Price,\tand Bathrooms"
      ],
      "metadata": {
        "id": "x5KLECJnvSLi"
      }
    },
    {
      "cell_type": "code",
      "source": [
        "from numpy.lib.function_base import disp\n",
        "percentage= .80 # this will be working in rest of this problem \n",
        "# define the training data \n",
        "# first define how many examples we want 65 % data in the training set  \n",
        "no_train=int(np.round(len(df)*percentage)) # round the number and then take into integer by the int command. np.int is the bad command\n",
        "print(no_train)\n",
        "\n",
        "# train the input data\n",
        "# DataFrame.iloc Purely integer-location based indexing for selection by position.\n",
        "X_train=df.iloc[0:no_train,3:df.shape[1]-1] # remove House ID from the df and target vealue \"price\" from the training data frame\n",
        "df_theta0_vec=np.ones((len(X_train),1))\n",
        "x_train=np.append(df_theta0_vec,X_train,axis=1)\n",
        "#print(x_train.shape)\n",
        "# train the output data\n",
        "y_train=df.iloc[0:no_train,df.shape[1]-1].values\n",
        "#print(y_train.shape)\n",
        "#print(x_train)\n",
        "#print(y_train)\n",
        "# theta parameters or weights of the linear regression model are computed using the normal form \n",
        "theta_vec=np.linalg.inv(x_train.T.dot(x_train)).dot(x_train.T).dot(y_train)\n",
        "print('Following are the theta parameters or weights of the linear regression model for the data frame of percentage',percentage*100)\n",
        "print(theta_vec)\n",
        "model_parameters=theta_vec\n",
        "y_predict=np.matmul(x_train,theta_vec)\n",
        "#print(y_predict)\n",
        "\n",
        "# plot the data \n",
        "df_serial=np.arange(0,len(X_train),1)\n",
        "\n",
        "plt.plot(df_serial,y_train,'b-',linewidth=1,label='training data')\n",
        "plt.plot(df_serial,y_predict,'r-',linewidth=1,label='prediction data')\n",
        "plt.xlabel('input')\n",
        "plt.ylabel('house price')\n",
        "plt.title('Model 0: Prices of houses')\n",
        "plt.legend()\n",
        "plt.show()\n",
        "# problem 2 (1)\n",
        "mse=np.sum(np.square(y_predict-y_train))/(2*len(X_train))\n",
        "print('Average least squares error for the simple linear regression on training data',mse, 'on the training data frame percentage', percentage*100)"
      ],
      "metadata": {
        "colab": {
          "base_uri": "https://localhost:8080/",
          "height": 382
        },
        "id": "GwG6ao7otuOP",
        "outputId": "c89aa1c4-1957-4766-e4f2-0344f2010a32"
      },
      "execution_count": 152,
      "outputs": [
        {
          "output_type": "stream",
          "name": "stdout",
          "text": [
            "22\n",
            "Following are the theta parameters or weights of the linear regression model for the data frame of percentage 80.0\n",
            "[ 3.97419926  0.35856205 19.68735881  3.85856551  0.88955838 -2.03420624\n",
            " -0.18150314  1.31031421  0.5831026   4.48793874]\n"
          ]
        },
        {
          "output_type": "display_data",
          "data": {
            "text/plain": [
              "<Figure size 432x288 with 1 Axes>"
            ],
            "image/png": "[encoded data removed]"
          },
          "metadata": {
            "needs_background": "light"
          }
        },
        {
          "output_type": "stream",
          "name": "stdout",
          "text": [
            "Average least squares error for the simple linear regression on training data 5.8601018406563075 on the training data frame percentage 80.0\n"
          ]
        }
      ]
    },
    {
      "cell_type": "code",
      "source": [
        "# Define the test Data\n",
        "X_test=df.iloc[no_train:df.shape[0],3:df.shape[1]-1]\n",
        "y_test=df.iloc[no_train:df.shape[0],df.shape[1]-1].values  # .values only consider the values not the position and values both\n",
        "#print(X_train)\n",
        "#print(X_test)\n",
        "#print(y_train)\n",
        "#print(y_test)\n",
        "\n",
        "# construct system for the test data \n",
        "df_theta0_vec=np.ones((len(X_test),1))\n",
        "x_test=np.append(df_theta0_vec,X_test,axis=1)\n",
        "print(x_test.shape)\n",
        "# Prediction is computed in the below \n",
        "y_predict=np.matmul(x_test,theta_vec)\n",
        "#print(y_predict)\n",
        "# plot the data \n",
        "df_serial=np.arange(0,len(X_test),1)\n",
        "plt.plot(df_serial,y_test,'b-',linewidth=1,label='y_test data')\n",
        "plt.plot(df_serial,y_predict,'r-',linewidth=1,label='prediction data')\n",
        "plt.xlabel('input')\n",
        "plt.ylabel('house price')\n",
        "plt.title('Model 0: Data validation Prices of houses')\n",
        "plt.legend()\n",
        "plt.show()\n",
        "mse=np.sum(np.square(y_predict-y_test))/(2*len(X_test))\n",
        "print('Average least squares error for the simple linear regression on test data',mse, 'on the test data frame percentage', (1-percentage)*100)"
      ],
      "metadata": {
        "colab": {
          "base_uri": "https://localhost:8080/",
          "height": 330
        },
        "id": "qczPfjAau9Qh",
        "outputId": "372885dd-ec1a-4ab3-c489-f303b00efc14"
      },
      "execution_count": 155,
      "outputs": [
        {
          "output_type": "stream",
          "name": "stdout",
          "text": [
            "(6, 10)\n"
          ]
        },
        {
          "output_type": "display_data",
          "data": {
            "text/plain": [
              "<Figure size 432x288 with 1 Axes>"
            ],
            "image/png": "[encoded data removed]"
          },
          "metadata": {
            "needs_background": "light"
          }
        },
        {
          "output_type": "stream",
          "name": "stdout",
          "text": [
            "Average least squares error for the simple linear regression on test data 14.49806378634738 on the test data frame percentage 19.999999999999996\n"
          ]
        }
      ]
    },
    {
      "cell_type": "code",
      "source": [
        "X_train"
      ],
      "metadata": {
        "colab": {
          "base_uri": "https://localhost:8080/",
          "height": 739
        },
        "id": "86wodKyUuAcQ",
        "outputId": "ad005114-4867-47cb-e447-1e28509cae91"
      },
      "execution_count": 153,
      "outputs": [
        {
          "output_type": "execute_result",
          "data": {
            "text/plain": [
              "    Land Area  Living area  # Garages  # Rooms  # Bedrooms  Age of home  \\\n",
              "0      3.4720        0.998        1.0        7           4           42   \n",
              "1      3.5310        1.500        2.0        7           4           62   \n",
              "2      2.2750        1.175        1.0        6           3           40   \n",
              "3      4.0500        1.232        1.0        6           3           54   \n",
              "4      4.4550        1.121        1.0        6           3           42   \n",
              "5      4.4550        0.988        1.0        6           3           56   \n",
              "6      5.8500        1.240        1.0        7           3           51   \n",
              "7      9.5200        1.501        0.0        6           3           32   \n",
              "8      9.8000        3.420        2.0       10           5           42   \n",
              "9     12.8000        3.000        2.0        9           5           14   \n",
              "10     6.4350        1.225        2.0        6           3           32   \n",
              "11     4.9883        1.552        1.0        6           3           30   \n",
              "12     5.5200        0.975        1.0        5           2           30   \n",
              "13     6.6660        1.121        2.0        6           3           32   \n",
              "14     5.0000        1.020        0.0        5           2           46   \n",
              "15     9.5200        1.501        0.0        6           3           32   \n",
              "16     5.1500        1.664        2.0        8           4           50   \n",
              "17     6.9020        1.488        1.5        7           3           22   \n",
              "18     7.1020        1.376        1.0        6           3           17   \n",
              "19     7.8000        1.500        1.5        7           3           23   \n",
              "20     5.5200        1.256        2.0        6           3           40   \n",
              "21     4.0000        1.690        1.0        6           3           22   \n",
              "\n",
              "    Construction type  Architecture type  # Fire places  \n",
              "0                   3                  1              0  \n",
              "1                   1                  1              0  \n",
              "2                   2                  1              0  \n",
              "3                   4                  1              0  \n",
              "4                   3                  1              0  \n",
              "5                   2                  1              0  \n",
              "6                   2                  1              1  \n",
              "7                   1                  1              0  \n",
              "8                   2                  1              1  \n",
              "9                   4                  1              1  \n",
              "10                  1                  1              0  \n",
              "11                  1                  2              0  \n",
              "12                  1                  2              0  \n",
              "13                  2                  1              0  \n",
              "14                  4                  1              1  \n",
              "15                  1                  1              0  \n",
              "16                  4                  1              0  \n",
              "17                  1                  1              1  \n",
              "18                  2                  1              0  \n",
              "19                  3                  3              0  \n",
              "20                  4                  1              1  \n",
              "21                  1                  1              0  "
            ],
            "text/html": [
              "\n",
              "  <div id=\"df-3e620403-fb9f-44b3-886a-af3ce575baea\">\n",
              "    <div class=\"colab-df-container\">\n",
              "      <div>\n",
              "<style scoped>\n",
              "    .dataframe tbody tr th:only-of-type {\n",
              "        vertical-align: middle;\n",
              "    }\n",
              "\n",
              "    .dataframe tbody tr th {\n",
              "        vertical-align: top;\n",
              "    }\n",
              "\n",
              "    .dataframe thead th {\n",
              "        text-align: right;\n",
              "    }\n",
              "</style>\n",
              "<table border=\"1\" class=\"dataframe\">\n",
              "  <thead>\n",
              "    <tr style=\"text-align: right;\">\n",
              "      <th></th>\n",
              "      <th>Land Area</th>\n",
              "      <th>Living area</th>\n",
              "      <th># Garages</th>\n",
              "      <th># Rooms</th>\n",
              "      <th># Bedrooms</th>\n",
              "      <th>Age of home</th>\n",
              "      <th>Construction type</th>\n",
              "      <th>Architecture type</th>\n",
              "      <th># Fire places</th>\n",
              "    </tr>\n",
              "  </thead>\n",
              "  <tbody>\n",
              "    <tr>\n",
              "      <th>0</th>\n",
              "      <td>3.4720</td>\n",
              "      <td>0.998</td>\n",
              "      <td>1.0</td>\n",
              "      <td>7</td>\n",
              "      <td>4</td>\n",
              "      <td>42</td>\n",
              "      <td>3</td>\n",
              "      <td>1</td>\n",
              "      <td>0</td>\n",
              "    </tr>\n",
              "    <tr>\n",
              "      <th>1</th>\n",
              "      <td>3.5310</td>\n",
              "      <td>1.500</td>\n",
              "      <td>2.0</td>\n",
              "      <td>7</td>\n",
              "      <td>4</td>\n",
              "      <td>62</td>\n",
              "      <td>1</td>\n",
              "      <td>1</td>\n",
              "      <td>0</td>\n",
              "    </tr>\n",
              "    <tr>\n",
              "      <th>2</th>\n",
              "      <td>2.2750</td>\n",
              "      <td>1.175</td>\n",
              "      <td>1.0</td>\n",
              "      <td>6</td>\n",
              "      <td>3</td>\n",
              "      <td>40</td>\n",
              "      <td>2</td>\n",
              "      <td>1</td>\n",
              "      <td>0</td>\n",
              "    </tr>\n",
              "    <tr>\n",
              "      <th>3</th>\n",
              "      <td>4.0500</td>\n",
              "      <td>1.232</td>\n",
              "      <td>1.0</td>\n",
              "      <td>6</td>\n",
              "      <td>3</td>\n",
              "      <td>54</td>\n",
              "      <td>4</td>\n",
              "      <td>1</td>\n",
              "      <td>0</td>\n",
              "    </tr>\n",
              "    <tr>\n",
              "      <th>4</th>\n",
              "      <td>4.4550</td>\n",
              "      <td>1.121</td>\n",
              "      <td>1.0</td>\n",
              "      <td>6</td>\n",
              "      <td>3</td>\n",
              "      <td>42</td>\n",
              "      <td>3</td>\n",
              "      <td>1</td>\n",
              "      <td>0</td>\n",
              "    </tr>\n",
              "    <tr>\n",
              "      <th>5</th>\n",
              "      <td>4.4550</td>\n",
              "      <td>0.988</td>\n",
              "      <td>1.0</td>\n",
              "      <td>6</td>\n",
              "      <td>3</td>\n",
              "      <td>56</td>\n",
              "      <td>2</td>\n",
              "      <td>1</td>\n",
              "      <td>0</td>\n",
              "    </tr>\n",
              "    <tr>\n",
              "      <th>6</th>\n",
              "      <td>5.8500</td>\n",
              "      <td>1.240</td>\n",
              "      <td>1.0</td>\n",
              "      <td>7</td>\n",
              "      <td>3</td>\n",
              "      <td>51</td>\n",
              "      <td>2</td>\n",
              "      <td>1</td>\n",
              "      <td>1</td>\n",
              "    </tr>\n",
              "    <tr>\n",
              "      <th>7</th>\n",
              "      <td>9.5200</td>\n",
              "      <td>1.501</td>\n",
              "      <td>0.0</td>\n",
              "      <td>6</td>\n",
              "      <td>3</td>\n",
              "      <td>32</td>\n",
              "      <td>1</td>\n",
              "      <td>1</td>\n",
              "      <td>0</td>\n",
              "    </tr>\n",
              "    <tr>\n",
              "      <th>8</th>\n",
              "      <td>9.8000</td>\n",
              "      <td>3.420</td>\n",
              "      <td>2.0</td>\n",
              "      <td>10</td>\n",
              "      <td>5</td>\n",
              "      <td>42</td>\n",
              "      <td>2</td>\n",
              "      <td>1</td>\n",
              "      <td>1</td>\n",
              "    </tr>\n",
              "    <tr>\n",
              "      <th>9</th>\n",
              "      <td>12.8000</td>\n",
              "      <td>3.000</td>\n",
              "      <td>2.0</td>\n",
              "      <td>9</td>\n",
              "      <td>5</td>\n",
              "      <td>14</td>\n",
              "      <td>4</td>\n",
              "      <td>1</td>\n",
              "      <td>1</td>\n",
              "    </tr>\n",
              "    <tr>\n",
              "      <th>10</th>\n",
              "      <td>6.4350</td>\n",
              "      <td>1.225</td>\n",
              "      <td>2.0</td>\n",
              "      <td>6</td>\n",
              "      <td>3</td>\n",
              "      <td>32</td>\n",
              "      <td>1</td>\n",
              "      <td>1</td>\n",
              "      <td>0</td>\n",
              "    </tr>\n",
              "    <tr>\n",
              "      <th>11</th>\n",
              "      <td>4.9883</td>\n",
              "      <td>1.552</td>\n",
              "      <td>1.0</td>\n",
              "      <td>6</td>\n",
              "      <td>3</td>\n",
              "      <td>30</td>\n",
              "      <td>1</td>\n",
              "      <td>2</td>\n",
              "      <td>0</td>\n",
              "    </tr>\n",
              "    <tr>\n",
              "      <th>12</th>\n",
              "      <td>5.5200</td>\n",
              "      <td>0.975</td>\n",
              "      <td>1.0</td>\n",
              "      <td>5</td>\n",
              "      <td>2</td>\n",
              "      <td>30</td>\n",
              "      <td>1</td>\n",
              "      <td>2</td>\n",
              "      <td>0</td>\n",
              "    </tr>\n",
              "    <tr>\n",
              "      <th>13</th>\n",
              "      <td>6.6660</td>\n",
              "      <td>1.121</td>\n",
              "      <td>2.0</td>\n",
              "      <td>6</td>\n",
              "      <td>3</td>\n",
              "      <td>32</td>\n",
              "      <td>2</td>\n",
              "      <td>1</td>\n",
              "      <td>0</td>\n",
              "    </tr>\n",
              "    <tr>\n",
              "      <th>14</th>\n",
              "      <td>5.0000</td>\n",
              "      <td>1.020</td>\n",
              "      <td>0.0</td>\n",
              "      <td>5</td>\n",
              "      <td>2</td>\n",
              "      <td>46</td>\n",
              "      <td>4</td>\n",
              "      <td>1</td>\n",
              "      <td>1</td>\n",
              "    </tr>\n",
              "    <tr>\n",
              "      <th>15</th>\n",
              "      <td>9.5200</td>\n",
              "      <td>1.501</td>\n",
              "      <td>0.0</td>\n",
              "      <td>6</td>\n",
              "      <td>3</td>\n",
              "      <td>32</td>\n",
              "      <td>1</td>\n",
              "      <td>1</td>\n",
              "      <td>0</td>\n",
              "    </tr>\n",
              "    <tr>\n",
              "      <th>16</th>\n",
              "      <td>5.1500</td>\n",
              "      <td>1.664</td>\n",
              "      <td>2.0</td>\n",
              "      <td>8</td>\n",
              "      <td>4</td>\n",
              "      <td>50</td>\n",
              "      <td>4</td>\n",
              "      <td>1</td>\n",
              "      <td>0</td>\n",
              "    </tr>\n",
              "    <tr>\n",
              "      <th>17</th>\n",
              "      <td>6.9020</td>\n",
              "      <td>1.488</td>\n",
              "      <td>1.5</td>\n",
              "      <td>7</td>\n",
              "      <td>3</td>\n",
              "      <td>22</td>\n",
              "      <td>1</td>\n",
              "      <td>1</td>\n",
              "      <td>1</td>\n",
              "    </tr>\n",
              "    <tr>\n",
              "      <th>18</th>\n",
              "      <td>7.1020</td>\n",
              "      <td>1.376</td>\n",
              "      <td>1.0</td>\n",
              "      <td>6</td>\n",
              "      <td>3</td>\n",
              "      <td>17</td>\n",
              "      <td>2</td>\n",
              "      <td>1</td>\n",
              "      <td>0</td>\n",
              "    </tr>\n",
              "    <tr>\n",
              "      <th>19</th>\n",
              "      <td>7.8000</td>\n",
              "      <td>1.500</td>\n",
              "      <td>1.5</td>\n",
              "      <td>7</td>\n",
              "      <td>3</td>\n",
              "      <td>23</td>\n",
              "      <td>3</td>\n",
              "      <td>3</td>\n",
              "      <td>0</td>\n",
              "    </tr>\n",
              "    <tr>\n",
              "      <th>20</th>\n",
              "      <td>5.5200</td>\n",
              "      <td>1.256</td>\n",
              "      <td>2.0</td>\n",
              "      <td>6</td>\n",
              "      <td>3</td>\n",
              "      <td>40</td>\n",
              "      <td>4</td>\n",
              "      <td>1</td>\n",
              "      <td>1</td>\n",
              "    </tr>\n",
              "    <tr>\n",
              "      <th>21</th>\n",
              "      <td>4.0000</td>\n",
              "      <td>1.690</td>\n",
              "      <td>1.0</td>\n",
              "      <td>6</td>\n",
              "      <td>3</td>\n",
              "      <td>22</td>\n",
              "      <td>1</td>\n",
              "      <td>1</td>\n",
              "      <td>0</td>\n",
              "    </tr>\n",
              "  </tbody>\n",
              "</table>\n",
              "</div>\n",
              "      <button class=\"colab-df-convert\" onclick=\"convertToInteractive('df-3e620403-fb9f-44b3-886a-af3ce575baea')\"\n",
              "              title=\"Convert this dataframe to an interactive table.\"\n",
              "              style=\"display:none;\">\n",
              "        \n",
              "  <svg xmlns=\"http://www.w3.org/2000/svg\" height=\"24px\"viewBox=\"0 0 24 24\"\n",
              "       width=\"24px\">\n",
              "    <path d=\"M0 0h24v24H0V0z\" fill=\"none\"/>\n",
              "    <path d=\"M18.56 5.44l.94 2.06.94-2.06 2.06-.94-2.06-.94-.94-2.06-.94 2.06-2.06.94zm-11 1L8.5 8.5l.94-2.06 2.06-.94-2.06-.94L8.5 2.5l-.94 2.06-2.06.94zm10 10l.94 2.06.94-2.06 2.06-.94-2.06-.94-.94-2.06-.94 2.06-2.06.94z\"/><path d=\"M17.41 7.96l-1.37-1.37c-.4-.4-.92-.59-1.43-.59-.52 0-1.04.2-1.43.59L10.3 9.45l-7.72 7.72c-.78.78-.78 2.05 0 2.83L4 21.41c.39.39.9.59 1.41.59.51 0 1.02-.2 1.41-.59l7.78-7.78 2.81-2.81c.8-.78.8-2.07 0-2.86zM5.41 20L4 18.59l7.72-7.72 1.47 1.35L5.41 20z\"/>\n",
              "  </svg>\n",
              "      </button>\n",
              "      \n",
              "  <style>\n",
              "    .colab-df-container {\n",
              "      display:flex;\n",
              "      flex-wrap:wrap;\n",
              "      gap: 12px;\n",
              "    }\n",
              "\n",
              "    .colab-df-convert {\n",
              "      background-color: #E8F0FE;\n",
              "      border: none;\n",
              "      border-radius: 50%;\n",
              "      cursor: pointer;\n",
              "      display: none;\n",
              "      fill: #1967D2;\n",
              "      height: 32px;\n",
              "      padding: 0 0 0 0;\n",
              "      width: 32px;\n",
              "    }\n",
              "\n",
              "    .colab-df-convert:hover {\n",
              "      background-color: #E2EBFA;\n",
              "      box-shadow: 0px 1px 2px rgba(60, 64, 67, 0.3), 0px 1px 3px 1px rgba(60, 64, 67, 0.15);\n",
              "      fill: #174EA6;\n",
              "    }\n",
              "\n",
              "    [theme=dark] .colab-df-convert {\n",
              "      background-color: #3B4455;\n",
              "      fill: #D2E3FC;\n",
              "    }\n",
              "\n",
              "    [theme=dark] .colab-df-convert:hover {\n",
              "      background-color: #434B5C;\n",
              "      box-shadow: 0px 1px 3px 1px rgba(0, 0, 0, 0.15);\n",
              "      filter: drop-shadow(0px 1px 2px rgba(0, 0, 0, 0.3));\n",
              "      fill: #FFFFFF;\n",
              "    }\n",
              "  </style>\n",
              "\n",
              "      <script>\n",
              "        const buttonEl =\n",
              "          document.querySelector('#df-3e620403-fb9f-44b3-886a-af3ce575baea button.colab-df-convert');\n",
              "        buttonEl.style.display =\n",
              "          google.colab.kernel.accessAllowed ? 'block' : 'none';\n",
              "\n",
              "        async function convertToInteractive(key) {\n",
              "          const element = document.querySelector('#df-3e620403-fb9f-44b3-886a-af3ce575baea');\n",
              "          const dataTable =\n",
              "            await google.colab.kernel.invokeFunction('convertToInteractive',\n",
              "                                                     [key], {});\n",
              "          if (!dataTable) return;\n",
              "\n",
              "          const docLinkHtml = 'Like what you see? Visit the ' +\n",
              "            '<a target=\"_blank\" href=https://colab.research.google.com/notebooks/data_table.ipynb>data table notebook</a>'\n",
              "            + ' to learn more about interactive tables.';\n",
              "          element.innerHTML = '';\n",
              "          dataTable['output_type'] = 'display_data';\n",
              "          await google.colab.output.renderOutput(dataTable, element);\n",
              "          const docLink = document.createElement('div');\n",
              "          docLink.innerHTML = docLinkHtml;\n",
              "          element.appendChild(docLink);\n",
              "        }\n",
              "      </script>\n",
              "    </div>\n",
              "  </div>\n",
              "  "
            ]
          },
          "metadata": {},
          "execution_count": 153
        }
      ]
    },
    {
      "cell_type": "code",
      "source": [
        "df.head()"
      ],
      "metadata": {
        "colab": {
          "base_uri": "https://localhost:8080/",
          "height": 267
        },
        "id": "m97_JNovvHny",
        "outputId": "dd7f214c-102f-47e9-ae03-a28e2d96920c"
      },
      "execution_count": 156,
      "outputs": [
        {
          "output_type": "execute_result",
          "data": {
            "text/plain": [
              "   House ID  Local Price  Bathrooms  Land Area  Living area  # Garages  \\\n",
              "0         1       4.9176        1.0      3.472        0.998        1.0   \n",
              "1         2       5.0208        1.0      3.531        1.500        2.0   \n",
              "2         3       4.5429        1.0      2.275        1.175        1.0   \n",
              "3         4       4.5573        1.0      4.050        1.232        1.0   \n",
              "4         5       5.0597        1.0      4.455        1.121        1.0   \n",
              "\n",
              "   # Rooms  # Bedrooms  Age of home  Construction type  Architecture type  \\\n",
              "0        7           4           42                  3                  1   \n",
              "1        7           4           62                  1                  1   \n",
              "2        6           3           40                  2                  1   \n",
              "3        6           3           54                  4                  1   \n",
              "4        6           3           42                  3                  1   \n",
              "\n",
              "   # Fire places  Price (1000$)  \n",
              "0              0           25.9  \n",
              "1              0           29.5  \n",
              "2              0           27.9  \n",
              "3              0           25.9  \n",
              "4              0           29.9  "
            ],
            "text/html": [
              "\n",
              "  <div id=\"df-1410eff7-97a4-4b7a-8b98-bdffad2aa0c3\">\n",
              "    <div class=\"colab-df-container\">\n",
              "      <div>\n",
              "<style scoped>\n",
              "    .dataframe tbody tr th:only-of-type {\n",
              "        vertical-align: middle;\n",
              "    }\n",
              "\n",
              "    .dataframe tbody tr th {\n",
              "        vertical-align: top;\n",
              "    }\n",
              "\n",
              "    .dataframe thead th {\n",
              "        text-align: right;\n",
              "    }\n",
              "</style>\n",
              "<table border=\"1\" class=\"dataframe\">\n",
              "  <thead>\n",
              "    <tr style=\"text-align: right;\">\n",
              "      <th></th>\n",
              "      <th>House ID</th>\n",
              "      <th>Local Price</th>\n",
              "      <th>Bathrooms</th>\n",
              "      <th>Land Area</th>\n",
              "      <th>Living area</th>\n",
              "      <th># Garages</th>\n",
              "      <th># Rooms</th>\n",
              "      <th># Bedrooms</th>\n",
              "      <th>Age of home</th>\n",
              "      <th>Construction type</th>\n",
              "      <th>Architecture type</th>\n",
              "      <th># Fire places</th>\n",
              "      <th>Price (1000$)</th>\n",
              "    </tr>\n",
              "  </thead>\n",
              "  <tbody>\n",
              "    <tr>\n",
              "      <th>0</th>\n",
              "      <td>1</td>\n",
              "      <td>4.9176</td>\n",
              "      <td>1.0</td>\n",
              "      <td>3.472</td>\n",
              "      <td>0.998</td>\n",
              "      <td>1.0</td>\n",
              "      <td>7</td>\n",
              "      <td>4</td>\n",
              "      <td>42</td>\n",
              "      <td>3</td>\n",
              "      <td>1</td>\n",
              "      <td>0</td>\n",
              "      <td>25.9</td>\n",
              "    </tr>\n",
              "    <tr>\n",
              "      <th>1</th>\n",
              "      <td>2</td>\n",
              "      <td>5.0208</td>\n",
              "      <td>1.0</td>\n",
              "      <td>3.531</td>\n",
              "      <td>1.500</td>\n",
              "      <td>2.0</td>\n",
              "      <td>7</td>\n",
              "      <td>4</td>\n",
              "      <td>62</td>\n",
              "      <td>1</td>\n",
              "      <td>1</td>\n",
              "      <td>0</td>\n",
              "      <td>29.5</td>\n",
              "    </tr>\n",
              "    <tr>\n",
              "      <th>2</th>\n",
              "      <td>3</td>\n",
              "      <td>4.5429</td>\n",
              "      <td>1.0</td>\n",
              "      <td>2.275</td>\n",
              "      <td>1.175</td>\n",
              "      <td>1.0</td>\n",
              "      <td>6</td>\n",
              "      <td>3</td>\n",
              "      <td>40</td>\n",
              "      <td>2</td>\n",
              "      <td>1</td>\n",
              "      <td>0</td>\n",
              "      <td>27.9</td>\n",
              "    </tr>\n",
              "    <tr>\n",
              "      <th>3</th>\n",
              "      <td>4</td>\n",
              "      <td>4.5573</td>\n",
              "      <td>1.0</td>\n",
              "      <td>4.050</td>\n",
              "      <td>1.232</td>\n",
              "      <td>1.0</td>\n",
              "      <td>6</td>\n",
              "      <td>3</td>\n",
              "      <td>54</td>\n",
              "      <td>4</td>\n",
              "      <td>1</td>\n",
              "      <td>0</td>\n",
              "      <td>25.9</td>\n",
              "    </tr>\n",
              "    <tr>\n",
              "      <th>4</th>\n",
              "      <td>5</td>\n",
              "      <td>5.0597</td>\n",
              "      <td>1.0</td>\n",
              "      <td>4.455</td>\n",
              "      <td>1.121</td>\n",
              "      <td>1.0</td>\n",
              "      <td>6</td>\n",
              "      <td>3</td>\n",
              "      <td>42</td>\n",
              "      <td>3</td>\n",
              "      <td>1</td>\n",
              "      <td>0</td>\n",
              "      <td>29.9</td>\n",
              "    </tr>\n",
              "  </tbody>\n",
              "</table>\n",
              "</div>\n",
              "      <button class=\"colab-df-convert\" onclick=\"convertToInteractive('df-1410eff7-97a4-4b7a-8b98-bdffad2aa0c3')\"\n",
              "              title=\"Convert this dataframe to an interactive table.\"\n",
              "              style=\"display:none;\">\n",
              "        \n",
              "  <svg xmlns=\"http://www.w3.org/2000/svg\" height=\"24px\"viewBox=\"0 0 24 24\"\n",
              "       width=\"24px\">\n",
              "    <path d=\"M0 0h24v24H0V0z\" fill=\"none\"/>\n",
              "    <path d=\"M18.56 5.44l.94 2.06.94-2.06 2.06-.94-2.06-.94-.94-2.06-.94 2.06-2.06.94zm-11 1L8.5 8.5l.94-2.06 2.06-.94-2.06-.94L8.5 2.5l-.94 2.06-2.06.94zm10 10l.94 2.06.94-2.06 2.06-.94-2.06-.94-.94-2.06-.94 2.06-2.06.94z\"/><path d=\"M17.41 7.96l-1.37-1.37c-.4-.4-.92-.59-1.43-.59-.52 0-1.04.2-1.43.59L10.3 9.45l-7.72 7.72c-.78.78-.78 2.05 0 2.83L4 21.41c.39.39.9.59 1.41.59.51 0 1.02-.2 1.41-.59l7.78-7.78 2.81-2.81c.8-.78.8-2.07 0-2.86zM5.41 20L4 18.59l7.72-7.72 1.47 1.35L5.41 20z\"/>\n",
              "  </svg>\n",
              "      </button>\n",
              "      \n",
              "  <style>\n",
              "    .colab-df-container {\n",
              "      display:flex;\n",
              "      flex-wrap:wrap;\n",
              "      gap: 12px;\n",
              "    }\n",
              "\n",
              "    .colab-df-convert {\n",
              "      background-color: #E8F0FE;\n",
              "      border: none;\n",
              "      border-radius: 50%;\n",
              "      cursor: pointer;\n",
              "      display: none;\n",
              "      fill: #1967D2;\n",
              "      height: 32px;\n",
              "      padding: 0 0 0 0;\n",
              "      width: 32px;\n",
              "    }\n",
              "\n",
              "    .colab-df-convert:hover {\n",
              "      background-color: #E2EBFA;\n",
              "      box-shadow: 0px 1px 2px rgba(60, 64, 67, 0.3), 0px 1px 3px 1px rgba(60, 64, 67, 0.15);\n",
              "      fill: #174EA6;\n",
              "    }\n",
              "\n",
              "    [theme=dark] .colab-df-convert {\n",
              "      background-color: #3B4455;\n",
              "      fill: #D2E3FC;\n",
              "    }\n",
              "\n",
              "    [theme=dark] .colab-df-convert:hover {\n",
              "      background-color: #434B5C;\n",
              "      box-shadow: 0px 1px 3px 1px rgba(0, 0, 0, 0.15);\n",
              "      filter: drop-shadow(0px 1px 2px rgba(0, 0, 0, 0.3));\n",
              "      fill: #FFFFFF;\n",
              "    }\n",
              "  </style>\n",
              "\n",
              "      <script>\n",
              "        const buttonEl =\n",
              "          document.querySelector('#df-1410eff7-97a4-4b7a-8b98-bdffad2aa0c3 button.colab-df-convert');\n",
              "        buttonEl.style.display =\n",
              "          google.colab.kernel.accessAllowed ? 'block' : 'none';\n",
              "\n",
              "        async function convertToInteractive(key) {\n",
              "          const element = document.querySelector('#df-1410eff7-97a4-4b7a-8b98-bdffad2aa0c3');\n",
              "          const dataTable =\n",
              "            await google.colab.kernel.invokeFunction('convertToInteractive',\n",
              "                                                     [key], {});\n",
              "          if (!dataTable) return;\n",
              "\n",
              "          const docLinkHtml = 'Like what you see? Visit the ' +\n",
              "            '<a target=\"_blank\" href=https://colab.research.google.com/notebooks/data_table.ipynb>data table notebook</a>'\n",
              "            + ' to learn more about interactive tables.';\n",
              "          element.innerHTML = '';\n",
              "          dataTable['output_type'] = 'display_data';\n",
              "          await google.colab.output.renderOutput(dataTable, element);\n",
              "          const docLink = document.createElement('div');\n",
              "          docLink.innerHTML = docLinkHtml;\n",
              "          element.appendChild(docLink);\n",
              "        }\n",
              "      </script>\n",
              "    </div>\n",
              "  </div>\n",
              "  "
            ]
          },
          "metadata": {},
          "execution_count": 156
        }
      ]
    },
    {
      "cell_type": "markdown",
      "source": [
        "# Problem 2 (1) Conclusion: \n",
        "\n",
        "According to the 80% of training data we have the following conclusion. \n",
        "\n",
        "Training the Data: we consider 80 % data of the data frame\n",
        "Model 0 - Average least squares error: 2.3530518421310846\n",
        "\n",
        "Model 1 - Average least squares error: 6.850726514502525\n",
        "\n",
        "Model 2 - Average least squares error: 13.490530303030305\n",
        "\n",
        "Model 3 - Average least squares error: 60.724174324953175\n",
        "\n",
        "Model 4 - Average least squares error: 14.980336149786313\n",
        "\n",
        "Model 5 - Average least squares error: 92.7286915269197\n",
        "\n",
        "Model 6 - Average least squares error: 39.203260381593736\n",
        "\n",
        "Model 7 - Average least squares error: 58.33356495994428\n",
        "\n",
        "Model 8 - Average least squares error: 103.01675306323486\n",
        "\n",
        "Model 9 - Average least squares error: 116.132393801024\n",
        "\n",
        "Model 10 - Average least squares error: 120.2381230407524\n",
        "\n",
        "Model 11 - Average least squares error: 83.89419034090912\n",
        "\n",
        "\n",
        "\n",
        "Therefore according to the Average least squares error, Architecture type is the least effect on the final value. \n",
        "\n",
        "\n",
        "\n",
        "Data validation: we consider 20 % data of the data frame\n",
        "\n",
        "Model 0 Data validation error: 46.17503052581946\n",
        "\n",
        "Model 1 Data validation error: 52.39813421249863\n",
        "\n",
        "Model 2 Data validation error: 17.370956307870426\n",
        "\n",
        "Model 3 Data validation error: 33.35415566906369\n",
        "\n",
        "Model 4 Data validation error: 13.319820815966587\n",
        "\n",
        "Model 5 Data validation error: 17.288587932415854\n",
        "\n",
        "Model 6 Data validation error: 42.773009957831846\n",
        "\n",
        "Model 7 Data validation error: 17.53943108586182\n",
        "\n",
        "Model 8 Data validation error: 43.40245730638077\n",
        "\n",
        "Model 9 Data validation error: 13.519734815401625\n",
        "\n",
        "Model 10 Data validation error: 11.389467895362593\n",
        "\n",
        "Model 11 Data validation error: 45.69063476562505\n",
        "\n",
        "However, we can choose 20 % data randomly for the data validation. To make it simple, we choose the last 20% of data as data validation. We also can consider full data sets as well. We must change the percentage and change the test data accordingly. This we can do easily. \n",
        "\n",
        "\n",
        "# Problem 2 (2) Conclusion: \n",
        "\n",
        "I tried to build a linear regression model using different features independently. It looks like the bathroom or local price affects the final value most. Perhaps, there's some discrepancy in input feature vs. label in training and testing data. So, fitting a linear function to this data is tough. Surprisingly, using only the bathroom as the sole feature of this model is not a bad idea. So, Using only this feature (bathroom) is a good, optimal solution to predict the price.\n",
        "\n",
        "\n",
        "# Problem 2 (3) Conclusion: \n",
        "On the contrary, the Age of home, Construction type, and Architecture type are the least impact on the price. Architecture type is the least effect on the final value.\n",
        "\n",
        "# Final Remark on Problem 2: \n",
        "Analyzing all the plots described above, it looks like the model fits the data better. The model might overfit the data. We can choose the main important features or apply regularization to avoid overfitting. "
      ],
      "metadata": {
        "id": "y9zjwEpeJs7o"
      }
    },
    {
      "cell_type": "markdown",
      "source": [
        "# Problem 3\n",
        "\n",
        "Implement a locally weighted linear regression model for the data from Question 1. Refer to Slide 33 from Lecture 4 for reference. You should implement your own version of linear regression either using gradient descent or normal equations. **You SHOULD NOT use any pre-packaged library such as Sci-Kit Learn.**\n",
        "\n",
        "Answer the following questions: \n",
        "\n",
        "1. Do you need any basis functions when using the locally weighted approach?\n",
        "\n",
        "2. What is the difference between this implementation and the one for Question 1?"
      ],
      "metadata": {
        "id": "ulTR5DFK9ubX"
      }
    },
    {
      "cell_type": "markdown",
      "source": [
        "# Solution of Problem 3\n"
      ],
      "metadata": {
        "id": "2-Xam2Ge-MgY"
      }
    },
    {
      "cell_type": "code",
      "source": [
        "#import libraries\n",
        "import numpy as np\n",
        "import matplotlib.pyplot as plt\n",
        "import pandas as pd"
      ],
      "metadata": {
        "id": "98DLdzrbutyX"
      },
      "execution_count": 144,
      "outputs": []
    },
    {
      "cell_type": "code",
      "source": [
        "# load the train data\n",
        "X_train=np.load('/content/drive/MyDrive/Colab Notebooks/CS 5783 ML/Assignment1/x_train.npy')\n",
        "y_train=np.load('/content/drive/MyDrive/Colab Notebooks/CS 5783 ML/Assignment1/y_train.npy')\n",
        "# load the test data \n",
        "X_test=np.load('/content/drive/MyDrive/Colab Notebooks/CS 5783 ML/Assignment1/x_test.npy')\n",
        "y_test=np.load('/content/drive/MyDrive/Colab Notebooks/CS 5783 ML/Assignment1/y_test.npy')"
      ],
      "metadata": {
        "id": "FgTHSgk3vSj3"
      },
      "execution_count": 145,
      "outputs": []
    },
    {
      "cell_type": "code",
      "source": [
        "tau=0.02 # Initialize bandwidth started with tau=.05, but the least value is close to  tau=.02 and close to 1 does not give a good fit. \n",
        "# load the train data\n",
        "X_train=np.load('/content/drive/MyDrive/Colab Notebooks/CS 5783 ML/Assignment1/x_train.npy')\n",
        "y_train=np.load('/content/drive/MyDrive/Colab Notebooks/CS 5783 ML/Assignment1/y_train.npy')\n",
        "# load the test data \n",
        "#X_test=np.load('/content/drive/MyDrive/Colab Notebooks/CS 5783 ML/Assignment1/x_test.npy')\n",
        "X_test=X_train\n",
        "y_test=np.load('/content/drive/MyDrive/Colab Notebooks/CS 5783 ML/Assignment1/y_test.npy')\n",
        "m=X_train.shape[0] # no. of examples in the training data\n",
        "w= np.mat(np.eye(m)) # define the weight matrix\n",
        "Y_test=[]\n",
        "for x in X_test:\n",
        "  x_train=np.c_[np.ones((m,1)),X_train]\n",
        "  m_qx= np.mat([1,x])\n",
        "  for i in range(m):\n",
        "    #xi=X_train[i]\n",
        "    d=x-X_train[i]\n",
        "    w[i,i]=np.exp(d * d.T / (-2.0 * tau**2))\n",
        "  #calculate theta\n",
        "  theta= np.linalg.inv(x_train.T.dot(w).dot(x_train)).dot(x_train.T).dot(w).dot(y_train)\n",
        "  #theta= ((np.linalg.inv((x_train.T.dot(w)).dot(x_train)).dot(x_train.T)).dot(w)).dot(y_train)\n",
        "  y_predict = np.dot(m_qx,theta.T)\n",
        "  Y_test.append(y_predict[0,0])\n",
        "  #Y_test.append(y_predict[0][0])\n",
        "input_x=np.array(X_train)\n",
        "output_y=np.array(y_train)\n",
        "plt.plot(input_x,output_y,'bo',linewidth=1,label='training data')\n",
        "Y_test=np.array(Y_test)\n",
        "Y_test=np.reshape(Y_test,[Y_test.shape[0],-1])\n",
        "plt.plot(X_train, Y_test,'r^',linewidth=3,label='predicted data')\n",
        "plt.legend()\n",
        "plt.show"
      ],
      "metadata": {
        "colab": {
          "base_uri": "https://localhost:8080/",
          "height": 337
        },
        "id": "k0zROkEgpzKR",
        "outputId": "15786286-f938-48a5-830f-6fb8e7930c10"
      },
      "execution_count": 146,
      "outputs": [
        {
          "output_type": "stream",
          "name": "stderr",
          "text": [
            "/usr/local/lib/python3.7/dist-packages/numpy/matrixlib/defmatrix.py:145: VisibleDeprecationWarning: Creating an ndarray from ragged nested sequences (which is a list-or-tuple of lists-or-tuples-or ndarrays with different lengths or shapes) is deprecated. If you meant to do this, you must specify 'dtype=object' when creating the ndarray.\n",
            "  arr = N.array(data, dtype=dtype, copy=copy)\n"
          ]
        },
        {
          "output_type": "execute_result",
          "data": {
            "text/plain": [
              "<function matplotlib.pyplot.show(*args, **kw)>"
            ]
          },
          "metadata": {},
          "execution_count": 146
        },
        {
          "output_type": "display_data",
          "data": {
            "text/plain": [
              "<Figure size 432x288 with 1 Axes>"
            ],
            "image/png": "[encoded data removed]"
          },
          "metadata": {
            "needs_background": "light"
          }
        }
      ]
    },
    {
      "cell_type": "markdown",
      "source": [
        "# Good fit tau:\n",
        "\n",
        "Initialize bandwidth tau=.02 is better because tau=0.01 started to give us the divergence. Also, when tau=1, the fitted line moves away from the actual data. Finally, the simulation shows a good fit when the tau lies in .09 to .02. Moreover, Initialize bandwidth started with tau=.05, but the least value is close to  tau=.02 and close to 1 does not give a good fit. "
      ],
      "metadata": {
        "id": "1Vge33nqrQsU"
      }
    },
    {
      "cell_type": "markdown",
      "source": [
        "# 3(1). \n",
        "\n",
        "When non-linear relationships exist between dependent and independent variables, the locally weighted linear regression model gives us a better prediction. In contrast, the Linear regression model needs a basis function to fit the nonlinear model like in Question 1. Moreover, the linear regression model finds the parameters $\\theta$ once the model is fitted. Therefore we can store $\\theta$  and use them later to make the predictions for other data. In contrast, locally weighted linear regression always uses the training set around the query points. Therefore, this model doesn't need any basis functions when using the locally weighted approach in a nonlinear model like this.   \n",
        "\n",
        "\n"
      ],
      "metadata": {
        "id": "569ovYFJPUCN"
      }
    },
    {
      "cell_type": "markdown",
      "source": [
        "# 3(2).\n",
        "\n",
        "There is a  difference between the implementation of a locally weighted linear regression model and Simple linear regression model from Question 1 in the data.\n",
        "\n",
        "The simple linear regression model uses the same parameters for all queries, and all errors affect the learned linear prediction. Locally weighted regression model, on the other hand, learns a linear prediction that is only good locally because far away errors do not weight as heavily as local ones.\n",
        "\n",
        "The big difference is that the Locally weighted regression model doesn't need any basis functions to fit the nonlinear shape like Example 1 data, whereas the Linear regression model needs a basis function to fit the nonlinear model like in Question 1."
      ],
      "metadata": {
        "id": "vCufC2jMPXEt"
      }
    }
  ]
}